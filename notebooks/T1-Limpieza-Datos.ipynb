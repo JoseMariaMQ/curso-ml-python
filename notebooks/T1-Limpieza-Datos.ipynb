{
 "cells": [
  {
   "cell_type": "markdown",
   "metadata": {
    "pycharm": {
     "name": "#%% md\n"
    }
   },
   "source": [
    "## Carga de datos a través de la funcion read_csv"
   ]
  },
  {
   "cell_type": "code",
   "execution_count": 1,
   "outputs": [],
   "source": [
    "import pandas as pd\n",
    "import os"
   ],
   "metadata": {
    "collapsed": false,
    "pycharm": {
     "name": "#%%\n"
    }
   }
  },
  {
   "cell_type": "code",
   "execution_count": 2,
   "outputs": [],
   "source": [
    "mainpath = \"/opt/datasets/\"\n",
    "filename = \"titanic/titanic3.csv\"\n",
    "fullpath =  os.path.join(mainpath, filename)"
   ],
   "metadata": {
    "collapsed": false,
    "pycharm": {
     "name": "#%%\n"
    }
   }
  },
  {
   "cell_type": "code",
   "execution_count": 3,
   "outputs": [],
   "source": [
    "data = pd.read_csv(fullpath)"
   ],
   "metadata": {
    "collapsed": false,
    "pycharm": {
     "name": "#%%\n"
    }
   }
  },
  {
   "cell_type": "code",
   "execution_count": 5,
   "outputs": [
    {
     "data": {
      "text/plain": "   pclass  survived                                             name     sex  \\\n0       1         1                    Allen, Miss. Elisabeth Walton  female   \n1       1         1                   Allison, Master. Hudson Trevor    male   \n2       1         0                     Allison, Miss. Helen Loraine  female   \n3       1         0             Allison, Mr. Hudson Joshua Creighton    male   \n4       1         0  Allison, Mrs. Hudson J C (Bessie Waldo Daniels)  female   \n\n       age  sibsp  parch  ticket      fare    cabin embarked boat   body  \\\n0  29.0000      0      0   24160  211.3375       B5        S    2    NaN   \n1   0.9167      1      2  113781  151.5500  C22 C26        S   11    NaN   \n2   2.0000      1      2  113781  151.5500  C22 C26        S  NaN    NaN   \n3  30.0000      1      2  113781  151.5500  C22 C26        S  NaN  135.0   \n4  25.0000      1      2  113781  151.5500  C22 C26        S  NaN    NaN   \n\n                         home.dest  \n0                     St Louis, MO  \n1  Montreal, PQ / Chesterville, ON  \n2  Montreal, PQ / Chesterville, ON  \n3  Montreal, PQ / Chesterville, ON  \n4  Montreal, PQ / Chesterville, ON  ",
      "text/html": "<div>\n<style scoped>\n    .dataframe tbody tr th:only-of-type {\n        vertical-align: middle;\n    }\n\n    .dataframe tbody tr th {\n        vertical-align: top;\n    }\n\n    .dataframe thead th {\n        text-align: right;\n    }\n</style>\n<table border=\"1\" class=\"dataframe\">\n  <thead>\n    <tr style=\"text-align: right;\">\n      <th></th>\n      <th>pclass</th>\n      <th>survived</th>\n      <th>name</th>\n      <th>sex</th>\n      <th>age</th>\n      <th>sibsp</th>\n      <th>parch</th>\n      <th>ticket</th>\n      <th>fare</th>\n      <th>cabin</th>\n      <th>embarked</th>\n      <th>boat</th>\n      <th>body</th>\n      <th>home.dest</th>\n    </tr>\n  </thead>\n  <tbody>\n    <tr>\n      <th>0</th>\n      <td>1</td>\n      <td>1</td>\n      <td>Allen, Miss. Elisabeth Walton</td>\n      <td>female</td>\n      <td>29.0000</td>\n      <td>0</td>\n      <td>0</td>\n      <td>24160</td>\n      <td>211.3375</td>\n      <td>B5</td>\n      <td>S</td>\n      <td>2</td>\n      <td>NaN</td>\n      <td>St Louis, MO</td>\n    </tr>\n    <tr>\n      <th>1</th>\n      <td>1</td>\n      <td>1</td>\n      <td>Allison, Master. Hudson Trevor</td>\n      <td>male</td>\n      <td>0.9167</td>\n      <td>1</td>\n      <td>2</td>\n      <td>113781</td>\n      <td>151.5500</td>\n      <td>C22 C26</td>\n      <td>S</td>\n      <td>11</td>\n      <td>NaN</td>\n      <td>Montreal, PQ / Chesterville, ON</td>\n    </tr>\n    <tr>\n      <th>2</th>\n      <td>1</td>\n      <td>0</td>\n      <td>Allison, Miss. Helen Loraine</td>\n      <td>female</td>\n      <td>2.0000</td>\n      <td>1</td>\n      <td>2</td>\n      <td>113781</td>\n      <td>151.5500</td>\n      <td>C22 C26</td>\n      <td>S</td>\n      <td>NaN</td>\n      <td>NaN</td>\n      <td>Montreal, PQ / Chesterville, ON</td>\n    </tr>\n    <tr>\n      <th>3</th>\n      <td>1</td>\n      <td>0</td>\n      <td>Allison, Mr. Hudson Joshua Creighton</td>\n      <td>male</td>\n      <td>30.0000</td>\n      <td>1</td>\n      <td>2</td>\n      <td>113781</td>\n      <td>151.5500</td>\n      <td>C22 C26</td>\n      <td>S</td>\n      <td>NaN</td>\n      <td>135.0</td>\n      <td>Montreal, PQ / Chesterville, ON</td>\n    </tr>\n    <tr>\n      <th>4</th>\n      <td>1</td>\n      <td>0</td>\n      <td>Allison, Mrs. Hudson J C (Bessie Waldo Daniels)</td>\n      <td>female</td>\n      <td>25.0000</td>\n      <td>1</td>\n      <td>2</td>\n      <td>113781</td>\n      <td>151.5500</td>\n      <td>C22 C26</td>\n      <td>S</td>\n      <td>NaN</td>\n      <td>NaN</td>\n      <td>Montreal, PQ / Chesterville, ON</td>\n    </tr>\n  </tbody>\n</table>\n</div>"
     },
     "execution_count": 5,
     "metadata": {},
     "output_type": "execute_result"
    }
   ],
   "source": [
    "data.head()"
   ],
   "metadata": {
    "collapsed": false,
    "pycharm": {
     "name": "#%%\n"
    }
   }
  },
  {
   "cell_type": "markdown",
   "source": [
    "## Ejemplos de los parámetros de la funcion read_csv\n",
    "read_csv(filepath=\"/opt/python-ml-course/datasets/titanic/titanic3.csv\", set=\",\", dtype=(\"a\":np.float64,), header:0, names=(\"ingresos\", \"edad\"), skiprows=12, index_col=3, skip_blank_lines=True, na_filter=False)"
   ],
   "metadata": {
    "collapsed": false,
    "pycharm": {
     "name": "#%% md\n"
    }
   }
  },
  {
   "cell_type": "code",
   "execution_count": 6,
   "outputs": [],
   "source": [
    "data2 = pd.read_csv(mainpath + \"/\" + \"customer-churn-model/Customer Churn Model.txt\")"
   ],
   "metadata": {
    "collapsed": false,
    "pycharm": {
     "name": "#%%\n"
    }
   }
  },
  {
   "cell_type": "code",
   "execution_count": 7,
   "outputs": [
    {
     "data": {
      "text/plain": "  State  Account Length  Area Code     Phone Int'l Plan VMail Plan  \\\n0    KS             128        415  382-4657         no        yes   \n1    OH             107        415  371-7191         no        yes   \n2    NJ             137        415  358-1921         no         no   \n3    OH              84        408  375-9999        yes         no   \n4    OK              75        415  330-6626        yes         no   \n\n   VMail Message  Day Mins  Day Calls  Day Charge  ...  Eve Calls  Eve Charge  \\\n0             25     265.1        110       45.07  ...         99       16.78   \n1             26     161.6        123       27.47  ...        103       16.62   \n2              0     243.4        114       41.38  ...        110       10.30   \n3              0     299.4         71       50.90  ...         88        5.26   \n4              0     166.7        113       28.34  ...        122       12.61   \n\n   Night Mins  Night Calls  Night Charge  Intl Mins  Intl Calls  Intl Charge  \\\n0       244.7           91         11.01       10.0           3         2.70   \n1       254.4          103         11.45       13.7           3         3.70   \n2       162.6          104          7.32       12.2           5         3.29   \n3       196.9           89          8.86        6.6           7         1.78   \n4       186.9          121          8.41       10.1           3         2.73   \n\n   CustServ Calls  Churn?  \n0               1  False.  \n1               1  False.  \n2               0  False.  \n3               2  False.  \n4               3  False.  \n\n[5 rows x 21 columns]",
      "text/html": "<div>\n<style scoped>\n    .dataframe tbody tr th:only-of-type {\n        vertical-align: middle;\n    }\n\n    .dataframe tbody tr th {\n        vertical-align: top;\n    }\n\n    .dataframe thead th {\n        text-align: right;\n    }\n</style>\n<table border=\"1\" class=\"dataframe\">\n  <thead>\n    <tr style=\"text-align: right;\">\n      <th></th>\n      <th>State</th>\n      <th>Account Length</th>\n      <th>Area Code</th>\n      <th>Phone</th>\n      <th>Int'l Plan</th>\n      <th>VMail Plan</th>\n      <th>VMail Message</th>\n      <th>Day Mins</th>\n      <th>Day Calls</th>\n      <th>Day Charge</th>\n      <th>...</th>\n      <th>Eve Calls</th>\n      <th>Eve Charge</th>\n      <th>Night Mins</th>\n      <th>Night Calls</th>\n      <th>Night Charge</th>\n      <th>Intl Mins</th>\n      <th>Intl Calls</th>\n      <th>Intl Charge</th>\n      <th>CustServ Calls</th>\n      <th>Churn?</th>\n    </tr>\n  </thead>\n  <tbody>\n    <tr>\n      <th>0</th>\n      <td>KS</td>\n      <td>128</td>\n      <td>415</td>\n      <td>382-4657</td>\n      <td>no</td>\n      <td>yes</td>\n      <td>25</td>\n      <td>265.1</td>\n      <td>110</td>\n      <td>45.07</td>\n      <td>...</td>\n      <td>99</td>\n      <td>16.78</td>\n      <td>244.7</td>\n      <td>91</td>\n      <td>11.01</td>\n      <td>10.0</td>\n      <td>3</td>\n      <td>2.70</td>\n      <td>1</td>\n      <td>False.</td>\n    </tr>\n    <tr>\n      <th>1</th>\n      <td>OH</td>\n      <td>107</td>\n      <td>415</td>\n      <td>371-7191</td>\n      <td>no</td>\n      <td>yes</td>\n      <td>26</td>\n      <td>161.6</td>\n      <td>123</td>\n      <td>27.47</td>\n      <td>...</td>\n      <td>103</td>\n      <td>16.62</td>\n      <td>254.4</td>\n      <td>103</td>\n      <td>11.45</td>\n      <td>13.7</td>\n      <td>3</td>\n      <td>3.70</td>\n      <td>1</td>\n      <td>False.</td>\n    </tr>\n    <tr>\n      <th>2</th>\n      <td>NJ</td>\n      <td>137</td>\n      <td>415</td>\n      <td>358-1921</td>\n      <td>no</td>\n      <td>no</td>\n      <td>0</td>\n      <td>243.4</td>\n      <td>114</td>\n      <td>41.38</td>\n      <td>...</td>\n      <td>110</td>\n      <td>10.30</td>\n      <td>162.6</td>\n      <td>104</td>\n      <td>7.32</td>\n      <td>12.2</td>\n      <td>5</td>\n      <td>3.29</td>\n      <td>0</td>\n      <td>False.</td>\n    </tr>\n    <tr>\n      <th>3</th>\n      <td>OH</td>\n      <td>84</td>\n      <td>408</td>\n      <td>375-9999</td>\n      <td>yes</td>\n      <td>no</td>\n      <td>0</td>\n      <td>299.4</td>\n      <td>71</td>\n      <td>50.90</td>\n      <td>...</td>\n      <td>88</td>\n      <td>5.26</td>\n      <td>196.9</td>\n      <td>89</td>\n      <td>8.86</td>\n      <td>6.6</td>\n      <td>7</td>\n      <td>1.78</td>\n      <td>2</td>\n      <td>False.</td>\n    </tr>\n    <tr>\n      <th>4</th>\n      <td>OK</td>\n      <td>75</td>\n      <td>415</td>\n      <td>330-6626</td>\n      <td>yes</td>\n      <td>no</td>\n      <td>0</td>\n      <td>166.7</td>\n      <td>113</td>\n      <td>28.34</td>\n      <td>...</td>\n      <td>122</td>\n      <td>12.61</td>\n      <td>186.9</td>\n      <td>121</td>\n      <td>8.41</td>\n      <td>10.1</td>\n      <td>3</td>\n      <td>2.73</td>\n      <td>3</td>\n      <td>False.</td>\n    </tr>\n  </tbody>\n</table>\n<p>5 rows × 21 columns</p>\n</div>"
     },
     "execution_count": 7,
     "metadata": {},
     "output_type": "execute_result"
    }
   ],
   "source": [
    "data2.head()"
   ],
   "metadata": {
    "collapsed": false,
    "pycharm": {
     "name": "#%%\n"
    }
   }
  },
  {
   "cell_type": "code",
   "execution_count": 8,
   "outputs": [
    {
     "data": {
      "text/plain": "array(['State', 'Account Length', 'Area Code', 'Phone', \"Int'l Plan\",\n       'VMail Plan', 'VMail Message', 'Day Mins', 'Day Calls',\n       'Day Charge', 'Eve Mins', 'Eve Calls', 'Eve Charge', 'Night Mins',\n       'Night Calls', 'Night Charge', 'Intl Mins', 'Intl Calls',\n       'Intl Charge', 'CustServ Calls', 'Churn?'], dtype=object)"
     },
     "execution_count": 8,
     "metadata": {},
     "output_type": "execute_result"
    }
   ],
   "source": [
    "data2.columns.values"
   ],
   "metadata": {
    "collapsed": false,
    "pycharm": {
     "name": "#%%\n"
    }
   }
  },
  {
   "cell_type": "code",
   "execution_count": 10,
   "outputs": [
    {
     "data": {
      "text/plain": "array(['A', 'B', 'C', 'D', 'E', 'F', 'G', 'H', 'I', 'J', 'K', 'L', 'M',\n       'N', 'O', 'P', 'Q', 'R', 'S', 'T', 'U'], dtype=object)"
     },
     "execution_count": 10,
     "metadata": {},
     "output_type": "execute_result"
    }
   ],
   "source": [
    "data_cols = pd.read_csv(mainpath + \"/\" + \"customer-churn-model/Customer Churn Columns.csv\")\n",
    "data_col_list = data_cols[\"Column_Names\"].tolist()\n",
    "data2 = pd.read_csv(mainpath + \"/\" + \"customer-churn-model/Customer Churn Model.txt\",\n",
    "                    header = None, names = data_col_list)\n",
    "data2.columns.values"
   ],
   "metadata": {
    "collapsed": false,
    "pycharm": {
     "name": "#%%\n"
    }
   }
  },
  {
   "cell_type": "markdown",
   "source": [
    "## Carga de datos a través de la función open"
   ],
   "metadata": {
    "collapsed": false,
    "pycharm": {
     "name": "#%% md\n"
    }
   }
  },
  {
   "cell_type": "code",
   "execution_count": 11,
   "outputs": [],
   "source": [
    "data3 = open(mainpath + \"/\" + \"customer-churn-model/Customer Churn Model.txt\", \"r\")"
   ],
   "metadata": {
    "collapsed": false,
    "pycharm": {
     "name": "#%%\n"
    }
   }
  },
  {
   "cell_type": "code",
   "execution_count": 12,
   "outputs": [],
   "source": [
    "cols = data3.readline().strip().split(\",\")\n",
    "n_cols = len(cols)"
   ],
   "metadata": {
    "collapsed": false,
    "pycharm": {
     "name": "#%%\n"
    }
   }
  },
  {
   "cell_type": "code",
   "execution_count": 13,
   "outputs": [],
   "source": [
    "counter = 0\n",
    "main_dict = {}\n",
    "for col in cols:\n",
    "    main_dict[col] = []"
   ],
   "metadata": {
    "collapsed": false,
    "pycharm": {
     "name": "#%%\n"
    }
   }
  },
  {
   "cell_type": "code",
   "execution_count": 15,
   "outputs": [
    {
     "name": "stdout",
     "output_type": "stream",
     "text": [
      "El data set tiene 3333 filas y 21 columnas\n"
     ]
    }
   ],
   "source": [
    "for line in data3:\n",
    "    values = line.strip().split(\",\")\n",
    "    for i in range(len(cols)):\n",
    "        main_dict[cols[i]].append(values[i])\n",
    "    counter += 1\n",
    "\n",
    "print(\"El data set tiene %d filas y %d columnas\"%(counter, n_cols))"
   ],
   "metadata": {
    "collapsed": false,
    "pycharm": {
     "name": "#%%\n"
    }
   }
  },
  {
   "cell_type": "code",
   "execution_count": 16,
   "outputs": [
    {
     "data": {
      "text/plain": "  State Account Length Area Code     Phone Int'l Plan VMail Plan  \\\n0    KS            128       415  382-4657         no        yes   \n1    OH            107       415  371-7191         no        yes   \n2    NJ            137       415  358-1921         no         no   \n3    OH             84       408  375-9999        yes         no   \n4    OK             75       415  330-6626        yes         no   \n\n  VMail Message    Day Mins Day Calls Day Charge  ... Eve Calls Eve Charge  \\\n0            25  265.100000       110  45.070000  ...        99  16.780000   \n1            26  161.600000       123  27.470000  ...       103  16.620000   \n2             0  243.400000       114  41.380000  ...       110  10.300000   \n3             0  299.400000        71  50.900000  ...        88   5.260000   \n4             0  166.700000       113  28.340000  ...       122  12.610000   \n\n   Night Mins Night Calls Night Charge  Intl Mins Intl Calls Intl Charge  \\\n0  244.700000          91    11.010000  10.000000          3    2.700000   \n1  254.400000         103    11.450000  13.700000          3    3.700000   \n2  162.600000         104     7.320000  12.200000          5    3.290000   \n3  196.900000          89     8.860000   6.600000          7    1.780000   \n4  186.900000         121     8.410000  10.100000          3    2.730000   \n\n  CustServ Calls  Churn?  \n0              1  False.  \n1              1  False.  \n2              0  False.  \n3              2  False.  \n4              3  False.  \n\n[5 rows x 21 columns]",
      "text/html": "<div>\n<style scoped>\n    .dataframe tbody tr th:only-of-type {\n        vertical-align: middle;\n    }\n\n    .dataframe tbody tr th {\n        vertical-align: top;\n    }\n\n    .dataframe thead th {\n        text-align: right;\n    }\n</style>\n<table border=\"1\" class=\"dataframe\">\n  <thead>\n    <tr style=\"text-align: right;\">\n      <th></th>\n      <th>State</th>\n      <th>Account Length</th>\n      <th>Area Code</th>\n      <th>Phone</th>\n      <th>Int'l Plan</th>\n      <th>VMail Plan</th>\n      <th>VMail Message</th>\n      <th>Day Mins</th>\n      <th>Day Calls</th>\n      <th>Day Charge</th>\n      <th>...</th>\n      <th>Eve Calls</th>\n      <th>Eve Charge</th>\n      <th>Night Mins</th>\n      <th>Night Calls</th>\n      <th>Night Charge</th>\n      <th>Intl Mins</th>\n      <th>Intl Calls</th>\n      <th>Intl Charge</th>\n      <th>CustServ Calls</th>\n      <th>Churn?</th>\n    </tr>\n  </thead>\n  <tbody>\n    <tr>\n      <th>0</th>\n      <td>KS</td>\n      <td>128</td>\n      <td>415</td>\n      <td>382-4657</td>\n      <td>no</td>\n      <td>yes</td>\n      <td>25</td>\n      <td>265.100000</td>\n      <td>110</td>\n      <td>45.070000</td>\n      <td>...</td>\n      <td>99</td>\n      <td>16.780000</td>\n      <td>244.700000</td>\n      <td>91</td>\n      <td>11.010000</td>\n      <td>10.000000</td>\n      <td>3</td>\n      <td>2.700000</td>\n      <td>1</td>\n      <td>False.</td>\n    </tr>\n    <tr>\n      <th>1</th>\n      <td>OH</td>\n      <td>107</td>\n      <td>415</td>\n      <td>371-7191</td>\n      <td>no</td>\n      <td>yes</td>\n      <td>26</td>\n      <td>161.600000</td>\n      <td>123</td>\n      <td>27.470000</td>\n      <td>...</td>\n      <td>103</td>\n      <td>16.620000</td>\n      <td>254.400000</td>\n      <td>103</td>\n      <td>11.450000</td>\n      <td>13.700000</td>\n      <td>3</td>\n      <td>3.700000</td>\n      <td>1</td>\n      <td>False.</td>\n    </tr>\n    <tr>\n      <th>2</th>\n      <td>NJ</td>\n      <td>137</td>\n      <td>415</td>\n      <td>358-1921</td>\n      <td>no</td>\n      <td>no</td>\n      <td>0</td>\n      <td>243.400000</td>\n      <td>114</td>\n      <td>41.380000</td>\n      <td>...</td>\n      <td>110</td>\n      <td>10.300000</td>\n      <td>162.600000</td>\n      <td>104</td>\n      <td>7.320000</td>\n      <td>12.200000</td>\n      <td>5</td>\n      <td>3.290000</td>\n      <td>0</td>\n      <td>False.</td>\n    </tr>\n    <tr>\n      <th>3</th>\n      <td>OH</td>\n      <td>84</td>\n      <td>408</td>\n      <td>375-9999</td>\n      <td>yes</td>\n      <td>no</td>\n      <td>0</td>\n      <td>299.400000</td>\n      <td>71</td>\n      <td>50.900000</td>\n      <td>...</td>\n      <td>88</td>\n      <td>5.260000</td>\n      <td>196.900000</td>\n      <td>89</td>\n      <td>8.860000</td>\n      <td>6.600000</td>\n      <td>7</td>\n      <td>1.780000</td>\n      <td>2</td>\n      <td>False.</td>\n    </tr>\n    <tr>\n      <th>4</th>\n      <td>OK</td>\n      <td>75</td>\n      <td>415</td>\n      <td>330-6626</td>\n      <td>yes</td>\n      <td>no</td>\n      <td>0</td>\n      <td>166.700000</td>\n      <td>113</td>\n      <td>28.340000</td>\n      <td>...</td>\n      <td>122</td>\n      <td>12.610000</td>\n      <td>186.900000</td>\n      <td>121</td>\n      <td>8.410000</td>\n      <td>10.100000</td>\n      <td>3</td>\n      <td>2.730000</td>\n      <td>3</td>\n      <td>False.</td>\n    </tr>\n  </tbody>\n</table>\n<p>5 rows × 21 columns</p>\n</div>"
     },
     "execution_count": 16,
     "metadata": {},
     "output_type": "execute_result"
    }
   ],
   "source": [
    "df3 = pd.DataFrame(main_dict)\n",
    "df3.head()"
   ],
   "metadata": {
    "collapsed": false,
    "pycharm": {
     "name": "#%%\n"
    }
   }
  },
  {
   "cell_type": "markdown",
   "source": [
    "## Lectura y escritura de ficheros"
   ],
   "metadata": {
    "collapsed": false,
    "pycharm": {
     "name": "#%% md\n"
    }
   }
  },
  {
   "cell_type": "code",
   "execution_count": 17,
   "outputs": [],
   "source": [
    "infile = mainpath + \"/\" + \"customer-churn-model/Customer Churn Model.txt\"\n",
    "outfile = mainpath + \"/\" + \"customer-churn-model/Tab Customer Churn Model.txt\""
   ],
   "metadata": {
    "collapsed": false,
    "pycharm": {
     "name": "#%%\n"
    }
   }
  },
  {
   "cell_type": "code",
   "execution_count": 18,
   "outputs": [],
   "source": [
    "with open(infile, \"r\") as infile1:\n",
    "    with open(outfile, \"w\") as outfile1:\n",
    "        for line in infile1:\n",
    "            fields = line.strip().split(\",\")\n",
    "            outfile1.write(\"\\t\".join(fields))\n",
    "            outfile1.write(\"\\n\")"
   ],
   "metadata": {
    "collapsed": false,
    "pycharm": {
     "name": "#%%\n"
    }
   }
  },
  {
   "cell_type": "code",
   "execution_count": 19,
   "outputs": [
    {
     "data": {
      "text/plain": "     State  Account Length  Area Code     Phone Int'l Plan VMail Plan  \\\n0       KS             128        415  382-4657         no        yes   \n1       OH             107        415  371-7191         no        yes   \n2       NJ             137        415  358-1921         no         no   \n3       OH              84        408  375-9999        yes         no   \n4       OK              75        415  330-6626        yes         no   \n...    ...             ...        ...       ...        ...        ...   \n3328    AZ             192        415  414-4276         no        yes   \n3329    WV              68        415  370-3271         no         no   \n3330    RI              28        510  328-8230         no         no   \n3331    CT             184        510  364-6381        yes         no   \n3332    TN              74        415  400-4344         no        yes   \n\n      VMail Message  Day Mins  Day Calls  Day Charge  ...  Eve Calls  \\\n0                25     265.1        110       45.07  ...         99   \n1                26     161.6        123       27.47  ...        103   \n2                 0     243.4        114       41.38  ...        110   \n3                 0     299.4         71       50.90  ...         88   \n4                 0     166.7        113       28.34  ...        122   \n...             ...       ...        ...         ...  ...        ...   \n3328             36     156.2         77       26.55  ...        126   \n3329              0     231.1         57       39.29  ...         55   \n3330              0     180.8        109       30.74  ...         58   \n3331              0     213.8        105       36.35  ...         84   \n3332             25     234.4        113       39.85  ...         82   \n\n      Eve Charge  Night Mins  Night Calls  Night Charge  Intl Mins  \\\n0          16.78       244.7           91         11.01       10.0   \n1          16.62       254.4          103         11.45       13.7   \n2          10.30       162.6          104          7.32       12.2   \n3           5.26       196.9           89          8.86        6.6   \n4          12.61       186.9          121          8.41       10.1   \n...          ...         ...          ...           ...        ...   \n3328       18.32       279.1           83         12.56        9.9   \n3329       13.04       191.3          123          8.61        9.6   \n3330       24.55       191.9           91          8.64       14.1   \n3331       13.57       139.2          137          6.26        5.0   \n3332       22.60       241.4           77         10.86       13.7   \n\n      Intl Calls  Intl Charge  CustServ Calls  Churn?  \n0              3         2.70               1  False.  \n1              3         3.70               1  False.  \n2              5         3.29               0  False.  \n3              7         1.78               2  False.  \n4              3         2.73               3  False.  \n...          ...          ...             ...     ...  \n3328           6         2.67               2  False.  \n3329           4         2.59               3  False.  \n3330           6         3.81               2  False.  \n3331          10         1.35               2  False.  \n3332           4         3.70               0  False.  \n\n[3333 rows x 21 columns]",
      "text/html": "<div>\n<style scoped>\n    .dataframe tbody tr th:only-of-type {\n        vertical-align: middle;\n    }\n\n    .dataframe tbody tr th {\n        vertical-align: top;\n    }\n\n    .dataframe thead th {\n        text-align: right;\n    }\n</style>\n<table border=\"1\" class=\"dataframe\">\n  <thead>\n    <tr style=\"text-align: right;\">\n      <th></th>\n      <th>State</th>\n      <th>Account Length</th>\n      <th>Area Code</th>\n      <th>Phone</th>\n      <th>Int'l Plan</th>\n      <th>VMail Plan</th>\n      <th>VMail Message</th>\n      <th>Day Mins</th>\n      <th>Day Calls</th>\n      <th>Day Charge</th>\n      <th>...</th>\n      <th>Eve Calls</th>\n      <th>Eve Charge</th>\n      <th>Night Mins</th>\n      <th>Night Calls</th>\n      <th>Night Charge</th>\n      <th>Intl Mins</th>\n      <th>Intl Calls</th>\n      <th>Intl Charge</th>\n      <th>CustServ Calls</th>\n      <th>Churn?</th>\n    </tr>\n  </thead>\n  <tbody>\n    <tr>\n      <th>0</th>\n      <td>KS</td>\n      <td>128</td>\n      <td>415</td>\n      <td>382-4657</td>\n      <td>no</td>\n      <td>yes</td>\n      <td>25</td>\n      <td>265.1</td>\n      <td>110</td>\n      <td>45.07</td>\n      <td>...</td>\n      <td>99</td>\n      <td>16.78</td>\n      <td>244.7</td>\n      <td>91</td>\n      <td>11.01</td>\n      <td>10.0</td>\n      <td>3</td>\n      <td>2.70</td>\n      <td>1</td>\n      <td>False.</td>\n    </tr>\n    <tr>\n      <th>1</th>\n      <td>OH</td>\n      <td>107</td>\n      <td>415</td>\n      <td>371-7191</td>\n      <td>no</td>\n      <td>yes</td>\n      <td>26</td>\n      <td>161.6</td>\n      <td>123</td>\n      <td>27.47</td>\n      <td>...</td>\n      <td>103</td>\n      <td>16.62</td>\n      <td>254.4</td>\n      <td>103</td>\n      <td>11.45</td>\n      <td>13.7</td>\n      <td>3</td>\n      <td>3.70</td>\n      <td>1</td>\n      <td>False.</td>\n    </tr>\n    <tr>\n      <th>2</th>\n      <td>NJ</td>\n      <td>137</td>\n      <td>415</td>\n      <td>358-1921</td>\n      <td>no</td>\n      <td>no</td>\n      <td>0</td>\n      <td>243.4</td>\n      <td>114</td>\n      <td>41.38</td>\n      <td>...</td>\n      <td>110</td>\n      <td>10.30</td>\n      <td>162.6</td>\n      <td>104</td>\n      <td>7.32</td>\n      <td>12.2</td>\n      <td>5</td>\n      <td>3.29</td>\n      <td>0</td>\n      <td>False.</td>\n    </tr>\n    <tr>\n      <th>3</th>\n      <td>OH</td>\n      <td>84</td>\n      <td>408</td>\n      <td>375-9999</td>\n      <td>yes</td>\n      <td>no</td>\n      <td>0</td>\n      <td>299.4</td>\n      <td>71</td>\n      <td>50.90</td>\n      <td>...</td>\n      <td>88</td>\n      <td>5.26</td>\n      <td>196.9</td>\n      <td>89</td>\n      <td>8.86</td>\n      <td>6.6</td>\n      <td>7</td>\n      <td>1.78</td>\n      <td>2</td>\n      <td>False.</td>\n    </tr>\n    <tr>\n      <th>4</th>\n      <td>OK</td>\n      <td>75</td>\n      <td>415</td>\n      <td>330-6626</td>\n      <td>yes</td>\n      <td>no</td>\n      <td>0</td>\n      <td>166.7</td>\n      <td>113</td>\n      <td>28.34</td>\n      <td>...</td>\n      <td>122</td>\n      <td>12.61</td>\n      <td>186.9</td>\n      <td>121</td>\n      <td>8.41</td>\n      <td>10.1</td>\n      <td>3</td>\n      <td>2.73</td>\n      <td>3</td>\n      <td>False.</td>\n    </tr>\n    <tr>\n      <th>...</th>\n      <td>...</td>\n      <td>...</td>\n      <td>...</td>\n      <td>...</td>\n      <td>...</td>\n      <td>...</td>\n      <td>...</td>\n      <td>...</td>\n      <td>...</td>\n      <td>...</td>\n      <td>...</td>\n      <td>...</td>\n      <td>...</td>\n      <td>...</td>\n      <td>...</td>\n      <td>...</td>\n      <td>...</td>\n      <td>...</td>\n      <td>...</td>\n      <td>...</td>\n      <td>...</td>\n    </tr>\n    <tr>\n      <th>3328</th>\n      <td>AZ</td>\n      <td>192</td>\n      <td>415</td>\n      <td>414-4276</td>\n      <td>no</td>\n      <td>yes</td>\n      <td>36</td>\n      <td>156.2</td>\n      <td>77</td>\n      <td>26.55</td>\n      <td>...</td>\n      <td>126</td>\n      <td>18.32</td>\n      <td>279.1</td>\n      <td>83</td>\n      <td>12.56</td>\n      <td>9.9</td>\n      <td>6</td>\n      <td>2.67</td>\n      <td>2</td>\n      <td>False.</td>\n    </tr>\n    <tr>\n      <th>3329</th>\n      <td>WV</td>\n      <td>68</td>\n      <td>415</td>\n      <td>370-3271</td>\n      <td>no</td>\n      <td>no</td>\n      <td>0</td>\n      <td>231.1</td>\n      <td>57</td>\n      <td>39.29</td>\n      <td>...</td>\n      <td>55</td>\n      <td>13.04</td>\n      <td>191.3</td>\n      <td>123</td>\n      <td>8.61</td>\n      <td>9.6</td>\n      <td>4</td>\n      <td>2.59</td>\n      <td>3</td>\n      <td>False.</td>\n    </tr>\n    <tr>\n      <th>3330</th>\n      <td>RI</td>\n      <td>28</td>\n      <td>510</td>\n      <td>328-8230</td>\n      <td>no</td>\n      <td>no</td>\n      <td>0</td>\n      <td>180.8</td>\n      <td>109</td>\n      <td>30.74</td>\n      <td>...</td>\n      <td>58</td>\n      <td>24.55</td>\n      <td>191.9</td>\n      <td>91</td>\n      <td>8.64</td>\n      <td>14.1</td>\n      <td>6</td>\n      <td>3.81</td>\n      <td>2</td>\n      <td>False.</td>\n    </tr>\n    <tr>\n      <th>3331</th>\n      <td>CT</td>\n      <td>184</td>\n      <td>510</td>\n      <td>364-6381</td>\n      <td>yes</td>\n      <td>no</td>\n      <td>0</td>\n      <td>213.8</td>\n      <td>105</td>\n      <td>36.35</td>\n      <td>...</td>\n      <td>84</td>\n      <td>13.57</td>\n      <td>139.2</td>\n      <td>137</td>\n      <td>6.26</td>\n      <td>5.0</td>\n      <td>10</td>\n      <td>1.35</td>\n      <td>2</td>\n      <td>False.</td>\n    </tr>\n    <tr>\n      <th>3332</th>\n      <td>TN</td>\n      <td>74</td>\n      <td>415</td>\n      <td>400-4344</td>\n      <td>no</td>\n      <td>yes</td>\n      <td>25</td>\n      <td>234.4</td>\n      <td>113</td>\n      <td>39.85</td>\n      <td>...</td>\n      <td>82</td>\n      <td>22.60</td>\n      <td>241.4</td>\n      <td>77</td>\n      <td>10.86</td>\n      <td>13.7</td>\n      <td>4</td>\n      <td>3.70</td>\n      <td>0</td>\n      <td>False.</td>\n    </tr>\n  </tbody>\n</table>\n<p>3333 rows × 21 columns</p>\n</div>"
     },
     "execution_count": 19,
     "metadata": {},
     "output_type": "execute_result"
    }
   ],
   "source": [
    "df4 = pd.read_csv(outfile, sep = \"\\t\")\n",
    "df4"
   ],
   "metadata": {
    "collapsed": false,
    "pycharm": {
     "name": "#%%\n"
    }
   }
  },
  {
   "cell_type": "markdown",
   "source": [
    "## Leer datos desde una URL"
   ],
   "metadata": {
    "collapsed": false,
    "pycharm": {
     "name": "#%% md\n"
    }
   }
  },
  {
   "cell_type": "code",
   "execution_count": 20,
   "outputs": [],
   "source": [
    "medals_url = \"http://winterolympicsmedals.com/medals.csv\""
   ],
   "metadata": {
    "collapsed": false,
    "pycharm": {
     "name": "#%%\n"
    }
   }
  },
  {
   "cell_type": "code",
   "execution_count": 21,
   "outputs": [],
   "source": [
    "medals_data = pd.read_csv(medals_url)"
   ],
   "metadata": {
    "collapsed": false,
    "pycharm": {
     "name": "#%%\n"
    }
   }
  },
  {
   "cell_type": "code",
   "execution_count": 22,
   "outputs": [
    {
     "data": {
      "text/plain": "   Year      City       Sport      Discipline  NOC       Event Event gender  \\\n0  1924  Chamonix     Skating  Figure skating  AUT  individual            M   \n1  1924  Chamonix     Skating  Figure skating  AUT  individual            W   \n2  1924  Chamonix     Skating  Figure skating  AUT       pairs            X   \n3  1924  Chamonix   Bobsleigh       Bobsleigh  BEL    four-man            M   \n4  1924  Chamonix  Ice Hockey      Ice Hockey  CAN  ice hockey            M   \n\n    Medal  \n0  Silver  \n1    Gold  \n2    Gold  \n3  Bronze  \n4    Gold  ",
      "text/html": "<div>\n<style scoped>\n    .dataframe tbody tr th:only-of-type {\n        vertical-align: middle;\n    }\n\n    .dataframe tbody tr th {\n        vertical-align: top;\n    }\n\n    .dataframe thead th {\n        text-align: right;\n    }\n</style>\n<table border=\"1\" class=\"dataframe\">\n  <thead>\n    <tr style=\"text-align: right;\">\n      <th></th>\n      <th>Year</th>\n      <th>City</th>\n      <th>Sport</th>\n      <th>Discipline</th>\n      <th>NOC</th>\n      <th>Event</th>\n      <th>Event gender</th>\n      <th>Medal</th>\n    </tr>\n  </thead>\n  <tbody>\n    <tr>\n      <th>0</th>\n      <td>1924</td>\n      <td>Chamonix</td>\n      <td>Skating</td>\n      <td>Figure skating</td>\n      <td>AUT</td>\n      <td>individual</td>\n      <td>M</td>\n      <td>Silver</td>\n    </tr>\n    <tr>\n      <th>1</th>\n      <td>1924</td>\n      <td>Chamonix</td>\n      <td>Skating</td>\n      <td>Figure skating</td>\n      <td>AUT</td>\n      <td>individual</td>\n      <td>W</td>\n      <td>Gold</td>\n    </tr>\n    <tr>\n      <th>2</th>\n      <td>1924</td>\n      <td>Chamonix</td>\n      <td>Skating</td>\n      <td>Figure skating</td>\n      <td>AUT</td>\n      <td>pairs</td>\n      <td>X</td>\n      <td>Gold</td>\n    </tr>\n    <tr>\n      <th>3</th>\n      <td>1924</td>\n      <td>Chamonix</td>\n      <td>Bobsleigh</td>\n      <td>Bobsleigh</td>\n      <td>BEL</td>\n      <td>four-man</td>\n      <td>M</td>\n      <td>Bronze</td>\n    </tr>\n    <tr>\n      <th>4</th>\n      <td>1924</td>\n      <td>Chamonix</td>\n      <td>Ice Hockey</td>\n      <td>Ice Hockey</td>\n      <td>CAN</td>\n      <td>ice hockey</td>\n      <td>M</td>\n      <td>Gold</td>\n    </tr>\n  </tbody>\n</table>\n</div>"
     },
     "execution_count": 22,
     "metadata": {},
     "output_type": "execute_result"
    }
   ],
   "source": [
    "medals_data.head()"
   ],
   "metadata": {
    "collapsed": false,
    "pycharm": {
     "name": "#%%\n"
    }
   }
  },
  {
   "cell_type": "markdown",
   "source": [
    "## Ejercicio de descarga de datos con urllib3\n",
    "Leer datos desde una URL externa, procesarlos y convertirlos a un data frame de python antes de guardarlos en un CSV local."
   ],
   "metadata": {
    "collapsed": false,
    "pycharm": {
     "name": "#%% md\n"
    }
   }
  },
  {
   "cell_type": "code",
   "execution_count": 27,
   "outputs": [],
   "source": [
    "def downloadFromUrl(url, filename, sep = \",\", delim = \"\\n\", encoding = \"utf-8\", mainpath = \"/opt/datasets/\"):\n",
    "    # Primero importamos la librería y hacemos la conexión con la web de los datos\n",
    "    import urllib3\n",
    "    http = urllib3.PoolManager()\n",
    "    r = http.request(\"GET\", url)\n",
    "    print(\"El estado de la respuesta es\", r.status)\n",
    "    response = r.data\n",
    "\n",
    "    # El objeto response contiene un string binario, así que lo convertimos a un string descodificándolo en UTF-8\n",
    "    str_data = response.decode(encoding)\n",
    "\n",
    "    # Dividimos el string en un array de filas, separándolos por intros\n",
    "    lines = str_data.split(delim)\n",
    "\n",
    "    # La primera línea contiene la cabecera, así que la extraemos\n",
    "    col_names = lines[0].split(sep)\n",
    "    n_cols = len(col_names)\n",
    "\n",
    "    # Generamos un diccionario vacío donde irá la información procesada desde la URL externa\n",
    "    counter = 0\n",
    "    main_dict = {}\n",
    "    for col in col_names:\n",
    "        main_dict[col] = []\n",
    "\n",
    "    # Procesamos fila a fila la información para ir rellenando el diccionario con los datos como hicimos antes\n",
    "    for line in lines:\n",
    "        # Nos saltamos la primera línea que es la que contiene la cabecera y ya tenemos procesada\n",
    "        if(counter > 0):\n",
    "            # Dividimos cada string por las comas como elemento separador\n",
    "            values = line.strip().split(\",\")\n",
    "            # Añadimos cada valor a su respectiva columna del diccionario\n",
    "            for i in range(len(col_names)):\n",
    "                main_dict[col_names[i]].append(values[i])\n",
    "        counter += 1\n",
    "\n",
    "    print(\"El data set tiene %d filas y %d columnas\"%(counter, n_cols))\n",
    "\n",
    "    # Convertimos el diccionario procesado a Data Frame y comprobamos que los datos son correctos\n",
    "    df = pd.DataFrame(main_dict)\n",
    "    df.head()\n",
    "\n",
    "    # Elegimos donde guardarlo (en la carpeta athletes es donde tiene más sentido por el contexto del análisis)\n",
    "    #mainpath = \"/opt/python-ml-course/datasets/\"\n",
    "    #filename = \"athletes/downloaded_medals2\"\n",
    "    fullpath = os.path.join(mainpath, filename)\n",
    "\n",
    "    # Lo guardamos en CSV, en JSON, o en Excel según queramos\n",
    "    df.to_csv(fullpath + \".csv\")\n",
    "    df.to_json(fullpath + \".json\")\n",
    "    df.to_excel(fullpath + \".xls\")\n",
    "    print(\"Los ficheros se han guardado correctamente en: \" + fullpath)\n",
    "\n",
    "    return df"
   ],
   "metadata": {
    "collapsed": false,
    "pycharm": {
     "name": "#%%\n"
    }
   }
  },
  {
   "cell_type": "code",
   "execution_count": 28,
   "outputs": [
    {
     "name": "stdout",
     "output_type": "stream",
     "text": [
      "El estado de la respuesta es 200\n",
      "El data set tiene 2312 filas y 8 columnas\n"
     ]
    },
    {
     "name": "stderr",
     "output_type": "stream",
     "text": [
      "/tmp/ipykernel_51/3917746543.py:50: FutureWarning: As the xlwt package is no longer maintained, the xlwt engine will be removed in a future version of pandas. This is the only engine in pandas that supports writing in the xls format. Install openpyxl and write to an xlsx file instead. You can set the option io.excel.xls.writer to 'xlwt' to silence this warning. While this option is deprecated and will also raise a warning, it can be globally set and the warning suppressed.\n",
      "  df.to_excel(fullpath + \".xls\")\n"
     ]
    },
    {
     "name": "stdout",
     "output_type": "stream",
     "text": [
      "Los ficheros se han guardado correctamente en: /opt/datasets/athletes/downloaded_medals2\n"
     ]
    },
    {
     "data": {
      "text/plain": "   Year      City       Sport      Discipline  NOC       Event Event gender  \\\n0  1924  Chamonix     Skating  Figure skating  AUT  individual            M   \n1  1924  Chamonix     Skating  Figure skating  AUT  individual            W   \n2  1924  Chamonix     Skating  Figure skating  AUT       pairs            X   \n3  1924  Chamonix   Bobsleigh       Bobsleigh  BEL    four-man            M   \n4  1924  Chamonix  Ice Hockey      Ice Hockey  CAN  ice hockey            M   \n\n    Medal  \n0  Silver  \n1    Gold  \n2    Gold  \n3  Bronze  \n4    Gold  ",
      "text/html": "<div>\n<style scoped>\n    .dataframe tbody tr th:only-of-type {\n        vertical-align: middle;\n    }\n\n    .dataframe tbody tr th {\n        vertical-align: top;\n    }\n\n    .dataframe thead th {\n        text-align: right;\n    }\n</style>\n<table border=\"1\" class=\"dataframe\">\n  <thead>\n    <tr style=\"text-align: right;\">\n      <th></th>\n      <th>Year</th>\n      <th>City</th>\n      <th>Sport</th>\n      <th>Discipline</th>\n      <th>NOC</th>\n      <th>Event</th>\n      <th>Event gender</th>\n      <th>Medal</th>\n    </tr>\n  </thead>\n  <tbody>\n    <tr>\n      <th>0</th>\n      <td>1924</td>\n      <td>Chamonix</td>\n      <td>Skating</td>\n      <td>Figure skating</td>\n      <td>AUT</td>\n      <td>individual</td>\n      <td>M</td>\n      <td>Silver</td>\n    </tr>\n    <tr>\n      <th>1</th>\n      <td>1924</td>\n      <td>Chamonix</td>\n      <td>Skating</td>\n      <td>Figure skating</td>\n      <td>AUT</td>\n      <td>individual</td>\n      <td>W</td>\n      <td>Gold</td>\n    </tr>\n    <tr>\n      <th>2</th>\n      <td>1924</td>\n      <td>Chamonix</td>\n      <td>Skating</td>\n      <td>Figure skating</td>\n      <td>AUT</td>\n      <td>pairs</td>\n      <td>X</td>\n      <td>Gold</td>\n    </tr>\n    <tr>\n      <th>3</th>\n      <td>1924</td>\n      <td>Chamonix</td>\n      <td>Bobsleigh</td>\n      <td>Bobsleigh</td>\n      <td>BEL</td>\n      <td>four-man</td>\n      <td>M</td>\n      <td>Bronze</td>\n    </tr>\n    <tr>\n      <th>4</th>\n      <td>1924</td>\n      <td>Chamonix</td>\n      <td>Ice Hockey</td>\n      <td>Ice Hockey</td>\n      <td>CAN</td>\n      <td>ice hockey</td>\n      <td>M</td>\n      <td>Gold</td>\n    </tr>\n  </tbody>\n</table>\n</div>"
     },
     "execution_count": 28,
     "metadata": {},
     "output_type": "execute_result"
    }
   ],
   "source": [
    "medals_df = downloadFromUrl(medals_url, \"athletes/downloaded_medals2\")\n",
    "medals_df.head()"
   ],
   "metadata": {
    "collapsed": false,
    "pycharm": {
     "name": "#%%\n"
    }
   }
  },
  {
   "cell_type": "markdown",
   "source": [
    "## Ficheros XLS y XLSX"
   ],
   "metadata": {
    "collapsed": false,
    "pycharm": {
     "name": "#%% md\n"
    }
   }
  },
  {
   "cell_type": "code",
   "execution_count": 29,
   "outputs": [],
   "source": [
    "mainpath = \"/opt/datasets/\"\n",
    "filename = \"titanic/titanic3.xls\""
   ],
   "metadata": {
    "collapsed": false,
    "pycharm": {
     "name": "#%%\n"
    }
   }
  },
  {
   "cell_type": "code",
   "execution_count": 30,
   "outputs": [],
   "source": [
    "titanic2 = pd.read_excel(mainpath + \"/\" + filename, \"titanic3\")"
   ],
   "metadata": {
    "collapsed": false,
    "pycharm": {
     "name": "#%%\n"
    }
   }
  },
  {
   "cell_type": "code",
   "execution_count": 31,
   "outputs": [],
   "source": [
    "titanic3 = pd.read_excel(mainpath + \"/\" + filename, \"titanic3\")"
   ],
   "metadata": {
    "collapsed": false,
    "pycharm": {
     "name": "#%%\n"
    }
   }
  },
  {
   "cell_type": "code",
   "execution_count": 32,
   "outputs": [],
   "source": [
    "titanic3.to_csv(mainpath + \"/titanic/titanic_custom2.csv\")"
   ],
   "metadata": {
    "collapsed": false,
    "pycharm": {
     "name": "#%%\n"
    }
   }
  },
  {
   "cell_type": "code",
   "execution_count": 33,
   "outputs": [
    {
     "name": "stderr",
     "output_type": "stream",
     "text": [
      "/tmp/ipykernel_51/1342206097.py:1: FutureWarning: As the xlwt package is no longer maintained, the xlwt engine will be removed in a future version of pandas. This is the only engine in pandas that supports writing in the xls format. Install openpyxl and write to an xlsx file instead. You can set the option io.excel.xls.writer to 'xlwt' to silence this warning. While this option is deprecated and will also raise a warning, it can be globally set and the warning suppressed.\n",
      "  titanic3.to_excel(mainpath + \"/titanic/titanic_custom2.xls\")\n"
     ]
    }
   ],
   "source": [
    "titanic3.to_excel(mainpath + \"/titanic/titanic_custom2.xls\")"
   ],
   "metadata": {
    "collapsed": false,
    "pycharm": {
     "name": "#%%\n"
    }
   }
  },
  {
   "cell_type": "code",
   "execution_count": 34,
   "outputs": [],
   "source": [
    "titanic3.to_json(mainpath + \"/titanic/titanic_custom2.json\")"
   ],
   "metadata": {
    "collapsed": false,
    "pycharm": {
     "name": "#%%\n"
    }
   }
  },
  {
   "cell_type": "code",
   "execution_count": null,
   "outputs": [],
   "source": [],
   "metadata": {
    "collapsed": false,
    "pycharm": {
     "name": "#%%\n"
    }
   }
  }
 ],
 "metadata": {
  "kernelspec": {
   "display_name": "Python 3 (ipykernel)",
   "language": "python",
   "name": "python3"
  },
  "language_info": {
   "codemirror_mode": {
    "name": "ipython",
    "version": 3
   },
   "file_extension": ".py",
   "mimetype": "text/x-python",
   "name": "python",
   "nbconvert_exporter": "python",
   "pygments_lexer": "ipython3",
   "version": "3.9.7"
  }
 },
 "nbformat": 4,
 "nbformat_minor": 1
}