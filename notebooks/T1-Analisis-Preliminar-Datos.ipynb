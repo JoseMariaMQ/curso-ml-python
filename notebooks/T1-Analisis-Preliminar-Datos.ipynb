{
 "cells": [
  {
   "cell_type": "markdown",
   "metadata": {
    "collapsed": true,
    "pycharm": {
     "name": "#%% md\n"
    }
   },
   "source": [
    "# Resumen de los datos: Dimensiones y estructuras"
   ]
  },
  {
   "cell_type": "code",
   "execution_count": 3,
   "metadata": {
    "pycharm": {
     "name": "#%%\n"
    }
   },
   "outputs": [],
   "source": [
    "import pandas as pd\n",
    "import os"
   ]
  },
  {
   "cell_type": "code",
   "execution_count": 4,
   "metadata": {
    "pycharm": {
     "name": "#%%\n"
    }
   },
   "outputs": [],
   "source": [
    "mainpath = \"/opt/datasets/\"\n",
    "filename = \"titanic/titanic3.csv\"\n",
    "fullpath =  os.path.join(mainpath, filename)"
   ]
  },
  {
   "cell_type": "code",
   "execution_count": 5,
   "metadata": {
    "pycharm": {
     "name": "#%%\n"
    }
   },
   "outputs": [],
   "source": [
    "data = pd.read_csv(fullpath)"
   ]
  },
  {
   "cell_type": "code",
   "execution_count": 7,
   "metadata": {
    "pycharm": {
     "name": "#%%\n"
    }
   },
   "outputs": [
    {
     "data": {
      "text/html": [
       "<div>\n",
       "<style scoped>\n",
       "    .dataframe tbody tr th:only-of-type {\n",
       "        vertical-align: middle;\n",
       "    }\n",
       "\n",
       "    .dataframe tbody tr th {\n",
       "        vertical-align: top;\n",
       "    }\n",
       "\n",
       "    .dataframe thead th {\n",
       "        text-align: right;\n",
       "    }\n",
       "</style>\n",
       "<table border=\"1\" class=\"dataframe\">\n",
       "  <thead>\n",
       "    <tr style=\"text-align: right;\">\n",
       "      <th></th>\n",
       "      <th>pclass</th>\n",
       "      <th>survived</th>\n",
       "      <th>name</th>\n",
       "      <th>sex</th>\n",
       "      <th>age</th>\n",
       "      <th>sibsp</th>\n",
       "      <th>parch</th>\n",
       "      <th>ticket</th>\n",
       "      <th>fare</th>\n",
       "      <th>cabin</th>\n",
       "      <th>embarked</th>\n",
       "      <th>boat</th>\n",
       "      <th>body</th>\n",
       "      <th>home.dest</th>\n",
       "    </tr>\n",
       "  </thead>\n",
       "  <tbody>\n",
       "    <tr>\n",
       "      <th>0</th>\n",
       "      <td>1</td>\n",
       "      <td>1</td>\n",
       "      <td>Allen, Miss. Elisabeth Walton</td>\n",
       "      <td>female</td>\n",
       "      <td>29.0000</td>\n",
       "      <td>0</td>\n",
       "      <td>0</td>\n",
       "      <td>24160</td>\n",
       "      <td>211.3375</td>\n",
       "      <td>B5</td>\n",
       "      <td>S</td>\n",
       "      <td>2</td>\n",
       "      <td>NaN</td>\n",
       "      <td>St Louis, MO</td>\n",
       "    </tr>\n",
       "    <tr>\n",
       "      <th>1</th>\n",
       "      <td>1</td>\n",
       "      <td>1</td>\n",
       "      <td>Allison, Master. Hudson Trevor</td>\n",
       "      <td>male</td>\n",
       "      <td>0.9167</td>\n",
       "      <td>1</td>\n",
       "      <td>2</td>\n",
       "      <td>113781</td>\n",
       "      <td>151.5500</td>\n",
       "      <td>C22 C26</td>\n",
       "      <td>S</td>\n",
       "      <td>11</td>\n",
       "      <td>NaN</td>\n",
       "      <td>Montreal, PQ / Chesterville, ON</td>\n",
       "    </tr>\n",
       "    <tr>\n",
       "      <th>2</th>\n",
       "      <td>1</td>\n",
       "      <td>0</td>\n",
       "      <td>Allison, Miss. Helen Loraine</td>\n",
       "      <td>female</td>\n",
       "      <td>2.0000</td>\n",
       "      <td>1</td>\n",
       "      <td>2</td>\n",
       "      <td>113781</td>\n",
       "      <td>151.5500</td>\n",
       "      <td>C22 C26</td>\n",
       "      <td>S</td>\n",
       "      <td>NaN</td>\n",
       "      <td>NaN</td>\n",
       "      <td>Montreal, PQ / Chesterville, ON</td>\n",
       "    </tr>\n",
       "    <tr>\n",
       "      <th>3</th>\n",
       "      <td>1</td>\n",
       "      <td>0</td>\n",
       "      <td>Allison, Mr. Hudson Joshua Creighton</td>\n",
       "      <td>male</td>\n",
       "      <td>30.0000</td>\n",
       "      <td>1</td>\n",
       "      <td>2</td>\n",
       "      <td>113781</td>\n",
       "      <td>151.5500</td>\n",
       "      <td>C22 C26</td>\n",
       "      <td>S</td>\n",
       "      <td>NaN</td>\n",
       "      <td>135.0</td>\n",
       "      <td>Montreal, PQ / Chesterville, ON</td>\n",
       "    </tr>\n",
       "    <tr>\n",
       "      <th>4</th>\n",
       "      <td>1</td>\n",
       "      <td>0</td>\n",
       "      <td>Allison, Mrs. Hudson J C (Bessie Waldo Daniels)</td>\n",
       "      <td>female</td>\n",
       "      <td>25.0000</td>\n",
       "      <td>1</td>\n",
       "      <td>2</td>\n",
       "      <td>113781</td>\n",
       "      <td>151.5500</td>\n",
       "      <td>C22 C26</td>\n",
       "      <td>S</td>\n",
       "      <td>NaN</td>\n",
       "      <td>NaN</td>\n",
       "      <td>Montreal, PQ / Chesterville, ON</td>\n",
       "    </tr>\n",
       "    <tr>\n",
       "      <th>5</th>\n",
       "      <td>1</td>\n",
       "      <td>1</td>\n",
       "      <td>Anderson, Mr. Harry</td>\n",
       "      <td>male</td>\n",
       "      <td>48.0000</td>\n",
       "      <td>0</td>\n",
       "      <td>0</td>\n",
       "      <td>19952</td>\n",
       "      <td>26.5500</td>\n",
       "      <td>E12</td>\n",
       "      <td>S</td>\n",
       "      <td>3</td>\n",
       "      <td>NaN</td>\n",
       "      <td>New York, NY</td>\n",
       "    </tr>\n",
       "    <tr>\n",
       "      <th>6</th>\n",
       "      <td>1</td>\n",
       "      <td>1</td>\n",
       "      <td>Andrews, Miss. Kornelia Theodosia</td>\n",
       "      <td>female</td>\n",
       "      <td>63.0000</td>\n",
       "      <td>1</td>\n",
       "      <td>0</td>\n",
       "      <td>13502</td>\n",
       "      <td>77.9583</td>\n",
       "      <td>D7</td>\n",
       "      <td>S</td>\n",
       "      <td>10</td>\n",
       "      <td>NaN</td>\n",
       "      <td>Hudson, NY</td>\n",
       "    </tr>\n",
       "    <tr>\n",
       "      <th>7</th>\n",
       "      <td>1</td>\n",
       "      <td>0</td>\n",
       "      <td>Andrews, Mr. Thomas Jr</td>\n",
       "      <td>male</td>\n",
       "      <td>39.0000</td>\n",
       "      <td>0</td>\n",
       "      <td>0</td>\n",
       "      <td>112050</td>\n",
       "      <td>0.0000</td>\n",
       "      <td>A36</td>\n",
       "      <td>S</td>\n",
       "      <td>NaN</td>\n",
       "      <td>NaN</td>\n",
       "      <td>Belfast, NI</td>\n",
       "    </tr>\n",
       "    <tr>\n",
       "      <th>8</th>\n",
       "      <td>1</td>\n",
       "      <td>1</td>\n",
       "      <td>Appleton, Mrs. Edward Dale (Charlotte Lamson)</td>\n",
       "      <td>female</td>\n",
       "      <td>53.0000</td>\n",
       "      <td>2</td>\n",
       "      <td>0</td>\n",
       "      <td>11769</td>\n",
       "      <td>51.4792</td>\n",
       "      <td>C101</td>\n",
       "      <td>S</td>\n",
       "      <td>D</td>\n",
       "      <td>NaN</td>\n",
       "      <td>Bayside, Queens, NY</td>\n",
       "    </tr>\n",
       "    <tr>\n",
       "      <th>9</th>\n",
       "      <td>1</td>\n",
       "      <td>0</td>\n",
       "      <td>Artagaveytia, Mr. Ramon</td>\n",
       "      <td>male</td>\n",
       "      <td>71.0000</td>\n",
       "      <td>0</td>\n",
       "      <td>0</td>\n",
       "      <td>PC 17609</td>\n",
       "      <td>49.5042</td>\n",
       "      <td>NaN</td>\n",
       "      <td>C</td>\n",
       "      <td>NaN</td>\n",
       "      <td>22.0</td>\n",
       "      <td>Montevideo, Uruguay</td>\n",
       "    </tr>\n",
       "  </tbody>\n",
       "</table>\n",
       "</div>"
      ],
      "text/plain": [
       "   pclass  survived                                             name     sex  \\\n",
       "0       1         1                    Allen, Miss. Elisabeth Walton  female   \n",
       "1       1         1                   Allison, Master. Hudson Trevor    male   \n",
       "2       1         0                     Allison, Miss. Helen Loraine  female   \n",
       "3       1         0             Allison, Mr. Hudson Joshua Creighton    male   \n",
       "4       1         0  Allison, Mrs. Hudson J C (Bessie Waldo Daniels)  female   \n",
       "5       1         1                              Anderson, Mr. Harry    male   \n",
       "6       1         1                Andrews, Miss. Kornelia Theodosia  female   \n",
       "7       1         0                           Andrews, Mr. Thomas Jr    male   \n",
       "8       1         1    Appleton, Mrs. Edward Dale (Charlotte Lamson)  female   \n",
       "9       1         0                          Artagaveytia, Mr. Ramon    male   \n",
       "\n",
       "       age  sibsp  parch    ticket      fare    cabin embarked boat   body  \\\n",
       "0  29.0000      0      0     24160  211.3375       B5        S    2    NaN   \n",
       "1   0.9167      1      2    113781  151.5500  C22 C26        S   11    NaN   \n",
       "2   2.0000      1      2    113781  151.5500  C22 C26        S  NaN    NaN   \n",
       "3  30.0000      1      2    113781  151.5500  C22 C26        S  NaN  135.0   \n",
       "4  25.0000      1      2    113781  151.5500  C22 C26        S  NaN    NaN   \n",
       "5  48.0000      0      0     19952   26.5500      E12        S    3    NaN   \n",
       "6  63.0000      1      0     13502   77.9583       D7        S   10    NaN   \n",
       "7  39.0000      0      0    112050    0.0000      A36        S  NaN    NaN   \n",
       "8  53.0000      2      0     11769   51.4792     C101        S    D    NaN   \n",
       "9  71.0000      0      0  PC 17609   49.5042      NaN        C  NaN   22.0   \n",
       "\n",
       "                         home.dest  \n",
       "0                     St Louis, MO  \n",
       "1  Montreal, PQ / Chesterville, ON  \n",
       "2  Montreal, PQ / Chesterville, ON  \n",
       "3  Montreal, PQ / Chesterville, ON  \n",
       "4  Montreal, PQ / Chesterville, ON  \n",
       "5                     New York, NY  \n",
       "6                       Hudson, NY  \n",
       "7                      Belfast, NI  \n",
       "8              Bayside, Queens, NY  \n",
       "9              Montevideo, Uruguay  "
      ]
     },
     "execution_count": 7,
     "metadata": {},
     "output_type": "execute_result"
    }
   ],
   "source": [
    "data.head(10)"
   ]
  },
  {
   "cell_type": "code",
   "execution_count": 8,
   "metadata": {
    "pycharm": {
     "name": "#%%\n"
    }
   },
   "outputs": [
    {
     "data": {
      "text/plain": [
       "(1309, 14)"
      ]
     },
     "execution_count": 8,
     "metadata": {},
     "output_type": "execute_result"
    }
   ],
   "source": [
    "data.shape"
   ]
  },
  {
   "cell_type": "code",
   "execution_count": 9,
   "metadata": {
    "pycharm": {
     "name": "#%%\n"
    }
   },
   "outputs": [
    {
     "data": {
      "text/html": [
       "<div>\n",
       "<style scoped>\n",
       "    .dataframe tbody tr th:only-of-type {\n",
       "        vertical-align: middle;\n",
       "    }\n",
       "\n",
       "    .dataframe tbody tr th {\n",
       "        vertical-align: top;\n",
       "    }\n",
       "\n",
       "    .dataframe thead th {\n",
       "        text-align: right;\n",
       "    }\n",
       "</style>\n",
       "<table border=\"1\" class=\"dataframe\">\n",
       "  <thead>\n",
       "    <tr style=\"text-align: right;\">\n",
       "      <th></th>\n",
       "      <th>pclass</th>\n",
       "      <th>survived</th>\n",
       "      <th>name</th>\n",
       "      <th>sex</th>\n",
       "      <th>age</th>\n",
       "      <th>sibsp</th>\n",
       "      <th>parch</th>\n",
       "      <th>ticket</th>\n",
       "      <th>fare</th>\n",
       "      <th>cabin</th>\n",
       "      <th>embarked</th>\n",
       "      <th>boat</th>\n",
       "      <th>body</th>\n",
       "      <th>home.dest</th>\n",
       "    </tr>\n",
       "  </thead>\n",
       "  <tbody>\n",
       "    <tr>\n",
       "      <th>1304</th>\n",
       "      <td>3</td>\n",
       "      <td>0</td>\n",
       "      <td>Zabour, Miss. Hileni</td>\n",
       "      <td>female</td>\n",
       "      <td>14.5</td>\n",
       "      <td>1</td>\n",
       "      <td>0</td>\n",
       "      <td>2665</td>\n",
       "      <td>14.4542</td>\n",
       "      <td>NaN</td>\n",
       "      <td>C</td>\n",
       "      <td>NaN</td>\n",
       "      <td>328.0</td>\n",
       "      <td>NaN</td>\n",
       "    </tr>\n",
       "    <tr>\n",
       "      <th>1305</th>\n",
       "      <td>3</td>\n",
       "      <td>0</td>\n",
       "      <td>Zabour, Miss. Thamine</td>\n",
       "      <td>female</td>\n",
       "      <td>NaN</td>\n",
       "      <td>1</td>\n",
       "      <td>0</td>\n",
       "      <td>2665</td>\n",
       "      <td>14.4542</td>\n",
       "      <td>NaN</td>\n",
       "      <td>C</td>\n",
       "      <td>NaN</td>\n",
       "      <td>NaN</td>\n",
       "      <td>NaN</td>\n",
       "    </tr>\n",
       "    <tr>\n",
       "      <th>1306</th>\n",
       "      <td>3</td>\n",
       "      <td>0</td>\n",
       "      <td>Zakarian, Mr. Mapriededer</td>\n",
       "      <td>male</td>\n",
       "      <td>26.5</td>\n",
       "      <td>0</td>\n",
       "      <td>0</td>\n",
       "      <td>2656</td>\n",
       "      <td>7.2250</td>\n",
       "      <td>NaN</td>\n",
       "      <td>C</td>\n",
       "      <td>NaN</td>\n",
       "      <td>304.0</td>\n",
       "      <td>NaN</td>\n",
       "    </tr>\n",
       "    <tr>\n",
       "      <th>1307</th>\n",
       "      <td>3</td>\n",
       "      <td>0</td>\n",
       "      <td>Zakarian, Mr. Ortin</td>\n",
       "      <td>male</td>\n",
       "      <td>27.0</td>\n",
       "      <td>0</td>\n",
       "      <td>0</td>\n",
       "      <td>2670</td>\n",
       "      <td>7.2250</td>\n",
       "      <td>NaN</td>\n",
       "      <td>C</td>\n",
       "      <td>NaN</td>\n",
       "      <td>NaN</td>\n",
       "      <td>NaN</td>\n",
       "    </tr>\n",
       "    <tr>\n",
       "      <th>1308</th>\n",
       "      <td>3</td>\n",
       "      <td>0</td>\n",
       "      <td>Zimmerman, Mr. Leo</td>\n",
       "      <td>male</td>\n",
       "      <td>29.0</td>\n",
       "      <td>0</td>\n",
       "      <td>0</td>\n",
       "      <td>315082</td>\n",
       "      <td>7.8750</td>\n",
       "      <td>NaN</td>\n",
       "      <td>S</td>\n",
       "      <td>NaN</td>\n",
       "      <td>NaN</td>\n",
       "      <td>NaN</td>\n",
       "    </tr>\n",
       "  </tbody>\n",
       "</table>\n",
       "</div>"
      ],
      "text/plain": [
       "      pclass  survived                       name     sex   age  sibsp  parch  \\\n",
       "1304       3         0       Zabour, Miss. Hileni  female  14.5      1      0   \n",
       "1305       3         0      Zabour, Miss. Thamine  female   NaN      1      0   \n",
       "1306       3         0  Zakarian, Mr. Mapriededer    male  26.5      0      0   \n",
       "1307       3         0        Zakarian, Mr. Ortin    male  27.0      0      0   \n",
       "1308       3         0         Zimmerman, Mr. Leo    male  29.0      0      0   \n",
       "\n",
       "      ticket     fare cabin embarked boat   body home.dest  \n",
       "1304    2665  14.4542   NaN        C  NaN  328.0       NaN  \n",
       "1305    2665  14.4542   NaN        C  NaN    NaN       NaN  \n",
       "1306    2656   7.2250   NaN        C  NaN  304.0       NaN  \n",
       "1307    2670   7.2250   NaN        C  NaN    NaN       NaN  \n",
       "1308  315082   7.8750   NaN        S  NaN    NaN       NaN  "
      ]
     },
     "execution_count": 9,
     "metadata": {},
     "output_type": "execute_result"
    }
   ],
   "source": [
    "data.tail()"
   ]
  },
  {
   "cell_type": "code",
   "execution_count": 10,
   "metadata": {
    "pycharm": {
     "name": "#%%\n"
    }
   },
   "outputs": [
    {
     "data": {
      "text/plain": [
       "array(['pclass', 'survived', 'name', 'sex', 'age', 'sibsp', 'parch',\n",
       "       'ticket', 'fare', 'cabin', 'embarked', 'boat', 'body', 'home.dest'],\n",
       "      dtype=object)"
      ]
     },
     "execution_count": 10,
     "metadata": {},
     "output_type": "execute_result"
    }
   ],
   "source": [
    "data.columns.values"
   ]
  },
  {
   "cell_type": "markdown",
   "metadata": {
    "pycharm": {
     "name": "#%% md\n"
    }
   },
   "source": [
    "Vamos hacer un resumen de los estadísticos básicos de las variables numéricas"
   ]
  },
  {
   "cell_type": "code",
   "execution_count": 11,
   "metadata": {
    "pycharm": {
     "name": "#%%\n"
    }
   },
   "outputs": [
    {
     "data": {
      "text/html": [
       "<div>\n",
       "<style scoped>\n",
       "    .dataframe tbody tr th:only-of-type {\n",
       "        vertical-align: middle;\n",
       "    }\n",
       "\n",
       "    .dataframe tbody tr th {\n",
       "        vertical-align: top;\n",
       "    }\n",
       "\n",
       "    .dataframe thead th {\n",
       "        text-align: right;\n",
       "    }\n",
       "</style>\n",
       "<table border=\"1\" class=\"dataframe\">\n",
       "  <thead>\n",
       "    <tr style=\"text-align: right;\">\n",
       "      <th></th>\n",
       "      <th>pclass</th>\n",
       "      <th>survived</th>\n",
       "      <th>age</th>\n",
       "      <th>sibsp</th>\n",
       "      <th>parch</th>\n",
       "      <th>fare</th>\n",
       "      <th>body</th>\n",
       "    </tr>\n",
       "  </thead>\n",
       "  <tbody>\n",
       "    <tr>\n",
       "      <th>count</th>\n",
       "      <td>1309.000000</td>\n",
       "      <td>1309.000000</td>\n",
       "      <td>1046.000000</td>\n",
       "      <td>1309.000000</td>\n",
       "      <td>1309.000000</td>\n",
       "      <td>1308.000000</td>\n",
       "      <td>121.000000</td>\n",
       "    </tr>\n",
       "    <tr>\n",
       "      <th>mean</th>\n",
       "      <td>2.294882</td>\n",
       "      <td>0.381971</td>\n",
       "      <td>29.881135</td>\n",
       "      <td>0.498854</td>\n",
       "      <td>0.385027</td>\n",
       "      <td>33.295479</td>\n",
       "      <td>160.809917</td>\n",
       "    </tr>\n",
       "    <tr>\n",
       "      <th>std</th>\n",
       "      <td>0.837836</td>\n",
       "      <td>0.486055</td>\n",
       "      <td>14.413500</td>\n",
       "      <td>1.041658</td>\n",
       "      <td>0.865560</td>\n",
       "      <td>51.758668</td>\n",
       "      <td>97.696922</td>\n",
       "    </tr>\n",
       "    <tr>\n",
       "      <th>min</th>\n",
       "      <td>1.000000</td>\n",
       "      <td>0.000000</td>\n",
       "      <td>0.166700</td>\n",
       "      <td>0.000000</td>\n",
       "      <td>0.000000</td>\n",
       "      <td>0.000000</td>\n",
       "      <td>1.000000</td>\n",
       "    </tr>\n",
       "    <tr>\n",
       "      <th>25%</th>\n",
       "      <td>2.000000</td>\n",
       "      <td>0.000000</td>\n",
       "      <td>21.000000</td>\n",
       "      <td>0.000000</td>\n",
       "      <td>0.000000</td>\n",
       "      <td>7.895800</td>\n",
       "      <td>72.000000</td>\n",
       "    </tr>\n",
       "    <tr>\n",
       "      <th>50%</th>\n",
       "      <td>3.000000</td>\n",
       "      <td>0.000000</td>\n",
       "      <td>28.000000</td>\n",
       "      <td>0.000000</td>\n",
       "      <td>0.000000</td>\n",
       "      <td>14.454200</td>\n",
       "      <td>155.000000</td>\n",
       "    </tr>\n",
       "    <tr>\n",
       "      <th>75%</th>\n",
       "      <td>3.000000</td>\n",
       "      <td>1.000000</td>\n",
       "      <td>39.000000</td>\n",
       "      <td>1.000000</td>\n",
       "      <td>0.000000</td>\n",
       "      <td>31.275000</td>\n",
       "      <td>256.000000</td>\n",
       "    </tr>\n",
       "    <tr>\n",
       "      <th>max</th>\n",
       "      <td>3.000000</td>\n",
       "      <td>1.000000</td>\n",
       "      <td>80.000000</td>\n",
       "      <td>8.000000</td>\n",
       "      <td>9.000000</td>\n",
       "      <td>512.329200</td>\n",
       "      <td>328.000000</td>\n",
       "    </tr>\n",
       "  </tbody>\n",
       "</table>\n",
       "</div>"
      ],
      "text/plain": [
       "            pclass     survived          age        sibsp        parch  \\\n",
       "count  1309.000000  1309.000000  1046.000000  1309.000000  1309.000000   \n",
       "mean      2.294882     0.381971    29.881135     0.498854     0.385027   \n",
       "std       0.837836     0.486055    14.413500     1.041658     0.865560   \n",
       "min       1.000000     0.000000     0.166700     0.000000     0.000000   \n",
       "25%       2.000000     0.000000    21.000000     0.000000     0.000000   \n",
       "50%       3.000000     0.000000    28.000000     0.000000     0.000000   \n",
       "75%       3.000000     1.000000    39.000000     1.000000     0.000000   \n",
       "max       3.000000     1.000000    80.000000     8.000000     9.000000   \n",
       "\n",
       "              fare        body  \n",
       "count  1308.000000  121.000000  \n",
       "mean     33.295479  160.809917  \n",
       "std      51.758668   97.696922  \n",
       "min       0.000000    1.000000  \n",
       "25%       7.895800   72.000000  \n",
       "50%      14.454200  155.000000  \n",
       "75%      31.275000  256.000000  \n",
       "max     512.329200  328.000000  "
      ]
     },
     "execution_count": 11,
     "metadata": {},
     "output_type": "execute_result"
    }
   ],
   "source": [
    "data.describe()"
   ]
  },
  {
   "cell_type": "code",
   "execution_count": 30,
   "metadata": {
    "pycharm": {
     "name": "#%%\n"
    }
   },
   "outputs": [
    {
     "data": {
      "text/plain": "pclass       int64  \nsurvived     int64  \nname         object \nsex          object \nage          float64\nsibsp        int64  \nparch        int64  \nticket       object \nfare         float64\ncabin        object \nembarked     object \nboat         object \nbody         float64\nhome.dest    object \ndtype: object"
     },
     "execution_count": 30,
     "metadata": {},
     "output_type": "execute_result"
    }
   ],
   "source": [
    "data.dtypes"
   ]
  },
  {
   "cell_type": "markdown",
   "metadata": {
    "pycharm": {
     "name": "#%% md\n"
    }
   },
   "source": [
    "# Missing values"
   ]
  },
  {
   "cell_type": "code",
   "execution_count": 32,
   "outputs": [
    {
     "data": {
      "text/plain": "'{\"0\":true,\"1\":true,\"2\":true,\"3\":false,\"4\":true,\"5\":true,\"6\":true,\"7\":true,\"8\":true,\"9\":false,\"10\":false,\"11\":true,\"12\":true,\"13\":true,\"14\":true,\"15\":true,\"16\":true,\"17\":true,\"18\":true,\"19\":true,\"20\":true,\"21\":true,\"22\":true,\"23\":true,\"24\":true,\"25\":false,\"26\":true,\"27\":true,\"28\":true,\"29\":true,\"30\":true,\"31\":true,\"32\":true,\"33\":true,\"34\":true,\"35\":true,\"36\":true,\"37\":true,\"38\":true,\"39\":false,\"40\":true,\"41\":true,\"42\":true,\"43\":true,\"44\":true,\"45\":true,\"46\":true,\"47\":true,\"48\":true,\"49\":true,\"50\":true,\"51\":true,\"52\":true,\"53\":true,\"54\":true,\"55\":true,\"56\":true,\"57\":true,\"58\":true,\"59\":true,\"60\":false,\"61\":true,\"62\":true,\"63\":true,\"64\":true,\"65\":true,\"66\":true,\"67\":true,\"68\":true,\"69\":true,\"70\":true,\"71\":true,\"72\":true,\"73\":true,\"74\":true,\"75\":true,\"76\":true,\"77\":true,\"78\":true,\"79\":true,\"80\":true,\"81\":false,\"82\":true,\"83\":true,\"84\":true,\"85\":true,\"86\":true,\"87\":true,\"88\":true,\"89\":true,\"90\":true,\"91\":true,\"92\":true,\"93\":true,\"94\":true,\"95\":true,\"96\":false,\"97\":true,\"98\":true,\"99\":true,\"100\":true,\"101\":false,\"102\":true,\"103\":true,\"104\":true,\"105\":true,\"106\":true,\"107\":true,\"108\":true,\"109\":true,\"110\":true,\"111\":true,\"112\":true,\"113\":true,\"114\":true,\"115\":true,\"116\":true,\"117\":true,\"118\":true,\"119\":true,\"120\":true,\"121\":true,\"122\":true,\"123\":true,\"124\":true,\"125\":true,\"126\":true,\"127\":true,\"128\":false,\"129\":true,\"130\":true,\"131\":true,\"132\":true,\"133\":true,\"134\":true,\"135\":true,\"136\":true,\"137\":true,\"138\":false,\"139\":true,\"140\":true,\"141\":true,\"142\":true,\"143\":true,\"144\":true,\"145\":true,\"146\":true,\"147\":true,\"148\":true,\"149\":true,\"150\":false,\"151\":true,\"152\":true,\"153\":true,\"154\":false,\"155\":true,\"156\":true,\"157\":true,\"158\":true,\"159\":true,\"160\":true,\"161\":true,\"162\":false,\"163\":true,\"164\":true,\"165\":true,\"166\":true,\"167\":true,\"168\":true,\"169\":true,\"170\":true,\"171\":false,\"172\":true,\"173\":false,\"174\":false,\"175\":true,\"176\":true,\"177\":true,\"178\":true,\"179\":true,\"180\":true,\"181\":true,\"182\":true,\"183\":true,\"184\":true,\"185\":true,\"186\":true,\"187\":true,\"188\":true,\"189\":false,\"190\":true,\"191\":true,\"192\":true,\"193\":true,\"194\":true,\"195\":true,\"196\":true,\"197\":true,\"198\":true,\"199\":true,\"200\":false,\"201\":false,\"202\":true,\"203\":true,\"204\":true,\"205\":false,\"206\":false,\"207\":true,\"208\":true,\"209\":true,\"210\":true,\"211\":true,\"212\":true,\"213\":true,\"214\":true,\"215\":false,\"216\":true,\"217\":false,\"218\":true,\"219\":true,\"220\":true,\"221\":false,\"222\":false,\"223\":true,\"224\":false,\"225\":true,\"226\":true,\"227\":true,\"228\":true,\"229\":true,\"230\":true,\"231\":true,\"232\":false,\"233\":true,\"234\":true,\"235\":true,\"236\":false,\"237\":true,\"238\":true,\"239\":true,\"240\":true,\"241\":true,\"242\":true,\"243\":false,\"244\":true,\"245\":true,\"246\":true,\"247\":true,\"248\":false,\"249\":true,\"250\":true,\"251\":true,\"252\":true,\"253\":true,\"254\":true,\"255\":true,\"256\":true,\"257\":true,\"258\":true,\"259\":true,\"260\":true,\"261\":true,\"262\":true,\"263\":true,\"264\":true,\"265\":true,\"266\":true,\"267\":true,\"268\":true,\"269\":true,\"270\":true,\"271\":true,\"272\":true,\"273\":true,\"274\":true,\"275\":true,\"276\":true,\"277\":true,\"278\":true,\"279\":true,\"280\":true,\"281\":true,\"282\":true,\"283\":true,\"284\":true,\"285\":false,\"286\":true,\"287\":false,\"288\":true,\"289\":true,\"290\":true,\"291\":true,\"292\":true,\"293\":true,\"294\":true,\"295\":true,\"296\":true,\"297\":true,\"298\":true,\"299\":true,\"300\":false,\"301\":true,\"302\":true,\"303\":true,\"304\":true,\"305\":true,\"306\":true,\"307\":false,\"308\":true,\"309\":true,\"310\":true,\"311\":true,\"312\":true,\"313\":true,\"314\":true,\"315\":true,\"316\":true,\"317\":true,\"318\":true,\"319\":true,\"320\":true,\"321\":true,\"322\":true,\"323\":true,\"324\":true,\"325\":true,\"326\":true,\"327\":true,\"328\":true,\"329\":true,\"330\":true,\"331\":true,\"332\":true,\"333\":true,\"334\":true,\"335\":false,\"336\":true,\"337\":true,\"338\":true,\"339\":true,\"340\":true,\"341\":true,\"342\":true,\"343\":true,\"344\":true,\"345\":true,\"346\":true,\"347\":true,\"348\":true,\"349\":true,\"350\":true,\"351\":true,\"352\":true,\"353\":true,\"354\":true,\"355\":true,\"356\":false,\"357\":true,\"358\":true,\"359\":true,\"360\":true,\"361\":true,\"362\":true,\"363\":true,\"364\":false,\"365\":true,\"366\":true,\"367\":false,\"368\":false,\"369\":true,\"370\":true,\"371\":true,\"372\":true,\"373\":true,\"374\":true,\"375\":true,\"376\":true,\"377\":true,\"378\":true,\"379\":true,\"380\":true,\"381\":true,\"382\":true,\"383\":true,\"384\":true,\"385\":true,\"386\":true,\"387\":true,\"388\":true,\"389\":true,\"390\":true,\"391\":false,\"392\":true,\"393\":true,\"394\":true,\"395\":true,\"396\":true,\"397\":true,\"398\":true,\"399\":true,\"400\":true,\"401\":true,\"402\":true,\"403\":true,\"404\":true,\"405\":true,\"406\":false,\"407\":true,\"408\":true,\"409\":false,\"410\":true,\"411\":true,\"412\":false,\"413\":true,\"414\":true,\"415\":true,\"416\":true,\"417\":true,\"418\":true,\"419\":true,\"420\":true,\"421\":false,\"422\":false,\"423\":true,\"424\":false,\"425\":false,\"426\":false,\"427\":true,\"428\":true,\"429\":false,\"430\":true,\"431\":true,\"432\":true,\"433\":true,\"434\":true,\"435\":true,\"436\":true,\"437\":true,\"438\":true,\"439\":true,\"440\":true,\"441\":true,\"442\":true,\"443\":false,\"444\":true,\"445\":true,\"446\":true,\"447\":true,\"448\":true,\"449\":true,\"450\":false,\"451\":true,\"452\":true,\"453\":true,\"454\":true,\"455\":true,\"456\":true,\"457\":true,\"458\":true,\"459\":true,\"460\":true,\"461\":true,\"462\":true,\"463\":true,\"464\":true,\"465\":true,\"466\":false,\"467\":true,\"468\":true,\"469\":true,\"470\":true,\"471\":true,\"472\":true,\"473\":true,\"474\":false,\"475\":true,\"476\":true,\"477\":true,\"478\":true,\"479\":true,\"480\":true,\"481\":true,\"482\":true,\"483\":true,\"484\":true,\"485\":true,\"486\":false,\"487\":true,\"488\":false,\"489\":true,\"490\":false,\"491\":true,\"492\":true,\"493\":true,\"494\":true,\"495\":true,\"496\":true,\"497\":true,\"498\":false,\"499\":true,\"500\":true,\"501\":true,\"502\":true,\"503\":true,\"504\":true,\"505\":false,\"506\":true,\"507\":true,\"508\":true,\"509\":true,\"510\":true,\"511\":true,\"512\":false,\"513\":true,\"514\":true,\"515\":true,\"516\":false,\"517\":true,\"518\":false,\"519\":false,\"520\":true,\"521\":true,\"522\":true,\"523\":true,\"524\":true,\"525\":true,\"526\":true,\"527\":true,\"528\":true,\"529\":true,\"530\":true,\"531\":true,\"532\":true,\"533\":true,\"534\":true,\"535\":true,\"536\":true,\"537\":true,\"538\":true,\"539\":true,\"540\":true,\"541\":true,\"542\":true,\"543\":true,\"544\":true,\"545\":true,\"546\":true,\"547\":true,\"548\":true,\"549\":true,\"550\":true,\"551\":true,\"552\":true,\"553\":true,\"554\":true,\"555\":true,\"556\":true,\"557\":true,\"558\":true,\"559\":true,\"560\":true,\"561\":true,\"562\":true,\"563\":true,\"564\":true,\"565\":true,\"566\":true,\"567\":false,\"568\":false,\"569\":true,\"570\":true,\"571\":true,\"572\":true,\"573\":true,\"574\":true,\"575\":true,\"576\":true,\"577\":true,\"578\":true,\"579\":true,\"580\":true,\"581\":true,\"582\":true,\"583\":true,\"584\":true,\"585\":false,\"586\":true,\"587\":true,\"588\":true,\"589\":true,\"590\":true,\"591\":true,\"592\":true,\"593\":true,\"594\":true,\"595\":true,\"596\":true,\"597\":true,\"598\":true,\"599\":true,\"600\":true,\"601\":true,\"602\":false,\"603\":true,\"604\":true,\"605\":true,\"606\":true,\"607\":true,\"608\":false,\"609\":false,\"610\":true,\"611\":true,\"612\":true,\"613\":true,\"614\":true,\"615\":true,\"616\":true,\"617\":false,\"618\":true,\"619\":false,\"620\":false,\"621\":true,\"622\":true,\"623\":true,\"624\":true,\"625\":true,\"626\":true,\"627\":true,\"628\":true,\"629\":true,\"630\":true,\"631\":true,\"632\":true,\"633\":true,\"634\":true,\"635\":true,\"636\":true,\"637\":true,\"638\":true,\"639\":true,\"640\":true,\"641\":true,\"642\":true,\"643\":true,\"644\":false,\"645\":true,\"646\":true,\"647\":true,\"648\":true,\"649\":true,\"650\":true,\"651\":true,\"652\":true,\"653\":true,\"654\":true,\"655\":true,\"656\":true,\"657\":true,\"658\":true,\"659\":true,\"660\":true,\"661\":true,\"662\":true,\"663\":true,\"664\":true,\"665\":true,\"666\":true,\"667\":true,\"668\":true,\"669\":true,\"670\":true,\"671\":true,\"672\":true,\"673\":true,\"674\":true,\"675\":true,\"676\":true,\"677\":true,\"678\":true,\"679\":true,\"680\":true,\"681\":true,\"682\":true,\"683\":true,\"684\":true,\"685\":true,\"686\":true,\"687\":true,\"688\":true,\"689\":true,\"690\":true,\"691\":true,\"692\":false,\"693\":true,\"694\":true,\"695\":true,\"696\":true,\"697\":true,\"698\":true,\"699\":true,\"700\":true,\"701\":true,\"702\":true,\"703\":true,\"704\":true,\"705\":true,\"706\":true,\"707\":true,\"708\":true,\"709\":true,\"710\":true,\"711\":true,\"712\":true,\"713\":true,\"714\":true,\"715\":true,\"716\":true,\"717\":true,\"718\":true,\"719\":true,\"720\":true,\"721\":true,\"722\":true,\"723\":true,\"724\":true,\"725\":true,\"726\":true,\"727\":false,\"728\":true,\"729\":true,\"730\":true,\"731\":true,\"732\":true,\"733\":true,\"734\":true,\"735\":true,\"736\":true,\"737\":true,\"738\":true,\"739\":true,\"740\":true,\"741\":false,\"742\":true,\"743\":true,\"744\":true,\"745\":true,\"746\":true,\"747\":true,\"748\":false,\"749\":true,\"750\":true,\"751\":true,\"752\":true,\"753\":true,\"754\":true,\"755\":true,\"756\":true,\"757\":true,\"758\":true,\"759\":true,\"760\":true,\"761\":true,\"762\":true,\"763\":true,\"764\":true,\"765\":true,\"766\":true,\"767\":true,\"768\":true,\"769\":true,\"770\":true,\"771\":true,\"772\":true,\"773\":true,\"774\":true,\"775\":true,\"776\":true,\"777\":true,\"778\":true,\"779\":true,\"780\":true,\"781\":false,\"782\":true,\"783\":true,\"784\":true,\"785\":true,\"786\":true,\"787\":true,\"788\":true,\"789\":true,\"790\":true,\"791\":true,\"792\":true,\"793\":true,\"794\":true,\"795\":true,\"796\":false,\"797\":false,\"798\":true,\"799\":true,\"800\":true,\"801\":true,\"802\":true,\"803\":true,\"804\":true,\"805\":true,\"806\":true,\"807\":true,\"808\":true,\"809\":true,\"810\":true,\"811\":true,\"812\":true,\"813\":true,\"814\":true,\"815\":true,\"816\":true,\"817\":false,\"818\":true,\"819\":true,\"820\":true,\"821\":true,\"822\":true,\"823\":true,\"824\":true,\"825\":true,\"826\":true,\"827\":true,\"828\":true,\"829\":true,\"830\":true,\"831\":true,\"832\":true,\"833\":true,\"834\":true,\"835\":true,\"836\":true,\"837\":false,\"838\":true,\"839\":true,\"840\":true,\"841\":true,\"842\":true,\"843\":true,\"844\":true,\"845\":true,\"846\":true,\"847\":false,\"848\":true,\"849\":true,\"850\":false,\"851\":true,\"852\":true,\"853\":true,\"854\":true,\"855\":true,\"856\":true,\"857\":true,\"858\":true,\"859\":true,\"860\":true,\"861\":true,\"862\":true,\"863\":false,\"864\":true,\"865\":true,\"866\":true,\"867\":true,\"868\":true,\"869\":true,\"870\":true,\"871\":true,\"872\":true,\"873\":false,\"874\":true,\"875\":true,\"876\":true,\"877\":true,\"878\":true,\"879\":true,\"880\":true,\"881\":true,\"882\":true,\"883\":true,\"884\":true,\"885\":true,\"886\":true,\"887\":true,\"888\":false,\"889\":true,\"890\":false,\"891\":false,\"892\":true,\"893\":true,\"894\":true,\"895\":true,\"896\":true,\"897\":false,\"898\":true,\"899\":true,\"900\":true,\"901\":true,\"902\":true,\"903\":true,\"904\":true,\"905\":true,\"906\":true,\"907\":true,\"908\":true,\"909\":true,\"910\":true,\"911\":true,\"912\":true,\"913\":true,\"914\":true,\"915\":true,\"916\":true,\"917\":true,\"918\":true,\"919\":false,\"920\":true,\"921\":true,\"922\":true,\"923\":true,\"924\":false,\"925\":true,\"926\":true,\"927\":true,\"928\":true,\"929\":true,\"930\":true,\"931\":true,\"932\":true,\"933\":true,\"934\":true,\"935\":true,\"936\":true,\"937\":true,\"938\":true,\"939\":true,\"940\":true,\"941\":true,\"942\":true,\"943\":true,\"944\":true,\"945\":true,\"946\":true,\"947\":true,\"948\":true,\"949\":true,\"950\":true,\"951\":true,\"952\":true,\"953\":true,\"954\":true,\"955\":true,\"956\":true,\"957\":true,\"958\":true,\"959\":true,\"960\":false,\"961\":true,\"962\":true,\"963\":true,\"964\":true,\"965\":true,\"966\":true,\"967\":true,\"968\":true,\"969\":true,\"970\":true,\"971\":true,\"972\":true,\"973\":true,\"974\":true,\"975\":true,\"976\":false,\"977\":true,\"978\":true,\"979\":true,\"980\":true,\"981\":true,\"982\":true,\"983\":true,\"984\":true,\"985\":true,\"986\":true,\"987\":true,\"988\":true,\"989\":true,\"990\":true,\"991\":true,\"992\":false,\"993\":true,\"994\":true,\"995\":true,\"996\":true,\"997\":true,\"998\":true,\"999\":true,\"1000\":true,\"1001\":true,\"1002\":true,\"1003\":true,\"1004\":true,\"1005\":true,\"1006\":true,\"1007\":true,\"1008\":true,\"1009\":true,\"1010\":true,\"1011\":false,\"1012\":true,\"1013\":true,\"1014\":true,\"1015\":false,\"1016\":true,\"1017\":true,\"1018\":true,\"1019\":true,\"1020\":true,\"1021\":true,\"1022\":true,\"1023\":true,\"1024\":false,\"1025\":true,\"1026\":true,\"1027\":true,\"1028\":true,\"1029\":true,\"1030\":true,\"1031\":true,\"1032\":true,\"1033\":true,\"1034\":true,\"1035\":true,\"1036\":true,\"1037\":true,\"1038\":true,\"1039\":true,\"1040\":true,\"1041\":true,\"1042\":true,\"1043\":true,\"1044\":true,\"1045\":true,\"1046\":true,\"1047\":true,\"1048\":true,\"1049\":true,\"1050\":true,\"1051\":true,\"1052\":true,\"1053\":true,\"1054\":true,\"1055\":true,\"1056\":true,\"1057\":true,\"1058\":true,\"1059\":true,\"1060\":true,\"1061\":true,\"1062\":true,\"1063\":true,\"1064\":true,\"1065\":true,\"1066\":false,\"1067\":true,\"1068\":true,\"1069\":true,\"1070\":true,\"1071\":true,\"1072\":true,\"1073\":true,\"1074\":true,\"1075\":true,\"1076\":true,\"1077\":true,\"1078\":true,\"1079\":true,\"1080\":true,\"1081\":true,\"1082\":true,\"1083\":false,\"1084\":true,\"1085\":true,\"1086\":true,\"1087\":true,\"1088\":true,\"1089\":false,\"1090\":true,\"1091\":true,\"1092\":true,\"1093\":true,\"1094\":true,\"1095\":true,\"1096\":false,\"1097\":true,\"1098\":true,\"1099\":true,\"1100\":false,\"1101\":true,\"1102\":true,\"1103\":true,\"1104\":true,\"1105\":true,\"1106\":true,\"1107\":true,\"1108\":true,\"1109\":true,\"1110\":true,\"1111\":true,\"1112\":true,\"1113\":true,\"1114\":true,\"1115\":true,\"1116\":true,\"1117\":true,\"1118\":true,\"1119\":true,\"1120\":true,\"1121\":true,\"1122\":true,\"1123\":true,\"1124\":true,\"1125\":true,\"1126\":true,\"1127\":true,\"1128\":true,\"1129\":true,\"1130\":true,\"1131\":true,\"1132\":true,\"1133\":true,\"1134\":true,\"1135\":true,\"1136\":true,\"1137\":true,\"1138\":true,\"1139\":true,\"1140\":true,\"1141\":true,\"1142\":true,\"1143\":true,\"1144\":true,\"1145\":true,\"1146\":false,\"1147\":true,\"1148\":true,\"1149\":true,\"1150\":true,\"1151\":true,\"1152\":false,\"1153\":false,\"1154\":true,\"1155\":true,\"1156\":true,\"1157\":true,\"1158\":true,\"1159\":true,\"1160\":true,\"1161\":true,\"1162\":true,\"1163\":true,\"1164\":true,\"1165\":true,\"1166\":true,\"1167\":true,\"1168\":true,\"1169\":false,\"1170\":true,\"1171\":false,\"1172\":true,\"1173\":true,\"1174\":true,\"1175\":true,\"1176\":true,\"1177\":true,\"1178\":true,\"1179\":true,\"1180\":true,\"1181\":true,\"1182\":true,\"1183\":true,\"1184\":true,\"1185\":true,\"1186\":true,\"1187\":true,\"1188\":true,\"1189\":true,\"1190\":true,\"1191\":true,\"1192\":false,\"1193\":true,\"1194\":true,\"1195\":true,\"1196\":true,\"1197\":true,\"1198\":true,\"1199\":true,\"1200\":true,\"1201\":true,\"1202\":true,\"1203\":true,\"1204\":true,\"1205\":true,\"1206\":true,\"1207\":true,\"1208\":true,\"1209\":true,\"1210\":true,\"1211\":true,\"1212\":true,\"1213\":true,\"1214\":true,\"1215\":true,\"1216\":true,\"1217\":true,\"1218\":true,\"1219\":true,\"1220\":true,\"1221\":true,\"1222\":true,\"1223\":true,\"1224\":true,\"1225\":false,\"1226\":true,\"1227\":true,\"1228\":true,\"1229\":true,\"1230\":true,\"1231\":true,\"1232\":true,\"1233\":true,\"1234\":true,\"1235\":true,\"1236\":true,\"1237\":true,\"1238\":true,\"1239\":false,\"1240\":true,\"1241\":true,\"1242\":true,\"1243\":true,\"1244\":true,\"1245\":true,\"1246\":true,\"1247\":true,\"1248\":true,\"1249\":true,\"1250\":true,\"1251\":false,\"1252\":true,\"1253\":true,\"1254\":true,\"1255\":true,\"1256\":true,\"1257\":true,\"1258\":true,\"1259\":true,\"1260\":true,\"1261\":true,\"1262\":true,\"1263\":false,\"1264\":false,\"1265\":true,\"1266\":true,\"1267\":true,\"1268\":true,\"1269\":true,\"1270\":true,\"1271\":true,\"1272\":true,\"1273\":true,\"1274\":true,\"1275\":true,\"1276\":true,\"1277\":true,\"1278\":true,\"1279\":true,\"1280\":true,\"1281\":true,\"1282\":true,\"1283\":true,\"1284\":true,\"1285\":false,\"1286\":true,\"1287\":true,\"1288\":false,\"1289\":true,\"1290\":true,\"1291\":true,\"1292\":true,\"1293\":true,\"1294\":false,\"1295\":true,\"1296\":false,\"1297\":true,\"1298\":true,\"1299\":true,\"1300\":true,\"1301\":false,\"1302\":true,\"1303\":true,\"1304\":false,\"1305\":true,\"1306\":false,\"1307\":true,\"1308\":true}'"
     },
     "execution_count": 32,
     "metadata": {},
     "output_type": "execute_result"
    }
   ],
   "source": [
    "pd.isnull(data[\"body\"]).to_json()"
   ],
   "metadata": {
    "collapsed": false,
    "pycharm": {
     "name": "#%%\n"
    }
   }
  },
  {
   "cell_type": "code",
   "execution_count": 34,
   "outputs": [
    {
     "data": {
      "text/plain": "'{\"0\":false,\"1\":false,\"2\":false,\"3\":true,\"4\":false,\"5\":false,\"6\":false,\"7\":false,\"8\":false,\"9\":true,\"10\":true,\"11\":false,\"12\":false,\"13\":false,\"14\":false,\"15\":false,\"16\":false,\"17\":false,\"18\":false,\"19\":false,\"20\":false,\"21\":false,\"22\":false,\"23\":false,\"24\":false,\"25\":true,\"26\":false,\"27\":false,\"28\":false,\"29\":false,\"30\":false,\"31\":false,\"32\":false,\"33\":false,\"34\":false,\"35\":false,\"36\":false,\"37\":false,\"38\":false,\"39\":true,\"40\":false,\"41\":false,\"42\":false,\"43\":false,\"44\":false,\"45\":false,\"46\":false,\"47\":false,\"48\":false,\"49\":false,\"50\":false,\"51\":false,\"52\":false,\"53\":false,\"54\":false,\"55\":false,\"56\":false,\"57\":false,\"58\":false,\"59\":false,\"60\":true,\"61\":false,\"62\":false,\"63\":false,\"64\":false,\"65\":false,\"66\":false,\"67\":false,\"68\":false,\"69\":false,\"70\":false,\"71\":false,\"72\":false,\"73\":false,\"74\":false,\"75\":false,\"76\":false,\"77\":false,\"78\":false,\"79\":false,\"80\":false,\"81\":true,\"82\":false,\"83\":false,\"84\":false,\"85\":false,\"86\":false,\"87\":false,\"88\":false,\"89\":false,\"90\":false,\"91\":false,\"92\":false,\"93\":false,\"94\":false,\"95\":false,\"96\":true,\"97\":false,\"98\":false,\"99\":false,\"100\":false,\"101\":true,\"102\":false,\"103\":false,\"104\":false,\"105\":false,\"106\":false,\"107\":false,\"108\":false,\"109\":false,\"110\":false,\"111\":false,\"112\":false,\"113\":false,\"114\":false,\"115\":false,\"116\":false,\"117\":false,\"118\":false,\"119\":false,\"120\":false,\"121\":false,\"122\":false,\"123\":false,\"124\":false,\"125\":false,\"126\":false,\"127\":false,\"128\":true,\"129\":false,\"130\":false,\"131\":false,\"132\":false,\"133\":false,\"134\":false,\"135\":false,\"136\":false,\"137\":false,\"138\":true,\"139\":false,\"140\":false,\"141\":false,\"142\":false,\"143\":false,\"144\":false,\"145\":false,\"146\":false,\"147\":false,\"148\":false,\"149\":false,\"150\":true,\"151\":false,\"152\":false,\"153\":false,\"154\":true,\"155\":false,\"156\":false,\"157\":false,\"158\":false,\"159\":false,\"160\":false,\"161\":false,\"162\":true,\"163\":false,\"164\":false,\"165\":false,\"166\":false,\"167\":false,\"168\":false,\"169\":false,\"170\":false,\"171\":true,\"172\":false,\"173\":true,\"174\":true,\"175\":false,\"176\":false,\"177\":false,\"178\":false,\"179\":false,\"180\":false,\"181\":false,\"182\":false,\"183\":false,\"184\":false,\"185\":false,\"186\":false,\"187\":false,\"188\":false,\"189\":true,\"190\":false,\"191\":false,\"192\":false,\"193\":false,\"194\":false,\"195\":false,\"196\":false,\"197\":false,\"198\":false,\"199\":false,\"200\":true,\"201\":true,\"202\":false,\"203\":false,\"204\":false,\"205\":true,\"206\":true,\"207\":false,\"208\":false,\"209\":false,\"210\":false,\"211\":false,\"212\":false,\"213\":false,\"214\":false,\"215\":true,\"216\":false,\"217\":true,\"218\":false,\"219\":false,\"220\":false,\"221\":true,\"222\":true,\"223\":false,\"224\":true,\"225\":false,\"226\":false,\"227\":false,\"228\":false,\"229\":false,\"230\":false,\"231\":false,\"232\":true,\"233\":false,\"234\":false,\"235\":false,\"236\":true,\"237\":false,\"238\":false,\"239\":false,\"240\":false,\"241\":false,\"242\":false,\"243\":true,\"244\":false,\"245\":false,\"246\":false,\"247\":false,\"248\":true,\"249\":false,\"250\":false,\"251\":false,\"252\":false,\"253\":false,\"254\":false,\"255\":false,\"256\":false,\"257\":false,\"258\":false,\"259\":false,\"260\":false,\"261\":false,\"262\":false,\"263\":false,\"264\":false,\"265\":false,\"266\":false,\"267\":false,\"268\":false,\"269\":false,\"270\":false,\"271\":false,\"272\":false,\"273\":false,\"274\":false,\"275\":false,\"276\":false,\"277\":false,\"278\":false,\"279\":false,\"280\":false,\"281\":false,\"282\":false,\"283\":false,\"284\":false,\"285\":true,\"286\":false,\"287\":true,\"288\":false,\"289\":false,\"290\":false,\"291\":false,\"292\":false,\"293\":false,\"294\":false,\"295\":false,\"296\":false,\"297\":false,\"298\":false,\"299\":false,\"300\":true,\"301\":false,\"302\":false,\"303\":false,\"304\":false,\"305\":false,\"306\":false,\"307\":true,\"308\":false,\"309\":false,\"310\":false,\"311\":false,\"312\":false,\"313\":false,\"314\":false,\"315\":false,\"316\":false,\"317\":false,\"318\":false,\"319\":false,\"320\":false,\"321\":false,\"322\":false,\"323\":false,\"324\":false,\"325\":false,\"326\":false,\"327\":false,\"328\":false,\"329\":false,\"330\":false,\"331\":false,\"332\":false,\"333\":false,\"334\":false,\"335\":true,\"336\":false,\"337\":false,\"338\":false,\"339\":false,\"340\":false,\"341\":false,\"342\":false,\"343\":false,\"344\":false,\"345\":false,\"346\":false,\"347\":false,\"348\":false,\"349\":false,\"350\":false,\"351\":false,\"352\":false,\"353\":false,\"354\":false,\"355\":false,\"356\":true,\"357\":false,\"358\":false,\"359\":false,\"360\":false,\"361\":false,\"362\":false,\"363\":false,\"364\":true,\"365\":false,\"366\":false,\"367\":true,\"368\":true,\"369\":false,\"370\":false,\"371\":false,\"372\":false,\"373\":false,\"374\":false,\"375\":false,\"376\":false,\"377\":false,\"378\":false,\"379\":false,\"380\":false,\"381\":false,\"382\":false,\"383\":false,\"384\":false,\"385\":false,\"386\":false,\"387\":false,\"388\":false,\"389\":false,\"390\":false,\"391\":true,\"392\":false,\"393\":false,\"394\":false,\"395\":false,\"396\":false,\"397\":false,\"398\":false,\"399\":false,\"400\":false,\"401\":false,\"402\":false,\"403\":false,\"404\":false,\"405\":false,\"406\":true,\"407\":false,\"408\":false,\"409\":true,\"410\":false,\"411\":false,\"412\":true,\"413\":false,\"414\":false,\"415\":false,\"416\":false,\"417\":false,\"418\":false,\"419\":false,\"420\":false,\"421\":true,\"422\":true,\"423\":false,\"424\":true,\"425\":true,\"426\":true,\"427\":false,\"428\":false,\"429\":true,\"430\":false,\"431\":false,\"432\":false,\"433\":false,\"434\":false,\"435\":false,\"436\":false,\"437\":false,\"438\":false,\"439\":false,\"440\":false,\"441\":false,\"442\":false,\"443\":true,\"444\":false,\"445\":false,\"446\":false,\"447\":false,\"448\":false,\"449\":false,\"450\":true,\"451\":false,\"452\":false,\"453\":false,\"454\":false,\"455\":false,\"456\":false,\"457\":false,\"458\":false,\"459\":false,\"460\":false,\"461\":false,\"462\":false,\"463\":false,\"464\":false,\"465\":false,\"466\":true,\"467\":false,\"468\":false,\"469\":false,\"470\":false,\"471\":false,\"472\":false,\"473\":false,\"474\":true,\"475\":false,\"476\":false,\"477\":false,\"478\":false,\"479\":false,\"480\":false,\"481\":false,\"482\":false,\"483\":false,\"484\":false,\"485\":false,\"486\":true,\"487\":false,\"488\":true,\"489\":false,\"490\":true,\"491\":false,\"492\":false,\"493\":false,\"494\":false,\"495\":false,\"496\":false,\"497\":false,\"498\":true,\"499\":false,\"500\":false,\"501\":false,\"502\":false,\"503\":false,\"504\":false,\"505\":true,\"506\":false,\"507\":false,\"508\":false,\"509\":false,\"510\":false,\"511\":false,\"512\":true,\"513\":false,\"514\":false,\"515\":false,\"516\":true,\"517\":false,\"518\":true,\"519\":true,\"520\":false,\"521\":false,\"522\":false,\"523\":false,\"524\":false,\"525\":false,\"526\":false,\"527\":false,\"528\":false,\"529\":false,\"530\":false,\"531\":false,\"532\":false,\"533\":false,\"534\":false,\"535\":false,\"536\":false,\"537\":false,\"538\":false,\"539\":false,\"540\":false,\"541\":false,\"542\":false,\"543\":false,\"544\":false,\"545\":false,\"546\":false,\"547\":false,\"548\":false,\"549\":false,\"550\":false,\"551\":false,\"552\":false,\"553\":false,\"554\":false,\"555\":false,\"556\":false,\"557\":false,\"558\":false,\"559\":false,\"560\":false,\"561\":false,\"562\":false,\"563\":false,\"564\":false,\"565\":false,\"566\":false,\"567\":true,\"568\":true,\"569\":false,\"570\":false,\"571\":false,\"572\":false,\"573\":false,\"574\":false,\"575\":false,\"576\":false,\"577\":false,\"578\":false,\"579\":false,\"580\":false,\"581\":false,\"582\":false,\"583\":false,\"584\":false,\"585\":true,\"586\":false,\"587\":false,\"588\":false,\"589\":false,\"590\":false,\"591\":false,\"592\":false,\"593\":false,\"594\":false,\"595\":false,\"596\":false,\"597\":false,\"598\":false,\"599\":false,\"600\":false,\"601\":false,\"602\":true,\"603\":false,\"604\":false,\"605\":false,\"606\":false,\"607\":false,\"608\":true,\"609\":true,\"610\":false,\"611\":false,\"612\":false,\"613\":false,\"614\":false,\"615\":false,\"616\":false,\"617\":true,\"618\":false,\"619\":true,\"620\":true,\"621\":false,\"622\":false,\"623\":false,\"624\":false,\"625\":false,\"626\":false,\"627\":false,\"628\":false,\"629\":false,\"630\":false,\"631\":false,\"632\":false,\"633\":false,\"634\":false,\"635\":false,\"636\":false,\"637\":false,\"638\":false,\"639\":false,\"640\":false,\"641\":false,\"642\":false,\"643\":false,\"644\":true,\"645\":false,\"646\":false,\"647\":false,\"648\":false,\"649\":false,\"650\":false,\"651\":false,\"652\":false,\"653\":false,\"654\":false,\"655\":false,\"656\":false,\"657\":false,\"658\":false,\"659\":false,\"660\":false,\"661\":false,\"662\":false,\"663\":false,\"664\":false,\"665\":false,\"666\":false,\"667\":false,\"668\":false,\"669\":false,\"670\":false,\"671\":false,\"672\":false,\"673\":false,\"674\":false,\"675\":false,\"676\":false,\"677\":false,\"678\":false,\"679\":false,\"680\":false,\"681\":false,\"682\":false,\"683\":false,\"684\":false,\"685\":false,\"686\":false,\"687\":false,\"688\":false,\"689\":false,\"690\":false,\"691\":false,\"692\":true,\"693\":false,\"694\":false,\"695\":false,\"696\":false,\"697\":false,\"698\":false,\"699\":false,\"700\":false,\"701\":false,\"702\":false,\"703\":false,\"704\":false,\"705\":false,\"706\":false,\"707\":false,\"708\":false,\"709\":false,\"710\":false,\"711\":false,\"712\":false,\"713\":false,\"714\":false,\"715\":false,\"716\":false,\"717\":false,\"718\":false,\"719\":false,\"720\":false,\"721\":false,\"722\":false,\"723\":false,\"724\":false,\"725\":false,\"726\":false,\"727\":true,\"728\":false,\"729\":false,\"730\":false,\"731\":false,\"732\":false,\"733\":false,\"734\":false,\"735\":false,\"736\":false,\"737\":false,\"738\":false,\"739\":false,\"740\":false,\"741\":true,\"742\":false,\"743\":false,\"744\":false,\"745\":false,\"746\":false,\"747\":false,\"748\":true,\"749\":false,\"750\":false,\"751\":false,\"752\":false,\"753\":false,\"754\":false,\"755\":false,\"756\":false,\"757\":false,\"758\":false,\"759\":false,\"760\":false,\"761\":false,\"762\":false,\"763\":false,\"764\":false,\"765\":false,\"766\":false,\"767\":false,\"768\":false,\"769\":false,\"770\":false,\"771\":false,\"772\":false,\"773\":false,\"774\":false,\"775\":false,\"776\":false,\"777\":false,\"778\":false,\"779\":false,\"780\":false,\"781\":true,\"782\":false,\"783\":false,\"784\":false,\"785\":false,\"786\":false,\"787\":false,\"788\":false,\"789\":false,\"790\":false,\"791\":false,\"792\":false,\"793\":false,\"794\":false,\"795\":false,\"796\":true,\"797\":true,\"798\":false,\"799\":false,\"800\":false,\"801\":false,\"802\":false,\"803\":false,\"804\":false,\"805\":false,\"806\":false,\"807\":false,\"808\":false,\"809\":false,\"810\":false,\"811\":false,\"812\":false,\"813\":false,\"814\":false,\"815\":false,\"816\":false,\"817\":true,\"818\":false,\"819\":false,\"820\":false,\"821\":false,\"822\":false,\"823\":false,\"824\":false,\"825\":false,\"826\":false,\"827\":false,\"828\":false,\"829\":false,\"830\":false,\"831\":false,\"832\":false,\"833\":false,\"834\":false,\"835\":false,\"836\":false,\"837\":true,\"838\":false,\"839\":false,\"840\":false,\"841\":false,\"842\":false,\"843\":false,\"844\":false,\"845\":false,\"846\":false,\"847\":true,\"848\":false,\"849\":false,\"850\":true,\"851\":false,\"852\":false,\"853\":false,\"854\":false,\"855\":false,\"856\":false,\"857\":false,\"858\":false,\"859\":false,\"860\":false,\"861\":false,\"862\":false,\"863\":true,\"864\":false,\"865\":false,\"866\":false,\"867\":false,\"868\":false,\"869\":false,\"870\":false,\"871\":false,\"872\":false,\"873\":true,\"874\":false,\"875\":false,\"876\":false,\"877\":false,\"878\":false,\"879\":false,\"880\":false,\"881\":false,\"882\":false,\"883\":false,\"884\":false,\"885\":false,\"886\":false,\"887\":false,\"888\":true,\"889\":false,\"890\":true,\"891\":true,\"892\":false,\"893\":false,\"894\":false,\"895\":false,\"896\":false,\"897\":true,\"898\":false,\"899\":false,\"900\":false,\"901\":false,\"902\":false,\"903\":false,\"904\":false,\"905\":false,\"906\":false,\"907\":false,\"908\":false,\"909\":false,\"910\":false,\"911\":false,\"912\":false,\"913\":false,\"914\":false,\"915\":false,\"916\":false,\"917\":false,\"918\":false,\"919\":true,\"920\":false,\"921\":false,\"922\":false,\"923\":false,\"924\":true,\"925\":false,\"926\":false,\"927\":false,\"928\":false,\"929\":false,\"930\":false,\"931\":false,\"932\":false,\"933\":false,\"934\":false,\"935\":false,\"936\":false,\"937\":false,\"938\":false,\"939\":false,\"940\":false,\"941\":false,\"942\":false,\"943\":false,\"944\":false,\"945\":false,\"946\":false,\"947\":false,\"948\":false,\"949\":false,\"950\":false,\"951\":false,\"952\":false,\"953\":false,\"954\":false,\"955\":false,\"956\":false,\"957\":false,\"958\":false,\"959\":false,\"960\":true,\"961\":false,\"962\":false,\"963\":false,\"964\":false,\"965\":false,\"966\":false,\"967\":false,\"968\":false,\"969\":false,\"970\":false,\"971\":false,\"972\":false,\"973\":false,\"974\":false,\"975\":false,\"976\":true,\"977\":false,\"978\":false,\"979\":false,\"980\":false,\"981\":false,\"982\":false,\"983\":false,\"984\":false,\"985\":false,\"986\":false,\"987\":false,\"988\":false,\"989\":false,\"990\":false,\"991\":false,\"992\":true,\"993\":false,\"994\":false,\"995\":false,\"996\":false,\"997\":false,\"998\":false,\"999\":false,\"1000\":false,\"1001\":false,\"1002\":false,\"1003\":false,\"1004\":false,\"1005\":false,\"1006\":false,\"1007\":false,\"1008\":false,\"1009\":false,\"1010\":false,\"1011\":true,\"1012\":false,\"1013\":false,\"1014\":false,\"1015\":true,\"1016\":false,\"1017\":false,\"1018\":false,\"1019\":false,\"1020\":false,\"1021\":false,\"1022\":false,\"1023\":false,\"1024\":true,\"1025\":false,\"1026\":false,\"1027\":false,\"1028\":false,\"1029\":false,\"1030\":false,\"1031\":false,\"1032\":false,\"1033\":false,\"1034\":false,\"1035\":false,\"1036\":false,\"1037\":false,\"1038\":false,\"1039\":false,\"1040\":false,\"1041\":false,\"1042\":false,\"1043\":false,\"1044\":false,\"1045\":false,\"1046\":false,\"1047\":false,\"1048\":false,\"1049\":false,\"1050\":false,\"1051\":false,\"1052\":false,\"1053\":false,\"1054\":false,\"1055\":false,\"1056\":false,\"1057\":false,\"1058\":false,\"1059\":false,\"1060\":false,\"1061\":false,\"1062\":false,\"1063\":false,\"1064\":false,\"1065\":false,\"1066\":true,\"1067\":false,\"1068\":false,\"1069\":false,\"1070\":false,\"1071\":false,\"1072\":false,\"1073\":false,\"1074\":false,\"1075\":false,\"1076\":false,\"1077\":false,\"1078\":false,\"1079\":false,\"1080\":false,\"1081\":false,\"1082\":false,\"1083\":true,\"1084\":false,\"1085\":false,\"1086\":false,\"1087\":false,\"1088\":false,\"1089\":true,\"1090\":false,\"1091\":false,\"1092\":false,\"1093\":false,\"1094\":false,\"1095\":false,\"1096\":true,\"1097\":false,\"1098\":false,\"1099\":false,\"1100\":true,\"1101\":false,\"1102\":false,\"1103\":false,\"1104\":false,\"1105\":false,\"1106\":false,\"1107\":false,\"1108\":false,\"1109\":false,\"1110\":false,\"1111\":false,\"1112\":false,\"1113\":false,\"1114\":false,\"1115\":false,\"1116\":false,\"1117\":false,\"1118\":false,\"1119\":false,\"1120\":false,\"1121\":false,\"1122\":false,\"1123\":false,\"1124\":false,\"1125\":false,\"1126\":false,\"1127\":false,\"1128\":false,\"1129\":false,\"1130\":false,\"1131\":false,\"1132\":false,\"1133\":false,\"1134\":false,\"1135\":false,\"1136\":false,\"1137\":false,\"1138\":false,\"1139\":false,\"1140\":false,\"1141\":false,\"1142\":false,\"1143\":false,\"1144\":false,\"1145\":false,\"1146\":true,\"1147\":false,\"1148\":false,\"1149\":false,\"1150\":false,\"1151\":false,\"1152\":true,\"1153\":true,\"1154\":false,\"1155\":false,\"1156\":false,\"1157\":false,\"1158\":false,\"1159\":false,\"1160\":false,\"1161\":false,\"1162\":false,\"1163\":false,\"1164\":false,\"1165\":false,\"1166\":false,\"1167\":false,\"1168\":false,\"1169\":true,\"1170\":false,\"1171\":true,\"1172\":false,\"1173\":false,\"1174\":false,\"1175\":false,\"1176\":false,\"1177\":false,\"1178\":false,\"1179\":false,\"1180\":false,\"1181\":false,\"1182\":false,\"1183\":false,\"1184\":false,\"1185\":false,\"1186\":false,\"1187\":false,\"1188\":false,\"1189\":false,\"1190\":false,\"1191\":false,\"1192\":true,\"1193\":false,\"1194\":false,\"1195\":false,\"1196\":false,\"1197\":false,\"1198\":false,\"1199\":false,\"1200\":false,\"1201\":false,\"1202\":false,\"1203\":false,\"1204\":false,\"1205\":false,\"1206\":false,\"1207\":false,\"1208\":false,\"1209\":false,\"1210\":false,\"1211\":false,\"1212\":false,\"1213\":false,\"1214\":false,\"1215\":false,\"1216\":false,\"1217\":false,\"1218\":false,\"1219\":false,\"1220\":false,\"1221\":false,\"1222\":false,\"1223\":false,\"1224\":false,\"1225\":true,\"1226\":false,\"1227\":false,\"1228\":false,\"1229\":false,\"1230\":false,\"1231\":false,\"1232\":false,\"1233\":false,\"1234\":false,\"1235\":false,\"1236\":false,\"1237\":false,\"1238\":false,\"1239\":true,\"1240\":false,\"1241\":false,\"1242\":false,\"1243\":false,\"1244\":false,\"1245\":false,\"1246\":false,\"1247\":false,\"1248\":false,\"1249\":false,\"1250\":false,\"1251\":true,\"1252\":false,\"1253\":false,\"1254\":false,\"1255\":false,\"1256\":false,\"1257\":false,\"1258\":false,\"1259\":false,\"1260\":false,\"1261\":false,\"1262\":false,\"1263\":true,\"1264\":true,\"1265\":false,\"1266\":false,\"1267\":false,\"1268\":false,\"1269\":false,\"1270\":false,\"1271\":false,\"1272\":false,\"1273\":false,\"1274\":false,\"1275\":false,\"1276\":false,\"1277\":false,\"1278\":false,\"1279\":false,\"1280\":false,\"1281\":false,\"1282\":false,\"1283\":false,\"1284\":false,\"1285\":true,\"1286\":false,\"1287\":false,\"1288\":true,\"1289\":false,\"1290\":false,\"1291\":false,\"1292\":false,\"1293\":false,\"1294\":true,\"1295\":false,\"1296\":true,\"1297\":false,\"1298\":false,\"1299\":false,\"1300\":false,\"1301\":true,\"1302\":false,\"1303\":false,\"1304\":true,\"1305\":false,\"1306\":true,\"1307\":false,\"1308\":false}'"
     },
     "execution_count": 34,
     "metadata": {},
     "output_type": "execute_result"
    }
   ],
   "source": [
    "pd.notnull(data[\"body\"]).to_json()"
   ],
   "metadata": {
    "collapsed": false,
    "pycharm": {
     "name": "#%%\n"
    }
   }
  },
  {
   "cell_type": "code",
   "execution_count": 37,
   "outputs": [
    {
     "data": {
      "text/plain": "1188"
     },
     "execution_count": 37,
     "metadata": {},
     "output_type": "execute_result"
    }
   ],
   "source": [
    "pd.isnull(data[\"body\"]).values.ravel().sum()"
   ],
   "metadata": {
    "collapsed": false,
    "pycharm": {
     "name": "#%%\n"
    }
   }
  },
  {
   "cell_type": "code",
   "execution_count": 38,
   "outputs": [
    {
     "data": {
      "text/plain": "121"
     },
     "execution_count": 38,
     "metadata": {},
     "output_type": "execute_result"
    }
   ],
   "source": [
    "pd.notnull(data[\"body\"]).values.ravel().sum()"
   ],
   "metadata": {
    "collapsed": false,
    "pycharm": {
     "name": "#%%\n"
    }
   }
  },
  {
   "cell_type": "markdown",
   "source": [
    "Los valores que faltan en un data set pueden venir por dos razones:\n",
    "* Extracción de los datos\n",
    "* Recolección de los datos"
   ],
   "metadata": {
    "collapsed": false,
    "pycharm": {
     "name": "#%% md\n"
    }
   }
  },
  {
   "cell_type": "markdown",
   "source": [
    "#### Borrado de valores que faltan"
   ],
   "metadata": {
    "collapsed": false,
    "pycharm": {
     "name": "#%% md\n"
    }
   }
  },
  {
   "cell_type": "code",
   "execution_count": 39,
   "outputs": [
    {
     "data": {
      "text/plain": "      pclass  survived                                             name     sex      age  sibsp  parch  ticket      fare    cabin embarked boat   body                        home.dest\n0     1       1         Allen, Miss. Elisabeth Walton                    female  29.0000  0      0      24160   211.3375  B5       S        2   NaN     St Louis, MO                   \n1     1       1         Allison, Master. Hudson Trevor                   male    0.9167   1      2      113781  151.5500  C22 C26  S        11  NaN     Montreal, PQ / Chesterville, ON\n2     1       0         Allison, Miss. Helen Loraine                     female  2.0000   1      2      113781  151.5500  C22 C26  S        NaN NaN     Montreal, PQ / Chesterville, ON\n3     1       0         Allison, Mr. Hudson Joshua Creighton             male    30.0000  1      2      113781  151.5500  C22 C26  S        NaN  135.0  Montreal, PQ / Chesterville, ON\n4     1       0         Allison, Mrs. Hudson J C (Bessie Waldo Daniels)  female  25.0000  1      2      113781  151.5500  C22 C26  S        NaN NaN     Montreal, PQ / Chesterville, ON\n...  ..      ..                                                     ...     ...      ... ..     ..         ...       ...      ... ..        ...  ..                                 ...\n1304  3       0         Zabour, Miss. Hileni                             female  14.5000  1      0      2665    14.4542   NaN      C        NaN  328.0  NaN                            \n1305  3       0         Zabour, Miss. Thamine                            female NaN       1      0      2665    14.4542   NaN      C        NaN NaN     NaN                            \n1306  3       0         Zakarian, Mr. Mapriededer                        male    26.5000  0      0      2656    7.2250    NaN      C        NaN  304.0  NaN                            \n1307  3       0         Zakarian, Mr. Ortin                              male    27.0000  0      0      2670    7.2250    NaN      C        NaN NaN     NaN                            \n1308  3       0         Zimmerman, Mr. Leo                               male    29.0000  0      0      315082  7.8750    NaN      S        NaN NaN     NaN                            \n\n[1309 rows x 14 columns]",
      "text/html": "<div>\n<style scoped>\n    .dataframe tbody tr th:only-of-type {\n        vertical-align: middle;\n    }\n\n    .dataframe tbody tr th {\n        vertical-align: top;\n    }\n\n    .dataframe thead th {\n        text-align: right;\n    }\n</style>\n<table border=\"1\" class=\"dataframe\">\n  <thead>\n    <tr style=\"text-align: right;\">\n      <th></th>\n      <th>pclass</th>\n      <th>survived</th>\n      <th>name</th>\n      <th>sex</th>\n      <th>age</th>\n      <th>sibsp</th>\n      <th>parch</th>\n      <th>ticket</th>\n      <th>fare</th>\n      <th>cabin</th>\n      <th>embarked</th>\n      <th>boat</th>\n      <th>body</th>\n      <th>home.dest</th>\n    </tr>\n  </thead>\n  <tbody>\n    <tr>\n      <th>0</th>\n      <td>1</td>\n      <td>1</td>\n      <td>Allen, Miss. Elisabeth Walton</td>\n      <td>female</td>\n      <td>29.0000</td>\n      <td>0</td>\n      <td>0</td>\n      <td>24160</td>\n      <td>211.3375</td>\n      <td>B5</td>\n      <td>S</td>\n      <td>2</td>\n      <td>NaN</td>\n      <td>St Louis, MO</td>\n    </tr>\n    <tr>\n      <th>1</th>\n      <td>1</td>\n      <td>1</td>\n      <td>Allison, Master. Hudson Trevor</td>\n      <td>male</td>\n      <td>0.9167</td>\n      <td>1</td>\n      <td>2</td>\n      <td>113781</td>\n      <td>151.5500</td>\n      <td>C22 C26</td>\n      <td>S</td>\n      <td>11</td>\n      <td>NaN</td>\n      <td>Montreal, PQ / Chesterville, ON</td>\n    </tr>\n    <tr>\n      <th>2</th>\n      <td>1</td>\n      <td>0</td>\n      <td>Allison, Miss. Helen Loraine</td>\n      <td>female</td>\n      <td>2.0000</td>\n      <td>1</td>\n      <td>2</td>\n      <td>113781</td>\n      <td>151.5500</td>\n      <td>C22 C26</td>\n      <td>S</td>\n      <td>NaN</td>\n      <td>NaN</td>\n      <td>Montreal, PQ / Chesterville, ON</td>\n    </tr>\n    <tr>\n      <th>3</th>\n      <td>1</td>\n      <td>0</td>\n      <td>Allison, Mr. Hudson Joshua Creighton</td>\n      <td>male</td>\n      <td>30.0000</td>\n      <td>1</td>\n      <td>2</td>\n      <td>113781</td>\n      <td>151.5500</td>\n      <td>C22 C26</td>\n      <td>S</td>\n      <td>NaN</td>\n      <td>135.0</td>\n      <td>Montreal, PQ / Chesterville, ON</td>\n    </tr>\n    <tr>\n      <th>4</th>\n      <td>1</td>\n      <td>0</td>\n      <td>Allison, Mrs. Hudson J C (Bessie Waldo Daniels)</td>\n      <td>female</td>\n      <td>25.0000</td>\n      <td>1</td>\n      <td>2</td>\n      <td>113781</td>\n      <td>151.5500</td>\n      <td>C22 C26</td>\n      <td>S</td>\n      <td>NaN</td>\n      <td>NaN</td>\n      <td>Montreal, PQ / Chesterville, ON</td>\n    </tr>\n    <tr>\n      <th>...</th>\n      <td>...</td>\n      <td>...</td>\n      <td>...</td>\n      <td>...</td>\n      <td>...</td>\n      <td>...</td>\n      <td>...</td>\n      <td>...</td>\n      <td>...</td>\n      <td>...</td>\n      <td>...</td>\n      <td>...</td>\n      <td>...</td>\n      <td>...</td>\n    </tr>\n    <tr>\n      <th>1304</th>\n      <td>3</td>\n      <td>0</td>\n      <td>Zabour, Miss. Hileni</td>\n      <td>female</td>\n      <td>14.5000</td>\n      <td>1</td>\n      <td>0</td>\n      <td>2665</td>\n      <td>14.4542</td>\n      <td>NaN</td>\n      <td>C</td>\n      <td>NaN</td>\n      <td>328.0</td>\n      <td>NaN</td>\n    </tr>\n    <tr>\n      <th>1305</th>\n      <td>3</td>\n      <td>0</td>\n      <td>Zabour, Miss. Thamine</td>\n      <td>female</td>\n      <td>NaN</td>\n      <td>1</td>\n      <td>0</td>\n      <td>2665</td>\n      <td>14.4542</td>\n      <td>NaN</td>\n      <td>C</td>\n      <td>NaN</td>\n      <td>NaN</td>\n      <td>NaN</td>\n    </tr>\n    <tr>\n      <th>1306</th>\n      <td>3</td>\n      <td>0</td>\n      <td>Zakarian, Mr. Mapriededer</td>\n      <td>male</td>\n      <td>26.5000</td>\n      <td>0</td>\n      <td>0</td>\n      <td>2656</td>\n      <td>7.2250</td>\n      <td>NaN</td>\n      <td>C</td>\n      <td>NaN</td>\n      <td>304.0</td>\n      <td>NaN</td>\n    </tr>\n    <tr>\n      <th>1307</th>\n      <td>3</td>\n      <td>0</td>\n      <td>Zakarian, Mr. Ortin</td>\n      <td>male</td>\n      <td>27.0000</td>\n      <td>0</td>\n      <td>0</td>\n      <td>2670</td>\n      <td>7.2250</td>\n      <td>NaN</td>\n      <td>C</td>\n      <td>NaN</td>\n      <td>NaN</td>\n      <td>NaN</td>\n    </tr>\n    <tr>\n      <th>1308</th>\n      <td>3</td>\n      <td>0</td>\n      <td>Zimmerman, Mr. Leo</td>\n      <td>male</td>\n      <td>29.0000</td>\n      <td>0</td>\n      <td>0</td>\n      <td>315082</td>\n      <td>7.8750</td>\n      <td>NaN</td>\n      <td>S</td>\n      <td>NaN</td>\n      <td>NaN</td>\n      <td>NaN</td>\n    </tr>\n  </tbody>\n</table>\n<p>1309 rows × 14 columns</p>\n</div>"
     },
     "execution_count": 39,
     "metadata": {},
     "output_type": "execute_result"
    }
   ],
   "source": [
    "data.dropna(axis=0, how=\"all\")"
   ],
   "metadata": {
    "collapsed": false,
    "pycharm": {
     "name": "#%%\n"
    }
   }
  },
  {
   "cell_type": "code",
   "execution_count": 40,
   "outputs": [],
   "source": [
    "data2 = data"
   ],
   "metadata": {
    "collapsed": false,
    "pycharm": {
     "name": "#%%\n"
    }
   }
  },
  {
   "cell_type": "code",
   "execution_count": 41,
   "outputs": [
    {
     "data": {
      "text/plain": "Empty DataFrame\nColumns: [pclass, survived, name, sex, age, sibsp, parch, ticket, fare, cabin, embarked, boat, body, home.dest]\nIndex: []",
      "text/html": "<div>\n<style scoped>\n    .dataframe tbody tr th:only-of-type {\n        vertical-align: middle;\n    }\n\n    .dataframe tbody tr th {\n        vertical-align: top;\n    }\n\n    .dataframe thead th {\n        text-align: right;\n    }\n</style>\n<table border=\"1\" class=\"dataframe\">\n  <thead>\n    <tr style=\"text-align: right;\">\n      <th></th>\n      <th>pclass</th>\n      <th>survived</th>\n      <th>name</th>\n      <th>sex</th>\n      <th>age</th>\n      <th>sibsp</th>\n      <th>parch</th>\n      <th>ticket</th>\n      <th>fare</th>\n      <th>cabin</th>\n      <th>embarked</th>\n      <th>boat</th>\n      <th>body</th>\n      <th>home.dest</th>\n    </tr>\n  </thead>\n  <tbody>\n  </tbody>\n</table>\n</div>"
     },
     "execution_count": 41,
     "metadata": {},
     "output_type": "execute_result"
    }
   ],
   "source": [
    "data2.dropna(axis=0, how=\"any\")"
   ],
   "metadata": {
    "collapsed": false,
    "pycharm": {
     "name": "#%%\n"
    }
   }
  },
  {
   "cell_type": "markdown",
   "source": [
    "#### Cómputo de los valores faltantes"
   ],
   "metadata": {
    "collapsed": false,
    "pycharm": {
     "name": "#%% md\n"
    }
   }
  },
  {
   "cell_type": "code",
   "execution_count": 42,
   "outputs": [],
   "source": [
    "data3 = data"
   ],
   "metadata": {
    "collapsed": false,
    "pycharm": {
     "name": "#%%\n"
    }
   }
  },
  {
   "cell_type": "code",
   "execution_count": 43,
   "outputs": [
    {
     "data": {
      "text/plain": "      pclass  survived                                             name     sex      age  sibsp  parch  ticket      fare    cabin embarked boat   body                        home.dest\n0     1       1         Allen, Miss. Elisabeth Walton                    female  29.0000  0      0      24160   211.3375  B5       S        2    0.0    St Louis, MO                   \n1     1       1         Allison, Master. Hudson Trevor                   male    0.9167   1      2      113781  151.5500  C22 C26  S        11   0.0    Montreal, PQ / Chesterville, ON\n2     1       0         Allison, Miss. Helen Loraine                     female  2.0000   1      2      113781  151.5500  C22 C26  S        0    0.0    Montreal, PQ / Chesterville, ON\n3     1       0         Allison, Mr. Hudson Joshua Creighton             male    30.0000  1      2      113781  151.5500  C22 C26  S        0    135.0  Montreal, PQ / Chesterville, ON\n4     1       0         Allison, Mrs. Hudson J C (Bessie Waldo Daniels)  female  25.0000  1      2      113781  151.5500  C22 C26  S        0    0.0    Montreal, PQ / Chesterville, ON\n...  ..      ..                                                     ...     ...      ... ..     ..         ...       ...      ... ..       ..    ...                                ...\n1304  3       0         Zabour, Miss. Hileni                             female  14.5000  1      0      2665    14.4542   0        C        0    328.0  0                              \n1305  3       0         Zabour, Miss. Thamine                            female  0.0000   1      0      2665    14.4542   0        C        0    0.0    0                              \n1306  3       0         Zakarian, Mr. Mapriededer                        male    26.5000  0      0      2656    7.2250    0        C        0    304.0  0                              \n1307  3       0         Zakarian, Mr. Ortin                              male    27.0000  0      0      2670    7.2250    0        C        0    0.0    0                              \n1308  3       0         Zimmerman, Mr. Leo                               male    29.0000  0      0      315082  7.8750    0        S        0    0.0    0                              \n\n[1309 rows x 14 columns]",
      "text/html": "<div>\n<style scoped>\n    .dataframe tbody tr th:only-of-type {\n        vertical-align: middle;\n    }\n\n    .dataframe tbody tr th {\n        vertical-align: top;\n    }\n\n    .dataframe thead th {\n        text-align: right;\n    }\n</style>\n<table border=\"1\" class=\"dataframe\">\n  <thead>\n    <tr style=\"text-align: right;\">\n      <th></th>\n      <th>pclass</th>\n      <th>survived</th>\n      <th>name</th>\n      <th>sex</th>\n      <th>age</th>\n      <th>sibsp</th>\n      <th>parch</th>\n      <th>ticket</th>\n      <th>fare</th>\n      <th>cabin</th>\n      <th>embarked</th>\n      <th>boat</th>\n      <th>body</th>\n      <th>home.dest</th>\n    </tr>\n  </thead>\n  <tbody>\n    <tr>\n      <th>0</th>\n      <td>1</td>\n      <td>1</td>\n      <td>Allen, Miss. Elisabeth Walton</td>\n      <td>female</td>\n      <td>29.0000</td>\n      <td>0</td>\n      <td>0</td>\n      <td>24160</td>\n      <td>211.3375</td>\n      <td>B5</td>\n      <td>S</td>\n      <td>2</td>\n      <td>0.0</td>\n      <td>St Louis, MO</td>\n    </tr>\n    <tr>\n      <th>1</th>\n      <td>1</td>\n      <td>1</td>\n      <td>Allison, Master. Hudson Trevor</td>\n      <td>male</td>\n      <td>0.9167</td>\n      <td>1</td>\n      <td>2</td>\n      <td>113781</td>\n      <td>151.5500</td>\n      <td>C22 C26</td>\n      <td>S</td>\n      <td>11</td>\n      <td>0.0</td>\n      <td>Montreal, PQ / Chesterville, ON</td>\n    </tr>\n    <tr>\n      <th>2</th>\n      <td>1</td>\n      <td>0</td>\n      <td>Allison, Miss. Helen Loraine</td>\n      <td>female</td>\n      <td>2.0000</td>\n      <td>1</td>\n      <td>2</td>\n      <td>113781</td>\n      <td>151.5500</td>\n      <td>C22 C26</td>\n      <td>S</td>\n      <td>0</td>\n      <td>0.0</td>\n      <td>Montreal, PQ / Chesterville, ON</td>\n    </tr>\n    <tr>\n      <th>3</th>\n      <td>1</td>\n      <td>0</td>\n      <td>Allison, Mr. Hudson Joshua Creighton</td>\n      <td>male</td>\n      <td>30.0000</td>\n      <td>1</td>\n      <td>2</td>\n      <td>113781</td>\n      <td>151.5500</td>\n      <td>C22 C26</td>\n      <td>S</td>\n      <td>0</td>\n      <td>135.0</td>\n      <td>Montreal, PQ / Chesterville, ON</td>\n    </tr>\n    <tr>\n      <th>4</th>\n      <td>1</td>\n      <td>0</td>\n      <td>Allison, Mrs. Hudson J C (Bessie Waldo Daniels)</td>\n      <td>female</td>\n      <td>25.0000</td>\n      <td>1</td>\n      <td>2</td>\n      <td>113781</td>\n      <td>151.5500</td>\n      <td>C22 C26</td>\n      <td>S</td>\n      <td>0</td>\n      <td>0.0</td>\n      <td>Montreal, PQ / Chesterville, ON</td>\n    </tr>\n    <tr>\n      <th>...</th>\n      <td>...</td>\n      <td>...</td>\n      <td>...</td>\n      <td>...</td>\n      <td>...</td>\n      <td>...</td>\n      <td>...</td>\n      <td>...</td>\n      <td>...</td>\n      <td>...</td>\n      <td>...</td>\n      <td>...</td>\n      <td>...</td>\n      <td>...</td>\n    </tr>\n    <tr>\n      <th>1304</th>\n      <td>3</td>\n      <td>0</td>\n      <td>Zabour, Miss. Hileni</td>\n      <td>female</td>\n      <td>14.5000</td>\n      <td>1</td>\n      <td>0</td>\n      <td>2665</td>\n      <td>14.4542</td>\n      <td>0</td>\n      <td>C</td>\n      <td>0</td>\n      <td>328.0</td>\n      <td>0</td>\n    </tr>\n    <tr>\n      <th>1305</th>\n      <td>3</td>\n      <td>0</td>\n      <td>Zabour, Miss. Thamine</td>\n      <td>female</td>\n      <td>0.0000</td>\n      <td>1</td>\n      <td>0</td>\n      <td>2665</td>\n      <td>14.4542</td>\n      <td>0</td>\n      <td>C</td>\n      <td>0</td>\n      <td>0.0</td>\n      <td>0</td>\n    </tr>\n    <tr>\n      <th>1306</th>\n      <td>3</td>\n      <td>0</td>\n      <td>Zakarian, Mr. Mapriededer</td>\n      <td>male</td>\n      <td>26.5000</td>\n      <td>0</td>\n      <td>0</td>\n      <td>2656</td>\n      <td>7.2250</td>\n      <td>0</td>\n      <td>C</td>\n      <td>0</td>\n      <td>304.0</td>\n      <td>0</td>\n    </tr>\n    <tr>\n      <th>1307</th>\n      <td>3</td>\n      <td>0</td>\n      <td>Zakarian, Mr. Ortin</td>\n      <td>male</td>\n      <td>27.0000</td>\n      <td>0</td>\n      <td>0</td>\n      <td>2670</td>\n      <td>7.2250</td>\n      <td>0</td>\n      <td>C</td>\n      <td>0</td>\n      <td>0.0</td>\n      <td>0</td>\n    </tr>\n    <tr>\n      <th>1308</th>\n      <td>3</td>\n      <td>0</td>\n      <td>Zimmerman, Mr. Leo</td>\n      <td>male</td>\n      <td>29.0000</td>\n      <td>0</td>\n      <td>0</td>\n      <td>315082</td>\n      <td>7.8750</td>\n      <td>0</td>\n      <td>S</td>\n      <td>0</td>\n      <td>0.0</td>\n      <td>0</td>\n    </tr>\n  </tbody>\n</table>\n<p>1309 rows × 14 columns</p>\n</div>"
     },
     "execution_count": 43,
     "metadata": {},
     "output_type": "execute_result"
    }
   ],
   "source": [
    "data3.fillna(0)"
   ],
   "metadata": {
    "collapsed": false,
    "pycharm": {
     "name": "#%%\n"
    }
   }
  },
  {
   "cell_type": "code",
   "execution_count": 44,
   "outputs": [],
   "source": [
    "data4 = data"
   ],
   "metadata": {
    "collapsed": false,
    "pycharm": {
     "name": "#%%\n"
    }
   }
  },
  {
   "cell_type": "code",
   "execution_count": 45,
   "outputs": [
    {
     "data": {
      "text/plain": "      pclass  survived                                             name     sex          age  sibsp  parch  ticket      fare        cabin embarked         boat         body                        home.dest\n0     1       1         Allen, Miss. Elisabeth Walton                    female  29.0         0      0      24160   211.3375  B5           S        2            Desconocido  St Louis, MO                   \n1     1       1         Allison, Master. Hudson Trevor                   male    0.9167       1      2      113781  151.55    C22 C26      S        11           Desconocido  Montreal, PQ / Chesterville, ON\n2     1       0         Allison, Miss. Helen Loraine                     female  2.0          1      2      113781  151.55    C22 C26      S        Desconocido  Desconocido  Montreal, PQ / Chesterville, ON\n3     1       0         Allison, Mr. Hudson Joshua Creighton             male    30.0         1      2      113781  151.55    C22 C26      S        Desconocido  135.0        Montreal, PQ / Chesterville, ON\n4     1       0         Allison, Mrs. Hudson J C (Bessie Waldo Daniels)  female  25.0         1      2      113781  151.55    C22 C26      S        Desconocido  Desconocido  Montreal, PQ / Chesterville, ON\n...  ..      ..                                                     ...     ...   ...        ..     ..         ...     ...        ...     ..                ...          ...                              ...\n1304  3       0         Zabour, Miss. Hileni                             female  14.5         1      0      2665    14.4542   Desconocido  C        Desconocido  328.0        Desconocido                    \n1305  3       0         Zabour, Miss. Thamine                            female  Desconocido  1      0      2665    14.4542   Desconocido  C        Desconocido  Desconocido  Desconocido                    \n1306  3       0         Zakarian, Mr. Mapriededer                        male    26.5         0      0      2656    7.225     Desconocido  C        Desconocido  304.0        Desconocido                    \n1307  3       0         Zakarian, Mr. Ortin                              male    27.0         0      0      2670    7.225     Desconocido  C        Desconocido  Desconocido  Desconocido                    \n1308  3       0         Zimmerman, Mr. Leo                               male    29.0         0      0      315082  7.875     Desconocido  S        Desconocido  Desconocido  Desconocido                    \n\n[1309 rows x 14 columns]",
      "text/html": "<div>\n<style scoped>\n    .dataframe tbody tr th:only-of-type {\n        vertical-align: middle;\n    }\n\n    .dataframe tbody tr th {\n        vertical-align: top;\n    }\n\n    .dataframe thead th {\n        text-align: right;\n    }\n</style>\n<table border=\"1\" class=\"dataframe\">\n  <thead>\n    <tr style=\"text-align: right;\">\n      <th></th>\n      <th>pclass</th>\n      <th>survived</th>\n      <th>name</th>\n      <th>sex</th>\n      <th>age</th>\n      <th>sibsp</th>\n      <th>parch</th>\n      <th>ticket</th>\n      <th>fare</th>\n      <th>cabin</th>\n      <th>embarked</th>\n      <th>boat</th>\n      <th>body</th>\n      <th>home.dest</th>\n    </tr>\n  </thead>\n  <tbody>\n    <tr>\n      <th>0</th>\n      <td>1</td>\n      <td>1</td>\n      <td>Allen, Miss. Elisabeth Walton</td>\n      <td>female</td>\n      <td>29.0</td>\n      <td>0</td>\n      <td>0</td>\n      <td>24160</td>\n      <td>211.3375</td>\n      <td>B5</td>\n      <td>S</td>\n      <td>2</td>\n      <td>Desconocido</td>\n      <td>St Louis, MO</td>\n    </tr>\n    <tr>\n      <th>1</th>\n      <td>1</td>\n      <td>1</td>\n      <td>Allison, Master. Hudson Trevor</td>\n      <td>male</td>\n      <td>0.9167</td>\n      <td>1</td>\n      <td>2</td>\n      <td>113781</td>\n      <td>151.55</td>\n      <td>C22 C26</td>\n      <td>S</td>\n      <td>11</td>\n      <td>Desconocido</td>\n      <td>Montreal, PQ / Chesterville, ON</td>\n    </tr>\n    <tr>\n      <th>2</th>\n      <td>1</td>\n      <td>0</td>\n      <td>Allison, Miss. Helen Loraine</td>\n      <td>female</td>\n      <td>2.0</td>\n      <td>1</td>\n      <td>2</td>\n      <td>113781</td>\n      <td>151.55</td>\n      <td>C22 C26</td>\n      <td>S</td>\n      <td>Desconocido</td>\n      <td>Desconocido</td>\n      <td>Montreal, PQ / Chesterville, ON</td>\n    </tr>\n    <tr>\n      <th>3</th>\n      <td>1</td>\n      <td>0</td>\n      <td>Allison, Mr. Hudson Joshua Creighton</td>\n      <td>male</td>\n      <td>30.0</td>\n      <td>1</td>\n      <td>2</td>\n      <td>113781</td>\n      <td>151.55</td>\n      <td>C22 C26</td>\n      <td>S</td>\n      <td>Desconocido</td>\n      <td>135.0</td>\n      <td>Montreal, PQ / Chesterville, ON</td>\n    </tr>\n    <tr>\n      <th>4</th>\n      <td>1</td>\n      <td>0</td>\n      <td>Allison, Mrs. Hudson J C (Bessie Waldo Daniels)</td>\n      <td>female</td>\n      <td>25.0</td>\n      <td>1</td>\n      <td>2</td>\n      <td>113781</td>\n      <td>151.55</td>\n      <td>C22 C26</td>\n      <td>S</td>\n      <td>Desconocido</td>\n      <td>Desconocido</td>\n      <td>Montreal, PQ / Chesterville, ON</td>\n    </tr>\n    <tr>\n      <th>...</th>\n      <td>...</td>\n      <td>...</td>\n      <td>...</td>\n      <td>...</td>\n      <td>...</td>\n      <td>...</td>\n      <td>...</td>\n      <td>...</td>\n      <td>...</td>\n      <td>...</td>\n      <td>...</td>\n      <td>...</td>\n      <td>...</td>\n      <td>...</td>\n    </tr>\n    <tr>\n      <th>1304</th>\n      <td>3</td>\n      <td>0</td>\n      <td>Zabour, Miss. Hileni</td>\n      <td>female</td>\n      <td>14.5</td>\n      <td>1</td>\n      <td>0</td>\n      <td>2665</td>\n      <td>14.4542</td>\n      <td>Desconocido</td>\n      <td>C</td>\n      <td>Desconocido</td>\n      <td>328.0</td>\n      <td>Desconocido</td>\n    </tr>\n    <tr>\n      <th>1305</th>\n      <td>3</td>\n      <td>0</td>\n      <td>Zabour, Miss. Thamine</td>\n      <td>female</td>\n      <td>Desconocido</td>\n      <td>1</td>\n      <td>0</td>\n      <td>2665</td>\n      <td>14.4542</td>\n      <td>Desconocido</td>\n      <td>C</td>\n      <td>Desconocido</td>\n      <td>Desconocido</td>\n      <td>Desconocido</td>\n    </tr>\n    <tr>\n      <th>1306</th>\n      <td>3</td>\n      <td>0</td>\n      <td>Zakarian, Mr. Mapriededer</td>\n      <td>male</td>\n      <td>26.5</td>\n      <td>0</td>\n      <td>0</td>\n      <td>2656</td>\n      <td>7.225</td>\n      <td>Desconocido</td>\n      <td>C</td>\n      <td>Desconocido</td>\n      <td>304.0</td>\n      <td>Desconocido</td>\n    </tr>\n    <tr>\n      <th>1307</th>\n      <td>3</td>\n      <td>0</td>\n      <td>Zakarian, Mr. Ortin</td>\n      <td>male</td>\n      <td>27.0</td>\n      <td>0</td>\n      <td>0</td>\n      <td>2670</td>\n      <td>7.225</td>\n      <td>Desconocido</td>\n      <td>C</td>\n      <td>Desconocido</td>\n      <td>Desconocido</td>\n      <td>Desconocido</td>\n    </tr>\n    <tr>\n      <th>1308</th>\n      <td>3</td>\n      <td>0</td>\n      <td>Zimmerman, Mr. Leo</td>\n      <td>male</td>\n      <td>29.0</td>\n      <td>0</td>\n      <td>0</td>\n      <td>315082</td>\n      <td>7.875</td>\n      <td>Desconocido</td>\n      <td>S</td>\n      <td>Desconocido</td>\n      <td>Desconocido</td>\n      <td>Desconocido</td>\n    </tr>\n  </tbody>\n</table>\n<p>1309 rows × 14 columns</p>\n</div>"
     },
     "execution_count": 45,
     "metadata": {},
     "output_type": "execute_result"
    }
   ],
   "source": [
    "data4.fillna(\"Desconocido\")"
   ],
   "metadata": {
    "collapsed": false,
    "pycharm": {
     "name": "#%%\n"
    }
   }
  },
  {
   "cell_type": "code",
   "execution_count": 56,
   "outputs": [],
   "source": [
    "data5 = data.copy()"
   ],
   "metadata": {
    "collapsed": false,
    "pycharm": {
     "name": "#%%\n"
    }
   }
  },
  {
   "cell_type": "code",
   "execution_count": 57,
   "outputs": [
    {
     "data": {
      "text/plain": "   pclass  survived                                             name     sex      age  sibsp  parch  ticket      fare    cabin embarked boat   body                        home.dest\n0  1       1         Allen, Miss. Elisabeth Walton                    female  29.0000  0      0      24160   211.3375  B5       S        2    0.0    St Louis, MO                   \n1  1       1         Allison, Master. Hudson Trevor                   male    0.9167   1      2      113781  151.5500  C22 C26  S        11   0.0    Montreal, PQ / Chesterville, ON\n2  1       0         Allison, Miss. Helen Loraine                     female  2.0000   1      2      113781  151.5500  C22 C26  S        NaN  0.0    Montreal, PQ / Chesterville, ON\n3  1       0         Allison, Mr. Hudson Joshua Creighton             male    30.0000  1      2      113781  151.5500  C22 C26  S        NaN  135.0  Montreal, PQ / Chesterville, ON\n4  1       0         Allison, Mrs. Hudson J C (Bessie Waldo Daniels)  female  25.0000  1      2      113781  151.5500  C22 C26  S        NaN  0.0    Montreal, PQ / Chesterville, ON",
      "text/html": "<div>\n<style scoped>\n    .dataframe tbody tr th:only-of-type {\n        vertical-align: middle;\n    }\n\n    .dataframe tbody tr th {\n        vertical-align: top;\n    }\n\n    .dataframe thead th {\n        text-align: right;\n    }\n</style>\n<table border=\"1\" class=\"dataframe\">\n  <thead>\n    <tr style=\"text-align: right;\">\n      <th></th>\n      <th>pclass</th>\n      <th>survived</th>\n      <th>name</th>\n      <th>sex</th>\n      <th>age</th>\n      <th>sibsp</th>\n      <th>parch</th>\n      <th>ticket</th>\n      <th>fare</th>\n      <th>cabin</th>\n      <th>embarked</th>\n      <th>boat</th>\n      <th>body</th>\n      <th>home.dest</th>\n    </tr>\n  </thead>\n  <tbody>\n    <tr>\n      <th>0</th>\n      <td>1</td>\n      <td>1</td>\n      <td>Allen, Miss. Elisabeth Walton</td>\n      <td>female</td>\n      <td>29.0000</td>\n      <td>0</td>\n      <td>0</td>\n      <td>24160</td>\n      <td>211.3375</td>\n      <td>B5</td>\n      <td>S</td>\n      <td>2</td>\n      <td>0.0</td>\n      <td>St Louis, MO</td>\n    </tr>\n    <tr>\n      <th>1</th>\n      <td>1</td>\n      <td>1</td>\n      <td>Allison, Master. Hudson Trevor</td>\n      <td>male</td>\n      <td>0.9167</td>\n      <td>1</td>\n      <td>2</td>\n      <td>113781</td>\n      <td>151.5500</td>\n      <td>C22 C26</td>\n      <td>S</td>\n      <td>11</td>\n      <td>0.0</td>\n      <td>Montreal, PQ / Chesterville, ON</td>\n    </tr>\n    <tr>\n      <th>2</th>\n      <td>1</td>\n      <td>0</td>\n      <td>Allison, Miss. Helen Loraine</td>\n      <td>female</td>\n      <td>2.0000</td>\n      <td>1</td>\n      <td>2</td>\n      <td>113781</td>\n      <td>151.5500</td>\n      <td>C22 C26</td>\n      <td>S</td>\n      <td>NaN</td>\n      <td>0.0</td>\n      <td>Montreal, PQ / Chesterville, ON</td>\n    </tr>\n    <tr>\n      <th>3</th>\n      <td>1</td>\n      <td>0</td>\n      <td>Allison, Mr. Hudson Joshua Creighton</td>\n      <td>male</td>\n      <td>30.0000</td>\n      <td>1</td>\n      <td>2</td>\n      <td>113781</td>\n      <td>151.5500</td>\n      <td>C22 C26</td>\n      <td>S</td>\n      <td>NaN</td>\n      <td>135.0</td>\n      <td>Montreal, PQ / Chesterville, ON</td>\n    </tr>\n    <tr>\n      <th>4</th>\n      <td>1</td>\n      <td>0</td>\n      <td>Allison, Mrs. Hudson J C (Bessie Waldo Daniels)</td>\n      <td>female</td>\n      <td>25.0000</td>\n      <td>1</td>\n      <td>2</td>\n      <td>113781</td>\n      <td>151.5500</td>\n      <td>C22 C26</td>\n      <td>S</td>\n      <td>NaN</td>\n      <td>0.0</td>\n      <td>Montreal, PQ / Chesterville, ON</td>\n    </tr>\n  </tbody>\n</table>\n</div>"
     },
     "execution_count": 57,
     "metadata": {},
     "output_type": "execute_result"
    }
   ],
   "source": [
    "data5[\"body\"] = data5[\"body\"].fillna(0)\n",
    "data5[\"home.dest\"] = data5[\"home.dest\"].fillna(\"Desconocido\")\n",
    "data5.head()"
   ],
   "metadata": {
    "collapsed": false,
    "pycharm": {
     "name": "#%%\n"
    }
   }
  },
  {
   "cell_type": "code",
   "execution_count": 58,
   "outputs": [
    {
     "data": {
      "text/plain": "263"
     },
     "execution_count": 58,
     "metadata": {},
     "output_type": "execute_result"
    }
   ],
   "source": [
    "pd.isnull(data5[\"age\"]).values.ravel().sum()"
   ],
   "metadata": {
    "collapsed": false,
    "pycharm": {
     "name": "#%%\n"
    }
   }
  },
  {
   "cell_type": "code",
   "execution_count": 59,
   "outputs": [
    {
     "data": {
      "text/plain": "0       29.000000\n1       0.916700 \n2       2.000000 \n3       30.000000\n4       25.000000\n          ...    \n1304    14.500000\n1305    29.881135\n1306    26.500000\n1307    27.000000\n1308    29.000000\nName: age, Length: 1309, dtype: float64"
     },
     "execution_count": 59,
     "metadata": {},
     "output_type": "execute_result"
    }
   ],
   "source": [
    "data5[\"age\"].fillna(data[\"age\"].mean())"
   ],
   "metadata": {
    "collapsed": false,
    "pycharm": {
     "name": "#%%\n"
    }
   }
  },
  {
   "cell_type": "code",
   "execution_count": 60,
   "outputs": [
    {
     "data": {
      "text/plain": "nan"
     },
     "execution_count": 60,
     "metadata": {},
     "output_type": "execute_result"
    }
   ],
   "source": [
    "data5[\"age\"][1291]"
   ],
   "metadata": {
    "collapsed": false,
    "pycharm": {
     "name": "#%%\n"
    }
   }
  },
  {
   "cell_type": "code",
   "execution_count": 62,
   "outputs": [
    {
     "data": {
      "text/plain": "'{\"0\":29.0,\"1\":0.9167,\"2\":2.0,\"3\":30.0,\"4\":25.0,\"5\":48.0,\"6\":63.0,\"7\":39.0,\"8\":53.0,\"9\":71.0,\"10\":47.0,\"11\":18.0,\"12\":24.0,\"13\":26.0,\"14\":80.0,\"15\":80.0,\"16\":24.0,\"17\":50.0,\"18\":32.0,\"19\":36.0,\"20\":37.0,\"21\":47.0,\"22\":26.0,\"23\":42.0,\"24\":29.0,\"25\":25.0,\"26\":25.0,\"27\":19.0,\"28\":35.0,\"29\":28.0,\"30\":45.0,\"31\":40.0,\"32\":30.0,\"33\":58.0,\"34\":42.0,\"35\":45.0,\"36\":22.0,\"37\":22.0,\"38\":41.0,\"39\":48.0,\"40\":48.0,\"41\":44.0,\"42\":59.0,\"43\":60.0,\"44\":41.0,\"45\":45.0,\"46\":45.0,\"47\":42.0,\"48\":53.0,\"49\":36.0,\"50\":58.0,\"51\":33.0,\"52\":28.0,\"53\":17.0,\"54\":11.0,\"55\":14.0,\"56\":36.0,\"57\":36.0,\"58\":49.0,\"59\":49.0,\"60\":36.0,\"61\":76.0,\"62\":46.0,\"63\":47.0,\"64\":27.0,\"65\":33.0,\"66\":36.0,\"67\":30.0,\"68\":45.0,\"69\":45.0,\"70\":45.0,\"71\":27.0,\"72\":26.0,\"73\":22.0,\"74\":22.0,\"75\":47.0,\"76\":39.0,\"77\":37.0,\"78\":64.0,\"79\":55.0,\"80\":55.0,\"81\":70.0,\"82\":36.0,\"83\":64.0,\"84\":39.0,\"85\":38.0,\"86\":51.0,\"87\":27.0,\"88\":33.0,\"89\":31.0,\"90\":27.0,\"91\":31.0,\"92\":17.0,\"93\":53.0,\"94\":4.0,\"95\":54.0,\"96\":50.0,\"97\":27.0,\"98\":48.0,\"99\":48.0,\"100\":49.0,\"101\":39.0,\"102\":23.0,\"103\":38.0,\"104\":54.0,\"105\":36.0,\"106\":36.0,\"107\":36.0,\"108\":36.0,\"109\":36.0,\"110\":30.0,\"111\":24.0,\"112\":28.0,\"113\":23.0,\"114\":19.0,\"115\":64.0,\"116\":60.0,\"117\":30.0,\"118\":30.0,\"119\":50.0,\"120\":43.0,\"121\":43.0,\"122\":22.0,\"123\":60.0,\"124\":48.0,\"125\":48.0,\"126\":37.0,\"127\":35.0,\"128\":47.0,\"129\":35.0,\"130\":22.0,\"131\":45.0,\"132\":24.0,\"133\":49.0,\"134\":49.0,\"135\":71.0,\"136\":53.0,\"137\":19.0,\"138\":38.0,\"139\":58.0,\"140\":23.0,\"141\":45.0,\"142\":46.0,\"143\":25.0,\"144\":25.0,\"145\":48.0,\"146\":49.0,\"147\":49.0,\"148\":45.0,\"149\":35.0,\"150\":40.0,\"151\":27.0,\"152\":27.0,\"153\":24.0,\"154\":55.0,\"155\":52.0,\"156\":42.0,\"157\":42.0,\"158\":55.0,\"159\":16.0,\"160\":44.0,\"161\":51.0,\"162\":42.0,\"163\":35.0,\"164\":35.0,\"165\":38.0,\"166\":38.0,\"167\":35.0,\"168\":38.0,\"169\":50.0,\"170\":49.0,\"171\":46.0,\"172\":50.0,\"173\":32.5,\"174\":58.0,\"175\":41.0,\"176\":41.0,\"177\":42.0,\"178\":45.0,\"179\":45.0,\"180\":39.0,\"181\":49.0,\"182\":30.0,\"183\":35.0,\"184\":35.0,\"185\":42.0,\"186\":55.0,\"187\":16.0,\"188\":51.0,\"189\":29.0,\"190\":21.0,\"191\":30.0,\"192\":58.0,\"193\":15.0,\"194\":30.0,\"195\":16.0,\"196\":16.0,\"197\":19.0,\"198\":18.0,\"199\":24.0,\"200\":46.0,\"201\":54.0,\"202\":36.0,\"203\":28.0,\"204\":28.0,\"205\":65.0,\"206\":44.0,\"207\":33.0,\"208\":37.0,\"209\":30.0,\"210\":55.0,\"211\":47.0,\"212\":37.0,\"213\":31.0,\"214\":23.0,\"215\":58.0,\"216\":19.0,\"217\":64.0,\"218\":39.0,\"219\":39.0,\"220\":22.0,\"221\":65.0,\"222\":28.5,\"223\":28.5,\"224\":45.5,\"225\":23.0,\"226\":29.0,\"227\":22.0,\"228\":18.0,\"229\":17.0,\"230\":30.0,\"231\":52.0,\"232\":47.0,\"233\":56.0,\"234\":38.0,\"235\":38.0,\"236\":22.0,\"237\":22.0,\"238\":43.0,\"239\":31.0,\"240\":45.0,\"241\":45.0,\"242\":33.0,\"243\":46.0,\"244\":36.0,\"245\":33.0,\"246\":55.0,\"247\":54.0,\"248\":33.0,\"249\":13.0,\"250\":18.0,\"251\":21.0,\"252\":61.0,\"253\":48.0,\"254\":48.0,\"255\":24.0,\"256\":24.0,\"257\":35.0,\"258\":30.0,\"259\":34.0,\"260\":40.0,\"261\":35.0,\"262\":50.0,\"263\":39.0,\"264\":56.0,\"265\":28.0,\"266\":56.0,\"267\":56.0,\"268\":24.0,\"269\":24.0,\"270\":18.0,\"271\":24.0,\"272\":23.0,\"273\":6.0,\"274\":45.0,\"275\":40.0,\"276\":57.0,\"277\":57.0,\"278\":32.0,\"279\":62.0,\"280\":54.0,\"281\":43.0,\"282\":52.0,\"283\":52.0,\"284\":62.0,\"285\":67.0,\"286\":63.0,\"287\":61.0,\"288\":48.0,\"289\":18.0,\"290\":52.0,\"291\":39.0,\"292\":48.0,\"293\":48.0,\"294\":49.0,\"295\":17.0,\"296\":39.0,\"297\":39.0,\"298\":31.0,\"299\":40.0,\"300\":61.0,\"301\":47.0,\"302\":35.0,\"303\":64.0,\"304\":60.0,\"305\":60.0,\"306\":54.0,\"307\":21.0,\"308\":55.0,\"309\":31.0,\"310\":57.0,\"311\":45.0,\"312\":50.0,\"313\":27.0,\"314\":50.0,\"315\":21.0,\"316\":51.0,\"317\":21.0,\"318\":21.0,\"319\":31.0,\"320\":31.0,\"321\":62.0,\"322\":36.0,\"323\":30.0,\"324\":28.0,\"325\":30.0,\"326\":18.0,\"327\":25.0,\"328\":34.0,\"329\":36.0,\"330\":57.0,\"331\":18.0,\"332\":23.0,\"333\":36.0,\"334\":28.0,\"335\":51.0,\"336\":32.0,\"337\":19.0,\"338\":28.0,\"339\":1.0,\"340\":4.0,\"341\":12.0,\"342\":36.0,\"343\":34.0,\"344\":19.0,\"345\":23.0,\"346\":26.0,\"347\":42.0,\"348\":27.0,\"349\":24.0,\"350\":15.0,\"351\":60.0,\"352\":40.0,\"353\":20.0,\"354\":25.0,\"355\":36.0,\"356\":25.0,\"357\":42.0,\"358\":42.0,\"359\":0.8333,\"360\":26.0,\"361\":22.0,\"362\":35.0,\"363\":35.0,\"364\":19.0,\"365\":44.0,\"366\":54.0,\"367\":52.0,\"368\":37.0,\"369\":29.0,\"370\":25.0,\"371\":45.0,\"372\":29.0,\"373\":28.0,\"374\":29.0,\"375\":28.0,\"376\":24.0,\"377\":8.0,\"378\":31.0,\"379\":31.0,\"380\":22.0,\"381\":30.0,\"382\":30.0,\"383\":21.0,\"384\":21.0,\"385\":8.0,\"386\":18.0,\"387\":48.0,\"388\":28.0,\"389\":32.0,\"390\":17.0,\"391\":29.0,\"392\":24.0,\"393\":25.0,\"394\":18.0,\"395\":18.0,\"396\":34.0,\"397\":54.0,\"398\":8.0,\"399\":42.0,\"400\":34.0,\"401\":27.0,\"402\":30.0,\"403\":23.0,\"404\":21.0,\"405\":18.0,\"406\":40.0,\"407\":29.0,\"408\":18.0,\"409\":36.0,\"410\":36.0,\"411\":38.0,\"412\":35.0,\"413\":38.0,\"414\":34.0,\"415\":34.0,\"416\":16.0,\"417\":26.0,\"418\":47.0,\"419\":21.0,\"420\":21.0,\"421\":24.0,\"422\":24.0,\"423\":34.0,\"424\":30.0,\"425\":52.0,\"426\":30.0,\"427\":0.6667,\"428\":24.0,\"429\":44.0,\"430\":6.0,\"431\":28.0,\"432\":62.0,\"433\":30.0,\"434\":7.0,\"435\":43.0,\"436\":45.0,\"437\":24.0,\"438\":24.0,\"439\":49.0,\"440\":48.0,\"441\":55.0,\"442\":24.0,\"443\":32.0,\"444\":21.0,\"445\":18.0,\"446\":20.0,\"447\":23.0,\"448\":36.0,\"449\":54.0,\"450\":50.0,\"451\":44.0,\"452\":29.0,\"453\":21.0,\"454\":42.0,\"455\":63.0,\"456\":60.0,\"457\":33.0,\"458\":17.0,\"459\":42.0,\"460\":24.0,\"461\":47.0,\"462\":24.0,\"463\":22.0,\"464\":32.0,\"465\":23.0,\"466\":34.0,\"467\":24.0,\"468\":22.0,\"469\":22.0,\"470\":35.0,\"471\":45.0,\"472\":57.0,\"473\":57.0,\"474\":31.0,\"475\":26.0,\"476\":30.0,\"477\":30.0,\"478\":1.0,\"479\":3.0,\"480\":25.0,\"481\":22.0,\"482\":17.0,\"483\":17.0,\"484\":34.0,\"485\":36.0,\"486\":24.0,\"487\":61.0,\"488\":50.0,\"489\":42.0,\"490\":57.0,\"491\":57.0,\"492\":1.0,\"493\":31.0,\"494\":24.0,\"495\":24.0,\"496\":30.0,\"497\":40.0,\"498\":32.0,\"499\":30.0,\"500\":46.0,\"501\":13.0,\"502\":41.0,\"503\":19.0,\"504\":39.0,\"505\":48.0,\"506\":70.0,\"507\":27.0,\"508\":54.0,\"509\":39.0,\"510\":16.0,\"511\":62.0,\"512\":32.5,\"513\":14.0,\"514\":2.0,\"515\":3.0,\"516\":36.5,\"517\":26.0,\"518\":19.0,\"519\":28.0,\"520\":20.0,\"521\":29.0,\"522\":39.0,\"523\":22.0,\"524\":22.0,\"525\":23.0,\"526\":29.0,\"527\":28.0,\"528\":28.0,\"529\":50.0,\"530\":19.0,\"531\":19.0,\"532\":41.0,\"533\":21.0,\"534\":19.0,\"535\":43.0,\"536\":32.0,\"537\":34.0,\"538\":30.0,\"539\":27.0,\"540\":2.0,\"541\":8.0,\"542\":33.0,\"543\":36.0,\"544\":34.0,\"545\":30.0,\"546\":28.0,\"547\":23.0,\"548\":0.8333,\"549\":3.0,\"550\":24.0,\"551\":50.0,\"552\":19.0,\"553\":21.0,\"554\":26.0,\"555\":25.0,\"556\":27.0,\"557\":25.0,\"558\":18.0,\"559\":20.0,\"560\":30.0,\"561\":59.0,\"562\":30.0,\"563\":35.0,\"564\":40.0,\"565\":25.0,\"566\":41.0,\"567\":25.0,\"568\":18.5,\"569\":14.0,\"570\":50.0,\"571\":23.0,\"572\":28.0,\"573\":27.0,\"574\":29.0,\"575\":27.0,\"576\":40.0,\"577\":31.0,\"578\":30.0,\"579\":23.0,\"580\":31.0,\"581\":31.0,\"582\":12.0,\"583\":40.0,\"584\":32.5,\"585\":27.0,\"586\":29.0,\"587\":2.0,\"588\":4.0,\"589\":29.0,\"590\":0.9167,\"591\":5.0,\"592\":36.0,\"593\":33.0,\"594\":66.0,\"595\":66.0,\"596\":31.0,\"597\":31.0,\"598\":26.0,\"599\":24.0,\"600\":42.0,\"601\":13.0,\"602\":16.0,\"603\":35.0,\"604\":16.0,\"605\":25.0,\"606\":20.0,\"607\":18.0,\"608\":30.0,\"609\":26.0,\"610\":40.0,\"611\":0.8333,\"612\":18.0,\"613\":26.0,\"614\":26.0,\"615\":20.0,\"616\":24.0,\"617\":25.0,\"618\":35.0,\"619\":18.0,\"620\":32.0,\"621\":19.0,\"622\":4.0,\"623\":6.0,\"624\":2.0,\"625\":17.0,\"626\":38.0,\"627\":9.0,\"628\":11.0,\"629\":39.0,\"630\":27.0,\"631\":26.0,\"632\":39.0,\"633\":20.0,\"634\":26.0,\"635\":25.0,\"636\":18.0,\"637\":24.0,\"638\":35.0,\"639\":5.0,\"640\":9.0,\"641\":3.0,\"642\":13.0,\"643\":5.0,\"644\":40.0,\"645\":23.0,\"646\":38.0,\"647\":45.0,\"648\":21.0,\"649\":23.0,\"650\":17.0,\"651\":30.0,\"652\":23.0,\"653\":13.0,\"654\":20.0,\"655\":32.0,\"656\":33.0,\"657\":0.75,\"658\":0.75,\"659\":5.0,\"660\":24.0,\"661\":18.0,\"662\":40.0,\"663\":26.0,\"664\":20.0,\"665\":18.0,\"666\":45.0,\"667\":27.0,\"668\":22.0,\"669\":19.0,\"670\":26.0,\"671\":22.0,\"672\":22.0,\"673\":20.0,\"674\":32.0,\"675\":21.0,\"676\":18.0,\"677\":26.0,\"678\":6.0,\"679\":9.0,\"680\":9.0,\"681\":9.0,\"682\":9.0,\"683\":40.0,\"684\":32.0,\"685\":21.0,\"686\":22.0,\"687\":20.0,\"688\":29.0,\"689\":22.0,\"690\":22.0,\"691\":35.0,\"692\":18.5,\"693\":21.0,\"694\":19.0,\"695\":18.0,\"696\":21.0,\"697\":30.0,\"698\":18.0,\"699\":38.0,\"700\":17.0,\"701\":17.0,\"702\":21.0,\"703\":21.0,\"704\":21.0,\"705\":21.0,\"706\":21.0,\"707\":28.0,\"708\":24.0,\"709\":16.0,\"710\":37.0,\"711\":28.0,\"712\":24.0,\"713\":21.0,\"714\":32.0,\"715\":29.0,\"716\":26.0,\"717\":18.0,\"718\":20.0,\"719\":18.0,\"720\":24.0,\"721\":36.0,\"722\":24.0,\"723\":31.0,\"724\":31.0,\"725\":22.0,\"726\":30.0,\"727\":70.5,\"728\":43.0,\"729\":35.0,\"730\":27.0,\"731\":19.0,\"732\":30.0,\"733\":9.0,\"734\":3.0,\"735\":36.0,\"736\":59.0,\"737\":19.0,\"738\":17.0,\"739\":44.0,\"740\":17.0,\"741\":22.5,\"742\":45.0,\"743\":22.0,\"744\":19.0,\"745\":30.0,\"746\":29.0,\"747\":0.3333,\"748\":34.0,\"749\":28.0,\"750\":27.0,\"751\":25.0,\"752\":24.0,\"753\":22.0,\"754\":21.0,\"755\":17.0,\"756\":17.0,\"757\":17.0,\"758\":36.5,\"759\":36.0,\"760\":30.0,\"761\":16.0,\"762\":1.0,\"763\":0.1667,\"764\":26.0,\"765\":33.0,\"766\":25.0,\"767\":25.0,\"768\":25.0,\"769\":22.0,\"770\":36.0,\"771\":19.0,\"772\":17.0,\"773\":42.0,\"774\":43.0,\"775\":43.0,\"776\":32.0,\"777\":19.0,\"778\":30.0,\"779\":24.0,\"780\":23.0,\"781\":33.0,\"782\":65.0,\"783\":24.0,\"784\":23.0,\"785\":22.0,\"786\":18.0,\"787\":16.0,\"788\":45.0,\"789\":45.0,\"790\":39.0,\"791\":17.0,\"792\":15.0,\"793\":47.0,\"794\":5.0,\"795\":5.0,\"796\":40.5,\"797\":40.5,\"798\":40.5,\"799\":18.0,\"800\":18.0,\"801\":18.0,\"802\":18.0,\"803\":26.0,\"804\":26.0,\"805\":26.0,\"806\":21.0,\"807\":9.0,\"808\":9.0,\"809\":18.0,\"810\":16.0,\"811\":48.0,\"812\":48.0,\"813\":48.0,\"814\":25.0,\"815\":25.0,\"816\":25.0,\"817\":22.0,\"818\":16.0,\"819\":16.0,\"820\":9.0,\"821\":33.0,\"822\":41.0,\"823\":31.0,\"824\":38.0,\"825\":9.0,\"826\":1.0,\"827\":11.0,\"828\":10.0,\"829\":16.0,\"830\":14.0,\"831\":40.0,\"832\":43.0,\"833\":51.0,\"834\":32.0,\"835\":32.0,\"836\":20.0,\"837\":37.0,\"838\":28.0,\"839\":19.0,\"840\":24.0,\"841\":17.0,\"842\":17.0,\"843\":17.0,\"844\":28.0,\"845\":24.0,\"846\":20.0,\"847\":23.5,\"848\":41.0,\"849\":26.0,\"850\":21.0,\"851\":45.0,\"852\":45.0,\"853\":25.0,\"854\":25.0,\"855\":11.0,\"856\":11.0,\"857\":27.0,\"858\":27.0,\"859\":18.0,\"860\":26.0,\"861\":23.0,\"862\":22.0,\"863\":28.0,\"864\":28.0,\"865\":28.0,\"866\":2.0,\"867\":22.0,\"868\":43.0,\"869\":28.0,\"870\":27.0,\"871\":27.0,\"872\":27.0,\"873\":42.0,\"874\":42.0,\"875\":30.0,\"876\":30.0,\"877\":27.0,\"878\":25.0,\"879\":25.0,\"880\":29.0,\"881\":21.0,\"882\":21.0,\"883\":20.0,\"884\":48.0,\"885\":17.0,\"886\":17.0,\"887\":17.0,\"888\":34.0,\"889\":26.0,\"890\":22.0,\"891\":33.0,\"892\":31.0,\"893\":29.0,\"894\":4.0,\"895\":1.0,\"896\":49.0,\"897\":33.0,\"898\":19.0,\"899\":27.0,\"900\":27.0,\"901\":27.0,\"902\":27.0,\"903\":27.0,\"904\":23.0,\"905\":32.0,\"906\":27.0,\"907\":20.0,\"908\":21.0,\"909\":32.0,\"910\":17.0,\"911\":21.0,\"912\":30.0,\"913\":21.0,\"914\":33.0,\"915\":22.0,\"916\":4.0,\"917\":39.0,\"918\":39.0,\"919\":18.5,\"920\":18.5,\"921\":18.5,\"922\":18.5,\"923\":18.5,\"924\":34.5,\"925\":44.0,\"926\":44.0,\"927\":44.0,\"928\":44.0,\"929\":44.0,\"930\":44.0,\"931\":44.0,\"932\":22.0,\"933\":26.0,\"934\":4.0,\"935\":29.0,\"936\":26.0,\"937\":1.0,\"938\":18.0,\"939\":36.0,\"940\":36.0,\"941\":25.0,\"942\":25.0,\"943\":37.0,\"944\":37.0,\"945\":37.0,\"946\":37.0,\"947\":22.0,\"948\":22.0,\"949\":26.0,\"950\":29.0,\"951\":29.0,\"952\":22.0,\"953\":22.0,\"954\":22.0,\"955\":22.0,\"956\":22.0,\"957\":22.0,\"958\":22.0,\"959\":32.0,\"960\":34.5,\"961\":34.5,\"962\":34.5,\"963\":36.0,\"964\":39.0,\"965\":24.0,\"966\":25.0,\"967\":45.0,\"968\":36.0,\"969\":30.0,\"970\":20.0,\"971\":20.0,\"972\":28.0,\"973\":28.0,\"974\":30.0,\"975\":26.0,\"976\":26.0,\"977\":20.5,\"978\":27.0,\"979\":51.0,\"980\":23.0,\"981\":32.0,\"982\":32.0,\"983\":32.0,\"984\":32.0,\"985\":24.0,\"986\":22.0,\"987\":22.0,\"988\":22.0,\"989\":22.0,\"990\":29.0,\"991\":29.0,\"992\":30.5,\"993\":30.5,\"994\":30.5,\"995\":35.0,\"996\":33.0,\"997\":33.0,\"998\":33.0,\"999\":33.0,\"1000\":33.0,\"1001\":33.0,\"1002\":33.0,\"1003\":33.0,\"1004\":33.0,\"1005\":33.0,\"1006\":33.0,\"1007\":15.0,\"1008\":35.0,\"1009\":35.0,\"1010\":24.0,\"1011\":19.0,\"1012\":19.0,\"1013\":19.0,\"1014\":19.0,\"1015\":55.5,\"1016\":55.5,\"1017\":21.0,\"1018\":21.0,\"1019\":24.0,\"1020\":21.0,\"1021\":28.0,\"1022\":28.0,\"1023\":28.0,\"1024\":25.0,\"1025\":6.0,\"1026\":27.0,\"1027\":27.0,\"1028\":27.0,\"1029\":27.0,\"1030\":27.0,\"1031\":34.0,\"1032\":34.0,\"1033\":34.0,\"1034\":34.0,\"1035\":34.0,\"1036\":34.0,\"1037\":34.0,\"1038\":34.0,\"1039\":34.0,\"1040\":24.0,\"1041\":24.0,\"1042\":24.0,\"1043\":24.0,\"1044\":24.0,\"1045\":18.0,\"1046\":22.0,\"1047\":15.0,\"1048\":1.0,\"1049\":20.0,\"1050\":19.0,\"1051\":33.0,\"1052\":33.0,\"1053\":33.0,\"1054\":33.0,\"1055\":33.0,\"1056\":12.0,\"1057\":14.0,\"1058\":29.0,\"1059\":28.0,\"1060\":18.0,\"1061\":26.0,\"1062\":21.0,\"1063\":41.0,\"1064\":39.0,\"1065\":21.0,\"1066\":28.5,\"1067\":22.0,\"1068\":61.0,\"1069\":61.0,\"1070\":61.0,\"1071\":61.0,\"1072\":61.0,\"1073\":61.0,\"1074\":61.0,\"1075\":23.0,\"1076\":23.0,\"1077\":23.0,\"1078\":23.0,\"1079\":22.0,\"1080\":22.0,\"1081\":22.0,\"1082\":9.0,\"1083\":28.0,\"1084\":42.0,\"1085\":42.0,\"1086\":31.0,\"1087\":28.0,\"1088\":32.0,\"1089\":20.0,\"1090\":23.0,\"1091\":20.0,\"1092\":20.0,\"1093\":16.0,\"1094\":31.0,\"1095\":31.0,\"1096\":2.0,\"1097\":6.0,\"1098\":3.0,\"1099\":8.0,\"1100\":29.0,\"1101\":1.0,\"1102\":7.0,\"1103\":2.0,\"1104\":16.0,\"1105\":14.0,\"1106\":41.0,\"1107\":21.0,\"1108\":19.0,\"1109\":19.0,\"1110\":32.0,\"1111\":0.75,\"1112\":3.0,\"1113\":26.0,\"1114\":26.0,\"1115\":26.0,\"1116\":26.0,\"1117\":21.0,\"1118\":25.0,\"1119\":22.0,\"1120\":25.0,\"1121\":25.0,\"1122\":25.0,\"1123\":25.0,\"1124\":25.0,\"1125\":24.0,\"1126\":28.0,\"1127\":19.0,\"1128\":19.0,\"1129\":25.0,\"1130\":18.0,\"1131\":32.0,\"1132\":32.0,\"1133\":17.0,\"1134\":24.0,\"1135\":24.0,\"1136\":24.0,\"1137\":24.0,\"1138\":24.0,\"1139\":38.0,\"1140\":21.0,\"1141\":10.0,\"1142\":4.0,\"1143\":7.0,\"1144\":2.0,\"1145\":8.0,\"1146\":39.0,\"1147\":22.0,\"1148\":35.0,\"1149\":35.0,\"1150\":35.0,\"1151\":35.0,\"1152\":50.0,\"1153\":47.0,\"1154\":47.0,\"1155\":47.0,\"1156\":2.0,\"1157\":18.0,\"1158\":41.0,\"1159\":41.0,\"1160\":50.0,\"1161\":16.0,\"1162\":16.0,\"1163\":16.0,\"1164\":16.0,\"1165\":25.0,\"1166\":25.0,\"1167\":25.0,\"1168\":25.0,\"1169\":38.5,\"1170\":38.5,\"1171\":14.5,\"1172\":14.5,\"1173\":14.5,\"1174\":14.5,\"1175\":14.5,\"1176\":14.5,\"1177\":14.5,\"1178\":14.5,\"1179\":14.5,\"1180\":14.5,\"1181\":24.0,\"1182\":21.0,\"1183\":39.0,\"1184\":39.0,\"1185\":39.0,\"1186\":39.0,\"1187\":1.0,\"1188\":24.0,\"1189\":4.0,\"1190\":25.0,\"1191\":20.0,\"1192\":24.5,\"1193\":24.5,\"1194\":24.5,\"1195\":24.5,\"1196\":29.0,\"1197\":29.0,\"1198\":29.0,\"1199\":29.0,\"1200\":29.0,\"1201\":22.0,\"1202\":22.0,\"1203\":40.0,\"1204\":21.0,\"1205\":18.0,\"1206\":4.0,\"1207\":10.0,\"1208\":9.0,\"1209\":2.0,\"1210\":40.0,\"1211\":45.0,\"1212\":45.0,\"1213\":45.0,\"1214\":45.0,\"1215\":45.0,\"1216\":45.0,\"1217\":19.0,\"1218\":30.0,\"1219\":30.0,\"1220\":32.0,\"1221\":32.0,\"1222\":33.0,\"1223\":23.0,\"1224\":21.0,\"1225\":60.5,\"1226\":19.0,\"1227\":22.0,\"1228\":31.0,\"1229\":27.0,\"1230\":2.0,\"1231\":29.0,\"1232\":16.0,\"1233\":44.0,\"1234\":25.0,\"1235\":74.0,\"1236\":14.0,\"1237\":24.0,\"1238\":25.0,\"1239\":34.0,\"1240\":0.4167,\"1241\":0.4167,\"1242\":0.4167,\"1243\":0.4167,\"1244\":16.0,\"1245\":16.0,\"1246\":16.0,\"1247\":16.0,\"1248\":32.0,\"1249\":32.0,\"1250\":32.0,\"1251\":30.5,\"1252\":44.0,\"1253\":44.0,\"1254\":25.0,\"1255\":25.0,\"1256\":7.0,\"1257\":9.0,\"1258\":29.0,\"1259\":36.0,\"1260\":18.0,\"1261\":63.0,\"1262\":63.0,\"1263\":11.5,\"1264\":40.5,\"1265\":10.0,\"1266\":36.0,\"1267\":30.0,\"1268\":30.0,\"1269\":33.0,\"1270\":28.0,\"1271\":28.0,\"1272\":47.0,\"1273\":18.0,\"1274\":31.0,\"1275\":16.0,\"1276\":31.0,\"1277\":22.0,\"1278\":20.0,\"1279\":14.0,\"1280\":22.0,\"1281\":22.0,\"1282\":22.0,\"1283\":22.0,\"1284\":22.0,\"1285\":32.5,\"1286\":38.0,\"1287\":51.0,\"1288\":18.0,\"1289\":21.0,\"1290\":47.0,\"1291\":47.0,\"1292\":47.0,\"1293\":47.0,\"1294\":28.5,\"1295\":21.0,\"1296\":27.0,\"1297\":27.0,\"1298\":36.0,\"1299\":27.0,\"1300\":15.0,\"1301\":45.5,\"1302\":45.5,\"1303\":45.5,\"1304\":14.5,\"1305\":14.5,\"1306\":26.5,\"1307\":27.0,\"1308\":29.0}'"
     },
     "execution_count": 62,
     "metadata": {},
     "output_type": "execute_result"
    }
   ],
   "source": [
    "data5[\"age\"].fillna(method=\"ffill\").to_json()"
   ],
   "metadata": {
    "collapsed": false,
    "pycharm": {
     "name": "#%%\n"
    }
   }
  },
  {
   "cell_type": "code",
   "execution_count": 63,
   "outputs": [
    {
     "data": {
      "text/plain": "'{\"0\":29.0,\"1\":0.9167,\"2\":2.0,\"3\":30.0,\"4\":25.0,\"5\":48.0,\"6\":63.0,\"7\":39.0,\"8\":53.0,\"9\":71.0,\"10\":47.0,\"11\":18.0,\"12\":24.0,\"13\":26.0,\"14\":80.0,\"15\":24.0,\"16\":24.0,\"17\":50.0,\"18\":32.0,\"19\":36.0,\"20\":37.0,\"21\":47.0,\"22\":26.0,\"23\":42.0,\"24\":29.0,\"25\":25.0,\"26\":25.0,\"27\":19.0,\"28\":35.0,\"29\":28.0,\"30\":45.0,\"31\":40.0,\"32\":30.0,\"33\":58.0,\"34\":42.0,\"35\":45.0,\"36\":22.0,\"37\":41.0,\"38\":41.0,\"39\":48.0,\"40\":44.0,\"41\":44.0,\"42\":59.0,\"43\":60.0,\"44\":41.0,\"45\":45.0,\"46\":42.0,\"47\":42.0,\"48\":53.0,\"49\":36.0,\"50\":58.0,\"51\":33.0,\"52\":28.0,\"53\":17.0,\"54\":11.0,\"55\":14.0,\"56\":36.0,\"57\":36.0,\"58\":49.0,\"59\":36.0,\"60\":36.0,\"61\":76.0,\"62\":46.0,\"63\":47.0,\"64\":27.0,\"65\":33.0,\"66\":36.0,\"67\":30.0,\"68\":45.0,\"69\":27.0,\"70\":27.0,\"71\":27.0,\"72\":26.0,\"73\":22.0,\"74\":47.0,\"75\":47.0,\"76\":39.0,\"77\":37.0,\"78\":64.0,\"79\":55.0,\"80\":70.0,\"81\":70.0,\"82\":36.0,\"83\":64.0,\"84\":39.0,\"85\":38.0,\"86\":51.0,\"87\":27.0,\"88\":33.0,\"89\":31.0,\"90\":27.0,\"91\":31.0,\"92\":17.0,\"93\":53.0,\"94\":4.0,\"95\":54.0,\"96\":50.0,\"97\":27.0,\"98\":48.0,\"99\":48.0,\"100\":49.0,\"101\":39.0,\"102\":23.0,\"103\":38.0,\"104\":54.0,\"105\":36.0,\"106\":36.0,\"107\":36.0,\"108\":36.0,\"109\":36.0,\"110\":30.0,\"111\":24.0,\"112\":28.0,\"113\":23.0,\"114\":19.0,\"115\":64.0,\"116\":60.0,\"117\":30.0,\"118\":50.0,\"119\":50.0,\"120\":43.0,\"121\":22.0,\"122\":22.0,\"123\":60.0,\"124\":48.0,\"125\":37.0,\"126\":37.0,\"127\":35.0,\"128\":47.0,\"129\":35.0,\"130\":22.0,\"131\":45.0,\"132\":24.0,\"133\":49.0,\"134\":71.0,\"135\":71.0,\"136\":53.0,\"137\":19.0,\"138\":38.0,\"139\":58.0,\"140\":23.0,\"141\":45.0,\"142\":46.0,\"143\":25.0,\"144\":25.0,\"145\":48.0,\"146\":49.0,\"147\":45.0,\"148\":45.0,\"149\":35.0,\"150\":40.0,\"151\":27.0,\"152\":24.0,\"153\":24.0,\"154\":55.0,\"155\":52.0,\"156\":42.0,\"157\":55.0,\"158\":55.0,\"159\":16.0,\"160\":44.0,\"161\":51.0,\"162\":42.0,\"163\":35.0,\"164\":35.0,\"165\":38.0,\"166\":35.0,\"167\":35.0,\"168\":38.0,\"169\":50.0,\"170\":49.0,\"171\":46.0,\"172\":50.0,\"173\":32.5,\"174\":58.0,\"175\":41.0,\"176\":42.0,\"177\":42.0,\"178\":45.0,\"179\":39.0,\"180\":39.0,\"181\":49.0,\"182\":30.0,\"183\":35.0,\"184\":42.0,\"185\":42.0,\"186\":55.0,\"187\":16.0,\"188\":51.0,\"189\":29.0,\"190\":21.0,\"191\":30.0,\"192\":58.0,\"193\":15.0,\"194\":30.0,\"195\":16.0,\"196\":19.0,\"197\":19.0,\"198\":18.0,\"199\":24.0,\"200\":46.0,\"201\":54.0,\"202\":36.0,\"203\":28.0,\"204\":65.0,\"205\":65.0,\"206\":44.0,\"207\":33.0,\"208\":37.0,\"209\":30.0,\"210\":55.0,\"211\":47.0,\"212\":37.0,\"213\":31.0,\"214\":23.0,\"215\":58.0,\"216\":19.0,\"217\":64.0,\"218\":39.0,\"219\":22.0,\"220\":22.0,\"221\":65.0,\"222\":28.5,\"223\":45.5,\"224\":45.5,\"225\":23.0,\"226\":29.0,\"227\":22.0,\"228\":18.0,\"229\":17.0,\"230\":30.0,\"231\":52.0,\"232\":47.0,\"233\":56.0,\"234\":38.0,\"235\":22.0,\"236\":22.0,\"237\":43.0,\"238\":43.0,\"239\":31.0,\"240\":45.0,\"241\":33.0,\"242\":33.0,\"243\":46.0,\"244\":36.0,\"245\":33.0,\"246\":55.0,\"247\":54.0,\"248\":33.0,\"249\":13.0,\"250\":18.0,\"251\":21.0,\"252\":61.0,\"253\":48.0,\"254\":24.0,\"255\":24.0,\"256\":35.0,\"257\":35.0,\"258\":30.0,\"259\":34.0,\"260\":40.0,\"261\":35.0,\"262\":50.0,\"263\":39.0,\"264\":56.0,\"265\":28.0,\"266\":56.0,\"267\":56.0,\"268\":24.0,\"269\":18.0,\"270\":18.0,\"271\":24.0,\"272\":23.0,\"273\":6.0,\"274\":45.0,\"275\":40.0,\"276\":57.0,\"277\":32.0,\"278\":32.0,\"279\":62.0,\"280\":54.0,\"281\":43.0,\"282\":52.0,\"283\":62.0,\"284\":62.0,\"285\":67.0,\"286\":63.0,\"287\":61.0,\"288\":48.0,\"289\":18.0,\"290\":52.0,\"291\":39.0,\"292\":48.0,\"293\":49.0,\"294\":49.0,\"295\":17.0,\"296\":39.0,\"297\":31.0,\"298\":31.0,\"299\":40.0,\"300\":61.0,\"301\":47.0,\"302\":35.0,\"303\":64.0,\"304\":60.0,\"305\":60.0,\"306\":54.0,\"307\":21.0,\"308\":55.0,\"309\":31.0,\"310\":57.0,\"311\":45.0,\"312\":50.0,\"313\":27.0,\"314\":50.0,\"315\":21.0,\"316\":51.0,\"317\":21.0,\"318\":31.0,\"319\":31.0,\"320\":62.0,\"321\":62.0,\"322\":36.0,\"323\":30.0,\"324\":28.0,\"325\":30.0,\"326\":18.0,\"327\":25.0,\"328\":34.0,\"329\":36.0,\"330\":57.0,\"331\":18.0,\"332\":23.0,\"333\":36.0,\"334\":28.0,\"335\":51.0,\"336\":32.0,\"337\":19.0,\"338\":28.0,\"339\":1.0,\"340\":4.0,\"341\":12.0,\"342\":36.0,\"343\":34.0,\"344\":19.0,\"345\":23.0,\"346\":26.0,\"347\":42.0,\"348\":27.0,\"349\":24.0,\"350\":15.0,\"351\":60.0,\"352\":40.0,\"353\":20.0,\"354\":25.0,\"355\":36.0,\"356\":25.0,\"357\":42.0,\"358\":42.0,\"359\":0.8333,\"360\":26.0,\"361\":22.0,\"362\":35.0,\"363\":19.0,\"364\":19.0,\"365\":44.0,\"366\":54.0,\"367\":52.0,\"368\":37.0,\"369\":29.0,\"370\":25.0,\"371\":45.0,\"372\":29.0,\"373\":28.0,\"374\":29.0,\"375\":28.0,\"376\":24.0,\"377\":8.0,\"378\":31.0,\"379\":31.0,\"380\":22.0,\"381\":30.0,\"382\":21.0,\"383\":21.0,\"384\":8.0,\"385\":8.0,\"386\":18.0,\"387\":48.0,\"388\":28.0,\"389\":32.0,\"390\":17.0,\"391\":29.0,\"392\":24.0,\"393\":25.0,\"394\":18.0,\"395\":18.0,\"396\":34.0,\"397\":54.0,\"398\":8.0,\"399\":42.0,\"400\":34.0,\"401\":27.0,\"402\":30.0,\"403\":23.0,\"404\":21.0,\"405\":18.0,\"406\":40.0,\"407\":29.0,\"408\":18.0,\"409\":36.0,\"410\":38.0,\"411\":38.0,\"412\":35.0,\"413\":38.0,\"414\":34.0,\"415\":34.0,\"416\":16.0,\"417\":26.0,\"418\":47.0,\"419\":21.0,\"420\":21.0,\"421\":24.0,\"422\":24.0,\"423\":34.0,\"424\":30.0,\"425\":52.0,\"426\":30.0,\"427\":0.6667,\"428\":24.0,\"429\":44.0,\"430\":6.0,\"431\":28.0,\"432\":62.0,\"433\":30.0,\"434\":7.0,\"435\":43.0,\"436\":45.0,\"437\":24.0,\"438\":24.0,\"439\":49.0,\"440\":48.0,\"441\":55.0,\"442\":24.0,\"443\":32.0,\"444\":21.0,\"445\":18.0,\"446\":20.0,\"447\":23.0,\"448\":36.0,\"449\":54.0,\"450\":50.0,\"451\":44.0,\"452\":29.0,\"453\":21.0,\"454\":42.0,\"455\":63.0,\"456\":60.0,\"457\":33.0,\"458\":17.0,\"459\":42.0,\"460\":24.0,\"461\":47.0,\"462\":24.0,\"463\":22.0,\"464\":32.0,\"465\":23.0,\"466\":34.0,\"467\":24.0,\"468\":22.0,\"469\":35.0,\"470\":35.0,\"471\":45.0,\"472\":57.0,\"473\":31.0,\"474\":31.0,\"475\":26.0,\"476\":30.0,\"477\":1.0,\"478\":1.0,\"479\":3.0,\"480\":25.0,\"481\":22.0,\"482\":17.0,\"483\":34.0,\"484\":34.0,\"485\":36.0,\"486\":24.0,\"487\":61.0,\"488\":50.0,\"489\":42.0,\"490\":57.0,\"491\":1.0,\"492\":1.0,\"493\":31.0,\"494\":24.0,\"495\":30.0,\"496\":30.0,\"497\":40.0,\"498\":32.0,\"499\":30.0,\"500\":46.0,\"501\":13.0,\"502\":41.0,\"503\":19.0,\"504\":39.0,\"505\":48.0,\"506\":70.0,\"507\":27.0,\"508\":54.0,\"509\":39.0,\"510\":16.0,\"511\":62.0,\"512\":32.5,\"513\":14.0,\"514\":2.0,\"515\":3.0,\"516\":36.5,\"517\":26.0,\"518\":19.0,\"519\":28.0,\"520\":20.0,\"521\":29.0,\"522\":39.0,\"523\":22.0,\"524\":23.0,\"525\":23.0,\"526\":29.0,\"527\":28.0,\"528\":50.0,\"529\":50.0,\"530\":19.0,\"531\":41.0,\"532\":41.0,\"533\":21.0,\"534\":19.0,\"535\":43.0,\"536\":32.0,\"537\":34.0,\"538\":30.0,\"539\":27.0,\"540\":2.0,\"541\":8.0,\"542\":33.0,\"543\":36.0,\"544\":34.0,\"545\":30.0,\"546\":28.0,\"547\":23.0,\"548\":0.8333,\"549\":3.0,\"550\":24.0,\"551\":50.0,\"552\":19.0,\"553\":21.0,\"554\":26.0,\"555\":25.0,\"556\":27.0,\"557\":25.0,\"558\":18.0,\"559\":20.0,\"560\":30.0,\"561\":59.0,\"562\":30.0,\"563\":35.0,\"564\":40.0,\"565\":25.0,\"566\":41.0,\"567\":25.0,\"568\":18.5,\"569\":14.0,\"570\":50.0,\"571\":23.0,\"572\":28.0,\"573\":27.0,\"574\":29.0,\"575\":27.0,\"576\":40.0,\"577\":31.0,\"578\":30.0,\"579\":23.0,\"580\":31.0,\"581\":12.0,\"582\":12.0,\"583\":40.0,\"584\":32.5,\"585\":27.0,\"586\":29.0,\"587\":2.0,\"588\":4.0,\"589\":29.0,\"590\":0.9167,\"591\":5.0,\"592\":36.0,\"593\":33.0,\"594\":66.0,\"595\":31.0,\"596\":31.0,\"597\":26.0,\"598\":26.0,\"599\":24.0,\"600\":42.0,\"601\":13.0,\"602\":16.0,\"603\":35.0,\"604\":16.0,\"605\":25.0,\"606\":20.0,\"607\":18.0,\"608\":30.0,\"609\":26.0,\"610\":40.0,\"611\":0.8333,\"612\":18.0,\"613\":26.0,\"614\":26.0,\"615\":20.0,\"616\":24.0,\"617\":25.0,\"618\":35.0,\"619\":18.0,\"620\":32.0,\"621\":19.0,\"622\":4.0,\"623\":6.0,\"624\":2.0,\"625\":17.0,\"626\":38.0,\"627\":9.0,\"628\":11.0,\"629\":39.0,\"630\":27.0,\"631\":26.0,\"632\":39.0,\"633\":20.0,\"634\":26.0,\"635\":25.0,\"636\":18.0,\"637\":24.0,\"638\":35.0,\"639\":5.0,\"640\":9.0,\"641\":3.0,\"642\":13.0,\"643\":5.0,\"644\":40.0,\"645\":23.0,\"646\":38.0,\"647\":45.0,\"648\":21.0,\"649\":23.0,\"650\":17.0,\"651\":30.0,\"652\":23.0,\"653\":13.0,\"654\":20.0,\"655\":32.0,\"656\":33.0,\"657\":0.75,\"658\":0.75,\"659\":5.0,\"660\":24.0,\"661\":18.0,\"662\":40.0,\"663\":26.0,\"664\":20.0,\"665\":18.0,\"666\":45.0,\"667\":27.0,\"668\":22.0,\"669\":19.0,\"670\":26.0,\"671\":22.0,\"672\":20.0,\"673\":20.0,\"674\":32.0,\"675\":21.0,\"676\":18.0,\"677\":26.0,\"678\":6.0,\"679\":9.0,\"680\":40.0,\"681\":40.0,\"682\":40.0,\"683\":40.0,\"684\":32.0,\"685\":21.0,\"686\":22.0,\"687\":20.0,\"688\":29.0,\"689\":22.0,\"690\":22.0,\"691\":35.0,\"692\":18.5,\"693\":21.0,\"694\":19.0,\"695\":18.0,\"696\":21.0,\"697\":30.0,\"698\":18.0,\"699\":38.0,\"700\":17.0,\"701\":17.0,\"702\":21.0,\"703\":21.0,\"704\":21.0,\"705\":28.0,\"706\":28.0,\"707\":28.0,\"708\":24.0,\"709\":16.0,\"710\":37.0,\"711\":28.0,\"712\":24.0,\"713\":21.0,\"714\":32.0,\"715\":29.0,\"716\":26.0,\"717\":18.0,\"718\":20.0,\"719\":18.0,\"720\":24.0,\"721\":36.0,\"722\":24.0,\"723\":31.0,\"724\":31.0,\"725\":22.0,\"726\":30.0,\"727\":70.5,\"728\":43.0,\"729\":35.0,\"730\":27.0,\"731\":19.0,\"732\":30.0,\"733\":9.0,\"734\":3.0,\"735\":36.0,\"736\":59.0,\"737\":19.0,\"738\":17.0,\"739\":44.0,\"740\":17.0,\"741\":22.5,\"742\":45.0,\"743\":22.0,\"744\":19.0,\"745\":30.0,\"746\":29.0,\"747\":0.3333,\"748\":34.0,\"749\":28.0,\"750\":27.0,\"751\":25.0,\"752\":24.0,\"753\":22.0,\"754\":21.0,\"755\":17.0,\"756\":36.5,\"757\":36.5,\"758\":36.5,\"759\":36.0,\"760\":30.0,\"761\":16.0,\"762\":1.0,\"763\":0.1667,\"764\":26.0,\"765\":33.0,\"766\":25.0,\"767\":22.0,\"768\":22.0,\"769\":22.0,\"770\":36.0,\"771\":19.0,\"772\":17.0,\"773\":42.0,\"774\":43.0,\"775\":32.0,\"776\":32.0,\"777\":19.0,\"778\":30.0,\"779\":24.0,\"780\":23.0,\"781\":33.0,\"782\":65.0,\"783\":24.0,\"784\":23.0,\"785\":22.0,\"786\":18.0,\"787\":16.0,\"788\":45.0,\"789\":39.0,\"790\":39.0,\"791\":17.0,\"792\":15.0,\"793\":47.0,\"794\":5.0,\"795\":40.5,\"796\":40.5,\"797\":40.5,\"798\":18.0,\"799\":18.0,\"800\":26.0,\"801\":26.0,\"802\":26.0,\"803\":26.0,\"804\":21.0,\"805\":21.0,\"806\":21.0,\"807\":9.0,\"808\":18.0,\"809\":18.0,\"810\":16.0,\"811\":48.0,\"812\":25.0,\"813\":25.0,\"814\":25.0,\"815\":22.0,\"816\":22.0,\"817\":22.0,\"818\":16.0,\"819\":9.0,\"820\":9.0,\"821\":33.0,\"822\":41.0,\"823\":31.0,\"824\":38.0,\"825\":9.0,\"826\":1.0,\"827\":11.0,\"828\":10.0,\"829\":16.0,\"830\":14.0,\"831\":40.0,\"832\":43.0,\"833\":51.0,\"834\":32.0,\"835\":20.0,\"836\":20.0,\"837\":37.0,\"838\":28.0,\"839\":19.0,\"840\":24.0,\"841\":17.0,\"842\":28.0,\"843\":28.0,\"844\":28.0,\"845\":24.0,\"846\":20.0,\"847\":23.5,\"848\":41.0,\"849\":26.0,\"850\":21.0,\"851\":45.0,\"852\":25.0,\"853\":25.0,\"854\":11.0,\"855\":11.0,\"856\":27.0,\"857\":27.0,\"858\":18.0,\"859\":18.0,\"860\":26.0,\"861\":23.0,\"862\":22.0,\"863\":28.0,\"864\":28.0,\"865\":2.0,\"866\":2.0,\"867\":22.0,\"868\":43.0,\"869\":28.0,\"870\":27.0,\"871\":42.0,\"872\":42.0,\"873\":42.0,\"874\":30.0,\"875\":30.0,\"876\":27.0,\"877\":27.0,\"878\":25.0,\"879\":29.0,\"880\":29.0,\"881\":21.0,\"882\":20.0,\"883\":20.0,\"884\":48.0,\"885\":17.0,\"886\":34.0,\"887\":34.0,\"888\":34.0,\"889\":26.0,\"890\":22.0,\"891\":33.0,\"892\":31.0,\"893\":29.0,\"894\":4.0,\"895\":1.0,\"896\":49.0,\"897\":33.0,\"898\":19.0,\"899\":27.0,\"900\":23.0,\"901\":23.0,\"902\":23.0,\"903\":23.0,\"904\":23.0,\"905\":32.0,\"906\":27.0,\"907\":20.0,\"908\":21.0,\"909\":32.0,\"910\":17.0,\"911\":21.0,\"912\":30.0,\"913\":21.0,\"914\":33.0,\"915\":22.0,\"916\":4.0,\"917\":39.0,\"918\":18.5,\"919\":18.5,\"920\":34.5,\"921\":34.5,\"922\":34.5,\"923\":34.5,\"924\":34.5,\"925\":44.0,\"926\":22.0,\"927\":22.0,\"928\":22.0,\"929\":22.0,\"930\":22.0,\"931\":22.0,\"932\":22.0,\"933\":26.0,\"934\":4.0,\"935\":29.0,\"936\":26.0,\"937\":1.0,\"938\":18.0,\"939\":36.0,\"940\":25.0,\"941\":25.0,\"942\":37.0,\"943\":37.0,\"944\":22.0,\"945\":22.0,\"946\":22.0,\"947\":22.0,\"948\":26.0,\"949\":26.0,\"950\":29.0,\"951\":29.0,\"952\":22.0,\"953\":22.0,\"954\":32.0,\"955\":32.0,\"956\":32.0,\"957\":32.0,\"958\":32.0,\"959\":32.0,\"960\":34.5,\"961\":36.0,\"962\":36.0,\"963\":36.0,\"964\":39.0,\"965\":24.0,\"966\":25.0,\"967\":45.0,\"968\":36.0,\"969\":30.0,\"970\":20.0,\"971\":28.0,\"972\":28.0,\"973\":30.0,\"974\":30.0,\"975\":26.0,\"976\":20.5,\"977\":20.5,\"978\":27.0,\"979\":51.0,\"980\":23.0,\"981\":32.0,\"982\":24.0,\"983\":24.0,\"984\":24.0,\"985\":24.0,\"986\":22.0,\"987\":29.0,\"988\":29.0,\"989\":29.0,\"990\":29.0,\"991\":30.5,\"992\":30.5,\"993\":35.0,\"994\":35.0,\"995\":35.0,\"996\":33.0,\"997\":15.0,\"998\":15.0,\"999\":15.0,\"1000\":15.0,\"1001\":15.0,\"1002\":15.0,\"1003\":15.0,\"1004\":15.0,\"1005\":15.0,\"1006\":15.0,\"1007\":15.0,\"1008\":35.0,\"1009\":24.0,\"1010\":24.0,\"1011\":19.0,\"1012\":55.5,\"1013\":55.5,\"1014\":55.5,\"1015\":55.5,\"1016\":21.0,\"1017\":21.0,\"1018\":24.0,\"1019\":24.0,\"1020\":21.0,\"1021\":28.0,\"1022\":25.0,\"1023\":25.0,\"1024\":25.0,\"1025\":6.0,\"1026\":27.0,\"1027\":34.0,\"1028\":34.0,\"1029\":34.0,\"1030\":34.0,\"1031\":34.0,\"1032\":24.0,\"1033\":24.0,\"1034\":24.0,\"1035\":24.0,\"1036\":24.0,\"1037\":24.0,\"1038\":24.0,\"1039\":24.0,\"1040\":24.0,\"1041\":18.0,\"1042\":18.0,\"1043\":18.0,\"1044\":18.0,\"1045\":18.0,\"1046\":22.0,\"1047\":15.0,\"1048\":1.0,\"1049\":20.0,\"1050\":19.0,\"1051\":33.0,\"1052\":12.0,\"1053\":12.0,\"1054\":12.0,\"1055\":12.0,\"1056\":12.0,\"1057\":14.0,\"1058\":29.0,\"1059\":28.0,\"1060\":18.0,\"1061\":26.0,\"1062\":21.0,\"1063\":41.0,\"1064\":39.0,\"1065\":21.0,\"1066\":28.5,\"1067\":22.0,\"1068\":61.0,\"1069\":23.0,\"1070\":23.0,\"1071\":23.0,\"1072\":23.0,\"1073\":23.0,\"1074\":23.0,\"1075\":23.0,\"1076\":22.0,\"1077\":22.0,\"1078\":22.0,\"1079\":22.0,\"1080\":9.0,\"1081\":9.0,\"1082\":9.0,\"1083\":28.0,\"1084\":42.0,\"1085\":31.0,\"1086\":31.0,\"1087\":28.0,\"1088\":32.0,\"1089\":20.0,\"1090\":23.0,\"1091\":20.0,\"1092\":20.0,\"1093\":16.0,\"1094\":31.0,\"1095\":2.0,\"1096\":2.0,\"1097\":6.0,\"1098\":3.0,\"1099\":8.0,\"1100\":29.0,\"1101\":1.0,\"1102\":7.0,\"1103\":2.0,\"1104\":16.0,\"1105\":14.0,\"1106\":41.0,\"1107\":21.0,\"1108\":19.0,\"1109\":32.0,\"1110\":32.0,\"1111\":0.75,\"1112\":3.0,\"1113\":26.0,\"1114\":21.0,\"1115\":21.0,\"1116\":21.0,\"1117\":21.0,\"1118\":25.0,\"1119\":22.0,\"1120\":25.0,\"1121\":24.0,\"1122\":24.0,\"1123\":24.0,\"1124\":24.0,\"1125\":24.0,\"1126\":28.0,\"1127\":19.0,\"1128\":25.0,\"1129\":25.0,\"1130\":18.0,\"1131\":32.0,\"1132\":17.0,\"1133\":17.0,\"1134\":24.0,\"1135\":38.0,\"1136\":38.0,\"1137\":38.0,\"1138\":38.0,\"1139\":38.0,\"1140\":21.0,\"1141\":10.0,\"1142\":4.0,\"1143\":7.0,\"1144\":2.0,\"1145\":8.0,\"1146\":39.0,\"1147\":22.0,\"1148\":35.0,\"1149\":50.0,\"1150\":50.0,\"1151\":50.0,\"1152\":50.0,\"1153\":47.0,\"1154\":2.0,\"1155\":2.0,\"1156\":2.0,\"1157\":18.0,\"1158\":41.0,\"1159\":50.0,\"1160\":50.0,\"1161\":16.0,\"1162\":25.0,\"1163\":25.0,\"1164\":25.0,\"1165\":25.0,\"1166\":38.5,\"1167\":38.5,\"1168\":38.5,\"1169\":38.5,\"1170\":14.5,\"1171\":14.5,\"1172\":24.0,\"1173\":24.0,\"1174\":24.0,\"1175\":24.0,\"1176\":24.0,\"1177\":24.0,\"1178\":24.0,\"1179\":24.0,\"1180\":24.0,\"1181\":24.0,\"1182\":21.0,\"1183\":39.0,\"1184\":1.0,\"1185\":1.0,\"1186\":1.0,\"1187\":1.0,\"1188\":24.0,\"1189\":4.0,\"1190\":25.0,\"1191\":20.0,\"1192\":24.5,\"1193\":29.0,\"1194\":29.0,\"1195\":29.0,\"1196\":29.0,\"1197\":22.0,\"1198\":22.0,\"1199\":22.0,\"1200\":22.0,\"1201\":22.0,\"1202\":40.0,\"1203\":40.0,\"1204\":21.0,\"1205\":18.0,\"1206\":4.0,\"1207\":10.0,\"1208\":9.0,\"1209\":2.0,\"1210\":40.0,\"1211\":45.0,\"1212\":19.0,\"1213\":19.0,\"1214\":19.0,\"1215\":19.0,\"1216\":19.0,\"1217\":19.0,\"1218\":30.0,\"1219\":32.0,\"1220\":32.0,\"1221\":33.0,\"1222\":33.0,\"1223\":23.0,\"1224\":21.0,\"1225\":60.5,\"1226\":19.0,\"1227\":22.0,\"1228\":31.0,\"1229\":27.0,\"1230\":2.0,\"1231\":29.0,\"1232\":16.0,\"1233\":44.0,\"1234\":25.0,\"1235\":74.0,\"1236\":14.0,\"1237\":24.0,\"1238\":25.0,\"1239\":34.0,\"1240\":0.4167,\"1241\":16.0,\"1242\":16.0,\"1243\":16.0,\"1244\":16.0,\"1245\":32.0,\"1246\":32.0,\"1247\":32.0,\"1248\":32.0,\"1249\":30.5,\"1250\":30.5,\"1251\":30.5,\"1252\":44.0,\"1253\":25.0,\"1254\":25.0,\"1255\":7.0,\"1256\":7.0,\"1257\":9.0,\"1258\":29.0,\"1259\":36.0,\"1260\":18.0,\"1261\":63.0,\"1262\":11.5,\"1263\":11.5,\"1264\":40.5,\"1265\":10.0,\"1266\":36.0,\"1267\":30.0,\"1268\":33.0,\"1269\":33.0,\"1270\":28.0,\"1271\":28.0,\"1272\":47.0,\"1273\":18.0,\"1274\":31.0,\"1275\":16.0,\"1276\":31.0,\"1277\":22.0,\"1278\":20.0,\"1279\":14.0,\"1280\":22.0,\"1281\":22.0,\"1282\":32.5,\"1283\":32.5,\"1284\":32.5,\"1285\":32.5,\"1286\":38.0,\"1287\":51.0,\"1288\":18.0,\"1289\":21.0,\"1290\":47.0,\"1291\":28.5,\"1292\":28.5,\"1293\":28.5,\"1294\":28.5,\"1295\":21.0,\"1296\":27.0,\"1297\":36.0,\"1298\":36.0,\"1299\":27.0,\"1300\":15.0,\"1301\":45.5,\"1302\":14.5,\"1303\":14.5,\"1304\":14.5,\"1305\":26.5,\"1306\":26.5,\"1307\":27.0,\"1308\":29.0}'"
     },
     "execution_count": 63,
     "metadata": {},
     "output_type": "execute_result"
    }
   ],
   "source": [
    "data5[\"age\"].fillna(method=\"backfill\").to_json()"
   ],
   "metadata": {
    "collapsed": false,
    "pycharm": {
     "name": "#%%\n"
    }
   }
  },
  {
   "cell_type": "markdown",
   "source": [
    "## Variables dummy"
   ],
   "metadata": {
    "collapsed": false,
    "pycharm": {
     "name": "#%% md\n"
    }
   }
  },
  {
   "cell_type": "code",
   "execution_count": 73,
   "outputs": [
    {
     "data": {
      "text/plain": "'{\"0\":\"female\",\"1\":\"male\",\"2\":\"female\",\"3\":\"male\",\"4\":\"female\",\"5\":\"male\",\"6\":\"female\",\"7\":\"male\",\"8\":\"female\",\"9\":\"male\",\"10\":\"male\",\"11\":\"female\",\"12\":\"female\",\"13\":\"female\",\"14\":\"male\",\"15\":\"male\",\"16\":\"male\",\"17\":\"female\",\"18\":\"female\",\"19\":\"male\",\"20\":\"male\",\"21\":\"female\",\"22\":\"male\",\"23\":\"female\",\"24\":\"female\",\"25\":\"male\",\"26\":\"male\",\"27\":\"female\",\"28\":\"female\",\"29\":\"male\",\"30\":\"male\",\"31\":\"male\",\"32\":\"female\",\"33\":\"female\",\"34\":\"male\",\"35\":\"female\",\"36\":\"female\",\"37\":\"male\",\"38\":\"male\",\"39\":\"male\",\"40\":\"male\",\"41\":\"female\",\"42\":\"female\",\"43\":\"female\",\"44\":\"female\",\"45\":\"male\",\"46\":\"male\",\"47\":\"male\",\"48\":\"female\",\"49\":\"male\",\"50\":\"female\",\"51\":\"male\",\"52\":\"male\",\"53\":\"male\",\"54\":\"male\",\"55\":\"female\",\"56\":\"male\",\"57\":\"female\",\"58\":\"male\",\"59\":\"female\",\"60\":\"male\",\"61\":\"female\",\"62\":\"male\",\"63\":\"female\",\"64\":\"male\",\"65\":\"female\",\"66\":\"female\",\"67\":\"female\",\"68\":\"male\",\"69\":\"female\",\"70\":\"male\",\"71\":\"male\",\"72\":\"female\",\"73\":\"female\",\"74\":\"male\",\"75\":\"male\",\"76\":\"female\",\"77\":\"male\",\"78\":\"female\",\"79\":\"female\",\"80\":\"male\",\"81\":\"male\",\"82\":\"female\",\"83\":\"female\",\"84\":\"male\",\"85\":\"female\",\"86\":\"male\",\"87\":\"male\",\"88\":\"female\",\"89\":\"male\",\"90\":\"female\",\"91\":\"male\",\"92\":\"female\",\"93\":\"male\",\"94\":\"male\",\"95\":\"female\",\"96\":\"male\",\"97\":\"female\",\"98\":\"female\",\"99\":\"female\",\"100\":\"male\",\"101\":\"male\",\"102\":\"female\",\"103\":\"female\",\"104\":\"female\",\"105\":\"female\",\"106\":\"male\",\"107\":\"female\",\"108\":\"female\",\"109\":\"male\",\"110\":\"male\",\"111\":\"female\",\"112\":\"female\",\"113\":\"female\",\"114\":\"male\",\"115\":\"male\",\"116\":\"female\",\"117\":\"female\",\"118\":\"male\",\"119\":\"male\",\"120\":\"male\",\"121\":\"female\",\"122\":\"female\",\"123\":\"male\",\"124\":\"female\",\"125\":\"male\",\"126\":\"male\",\"127\":\"female\",\"128\":\"male\",\"129\":\"female\",\"130\":\"female\",\"131\":\"female\",\"132\":\"male\",\"133\":\"male\",\"134\":\"female\",\"135\":\"male\",\"136\":\"male\",\"137\":\"female\",\"138\":\"male\",\"139\":\"female\",\"140\":\"male\",\"141\":\"female\",\"142\":\"male\",\"143\":\"male\",\"144\":\"female\",\"145\":\"male\",\"146\":\"female\",\"147\":\"male\",\"148\":\"male\",\"149\":\"female\",\"150\":\"male\",\"151\":\"male\",\"152\":\"male\",\"153\":\"female\",\"154\":\"male\",\"155\":\"female\",\"156\":\"male\",\"157\":\"male\",\"158\":\"male\",\"159\":\"female\",\"160\":\"female\",\"161\":\"female\",\"162\":\"male\",\"163\":\"female\",\"164\":\"male\",\"165\":\"male\",\"166\":\"male\",\"167\":\"female\",\"168\":\"female\",\"169\":\"female\",\"170\":\"male\",\"171\":\"male\",\"172\":\"male\",\"173\":\"male\",\"174\":\"male\",\"175\":\"male\",\"176\":\"female\",\"177\":\"male\",\"178\":\"female\",\"179\":\"male\",\"180\":\"female\",\"181\":\"female\",\"182\":\"female\",\"183\":\"male\",\"184\":\"male\",\"185\":\"male\",\"186\":\"female\",\"187\":\"female\",\"188\":\"female\",\"189\":\"male\",\"190\":\"female\",\"191\":\"male\",\"192\":\"female\",\"193\":\"female\",\"194\":\"male\",\"195\":\"female\",\"196\":\"male\",\"197\":\"male\",\"198\":\"female\",\"199\":\"female\",\"200\":\"male\",\"201\":\"male\",\"202\":\"male\",\"203\":\"male\",\"204\":\"female\",\"205\":\"male\",\"206\":\"male\",\"207\":\"female\",\"208\":\"female\",\"209\":\"male\",\"210\":\"male\",\"211\":\"male\",\"212\":\"male\",\"213\":\"female\",\"214\":\"female\",\"215\":\"male\",\"216\":\"female\",\"217\":\"male\",\"218\":\"female\",\"219\":\"male\",\"220\":\"female\",\"221\":\"male\",\"222\":\"male\",\"223\":\"male\",\"224\":\"male\",\"225\":\"male\",\"226\":\"male\",\"227\":\"female\",\"228\":\"male\",\"229\":\"female\",\"230\":\"female\",\"231\":\"male\",\"232\":\"male\",\"233\":\"female\",\"234\":\"male\",\"235\":\"male\",\"236\":\"male\",\"237\":\"male\",\"238\":\"female\",\"239\":\"male\",\"240\":\"male\",\"241\":\"male\",\"242\":\"female\",\"243\":\"male\",\"244\":\"male\",\"245\":\"female\",\"246\":\"male\",\"247\":\"female\",\"248\":\"male\",\"249\":\"male\",\"250\":\"female\",\"251\":\"female\",\"252\":\"male\",\"253\":\"female\",\"254\":\"male\",\"255\":\"female\",\"256\":\"male\",\"257\":\"female\",\"258\":\"female\",\"259\":\"male\",\"260\":\"female\",\"261\":\"male\",\"262\":\"male\",\"263\":\"female\",\"264\":\"male\",\"265\":\"male\",\"266\":\"male\",\"267\":\"male\",\"268\":\"male\",\"269\":\"male\",\"270\":\"female\",\"271\":\"male\",\"272\":\"female\",\"273\":\"male\",\"274\":\"male\",\"275\":\"female\",\"276\":\"male\",\"277\":\"female\",\"278\":\"male\",\"279\":\"male\",\"280\":\"male\",\"281\":\"female\",\"282\":\"female\",\"283\":\"male\",\"284\":\"female\",\"285\":\"male\",\"286\":\"female\",\"287\":\"male\",\"288\":\"female\",\"289\":\"female\",\"290\":\"male\",\"291\":\"female\",\"292\":\"male\",\"293\":\"female\",\"294\":\"male\",\"295\":\"male\",\"296\":\"female\",\"297\":\"female\",\"298\":\"male\",\"299\":\"male\",\"300\":\"male\",\"301\":\"male\",\"302\":\"female\",\"303\":\"male\",\"304\":\"female\",\"305\":\"male\",\"306\":\"male\",\"307\":\"male\",\"308\":\"female\",\"309\":\"female\",\"310\":\"male\",\"311\":\"female\",\"312\":\"male\",\"313\":\"male\",\"314\":\"female\",\"315\":\"female\",\"316\":\"male\",\"317\":\"male\",\"318\":\"male\",\"319\":\"female\",\"320\":\"male\",\"321\":\"male\",\"322\":\"female\",\"323\":\"male\",\"324\":\"female\",\"325\":\"male\",\"326\":\"male\",\"327\":\"male\",\"328\":\"male\",\"329\":\"female\",\"330\":\"male\",\"331\":\"male\",\"332\":\"male\",\"333\":\"female\",\"334\":\"male\",\"335\":\"male\",\"336\":\"male\",\"337\":\"female\",\"338\":\"male\",\"339\":\"male\",\"340\":\"female\",\"341\":\"female\",\"342\":\"female\",\"343\":\"male\",\"344\":\"female\",\"345\":\"male\",\"346\":\"male\",\"347\":\"male\",\"348\":\"male\",\"349\":\"female\",\"350\":\"female\",\"351\":\"male\",\"352\":\"female\",\"353\":\"female\",\"354\":\"male\",\"355\":\"female\",\"356\":\"male\",\"357\":\"male\",\"358\":\"female\",\"359\":\"male\",\"360\":\"male\",\"361\":\"female\",\"362\":\"female\",\"363\":\"male\",\"364\":\"male\",\"365\":\"female\",\"366\":\"male\",\"367\":\"male\",\"368\":\"male\",\"369\":\"female\",\"370\":\"female\",\"371\":\"female\",\"372\":\"male\",\"373\":\"female\",\"374\":\"male\",\"375\":\"male\",\"376\":\"male\",\"377\":\"female\",\"378\":\"male\",\"379\":\"female\",\"380\":\"female\",\"381\":\"female\",\"382\":\"female\",\"383\":\"male\",\"384\":\"male\",\"385\":\"male\",\"386\":\"male\",\"387\":\"female\",\"388\":\"female\",\"389\":\"male\",\"390\":\"male\",\"391\":\"male\",\"392\":\"female\",\"393\":\"male\",\"394\":\"male\",\"395\":\"female\",\"396\":\"female\",\"397\":\"male\",\"398\":\"male\",\"399\":\"male\",\"400\":\"female\",\"401\":\"female\",\"402\":\"female\",\"403\":\"male\",\"404\":\"male\",\"405\":\"male\",\"406\":\"male\",\"407\":\"female\",\"408\":\"male\",\"409\":\"male\",\"410\":\"male\",\"411\":\"female\",\"412\":\"male\",\"413\":\"male\",\"414\":\"male\",\"415\":\"female\",\"416\":\"male\",\"417\":\"male\",\"418\":\"male\",\"419\":\"male\",\"420\":\"male\",\"421\":\"male\",\"422\":\"male\",\"423\":\"male\",\"424\":\"male\",\"425\":\"male\",\"426\":\"male\",\"427\":\"male\",\"428\":\"female\",\"429\":\"male\",\"430\":\"female\",\"431\":\"male\",\"432\":\"male\",\"433\":\"male\",\"434\":\"female\",\"435\":\"male\",\"436\":\"female\",\"437\":\"female\",\"438\":\"female\",\"439\":\"male\",\"440\":\"female\",\"441\":\"female\",\"442\":\"male\",\"443\":\"male\",\"444\":\"male\",\"445\":\"female\",\"446\":\"female\",\"447\":\"male\",\"448\":\"male\",\"449\":\"female\",\"450\":\"male\",\"451\":\"male\",\"452\":\"female\",\"453\":\"male\",\"454\":\"male\",\"455\":\"male\",\"456\":\"female\",\"457\":\"male\",\"458\":\"female\",\"459\":\"male\",\"460\":\"female\",\"461\":\"male\",\"462\":\"male\",\"463\":\"male\",\"464\":\"male\",\"465\":\"female\",\"466\":\"male\",\"467\":\"female\",\"468\":\"female\",\"469\":\"female\",\"470\":\"male\",\"471\":\"female\",\"472\":\"male\",\"473\":\"male\",\"474\":\"male\",\"475\":\"female\",\"476\":\"male\",\"477\":\"male\",\"478\":\"female\",\"479\":\"female\",\"480\":\"male\",\"481\":\"female\",\"482\":\"female\",\"483\":\"female\",\"484\":\"female\",\"485\":\"male\",\"486\":\"male\",\"487\":\"male\",\"488\":\"male\",\"489\":\"female\",\"490\":\"female\",\"491\":\"male\",\"492\":\"male\",\"493\":\"male\",\"494\":\"female\",\"495\":\"male\",\"496\":\"male\",\"497\":\"male\",\"498\":\"male\",\"499\":\"male\",\"500\":\"male\",\"501\":\"female\",\"502\":\"female\",\"503\":\"male\",\"504\":\"male\",\"505\":\"male\",\"506\":\"male\",\"507\":\"male\",\"508\":\"male\",\"509\":\"male\",\"510\":\"male\",\"511\":\"male\",\"512\":\"male\",\"513\":\"female\",\"514\":\"male\",\"515\":\"male\",\"516\":\"male\",\"517\":\"male\",\"518\":\"male\",\"519\":\"male\",\"520\":\"male\",\"521\":\"female\",\"522\":\"male\",\"523\":\"male\",\"524\":\"male\",\"525\":\"male\",\"526\":\"male\",\"527\":\"male\",\"528\":\"male\",\"529\":\"female\",\"530\":\"male\",\"531\":\"male\",\"532\":\"male\",\"533\":\"female\",\"534\":\"female\",\"535\":\"male\",\"536\":\"female\",\"537\":\"male\",\"538\":\"male\",\"539\":\"male\",\"540\":\"female\",\"541\":\"female\",\"542\":\"female\",\"543\":\"male\",\"544\":\"male\",\"545\":\"female\",\"546\":\"female\",\"547\":\"male\",\"548\":\"male\",\"549\":\"male\",\"550\":\"female\",\"551\":\"female\",\"552\":\"male\",\"553\":\"female\",\"554\":\"male\",\"555\":\"male\",\"556\":\"male\",\"557\":\"female\",\"558\":\"female\",\"559\":\"female\",\"560\":\"female\",\"561\":\"male\",\"562\":\"female\",\"563\":\"male\",\"564\":\"female\",\"565\":\"male\",\"566\":\"male\",\"567\":\"male\",\"568\":\"male\",\"569\":\"male\",\"570\":\"female\",\"571\":\"male\",\"572\":\"female\",\"573\":\"female\",\"574\":\"male\",\"575\":\"female\",\"576\":\"male\",\"577\":\"female\",\"578\":\"male\",\"579\":\"male\",\"580\":\"female\",\"581\":\"male\",\"582\":\"female\",\"583\":\"female\",\"584\":\"female\",\"585\":\"male\",\"586\":\"female\",\"587\":\"male\",\"588\":\"female\",\"589\":\"female\",\"590\":\"female\",\"591\":\"female\",\"592\":\"male\",\"593\":\"female\",\"594\":\"male\",\"595\":\"male\",\"596\":\"male\",\"597\":\"male\",\"598\":\"female\",\"599\":\"female\",\"600\":\"male\",\"601\":\"male\",\"602\":\"male\",\"603\":\"female\",\"604\":\"female\",\"605\":\"male\",\"606\":\"male\",\"607\":\"female\",\"608\":\"male\",\"609\":\"male\",\"610\":\"female\",\"611\":\"male\",\"612\":\"female\",\"613\":\"male\",\"614\":\"male\",\"615\":\"male\",\"616\":\"male\",\"617\":\"male\",\"618\":\"male\",\"619\":\"male\",\"620\":\"male\",\"621\":\"female\",\"622\":\"male\",\"623\":\"female\",\"624\":\"female\",\"625\":\"female\",\"626\":\"female\",\"627\":\"female\",\"628\":\"female\",\"629\":\"male\",\"630\":\"male\",\"631\":\"male\",\"632\":\"female\",\"633\":\"male\",\"634\":\"male\",\"635\":\"male\",\"636\":\"female\",\"637\":\"male\",\"638\":\"male\",\"639\":\"male\",\"640\":\"male\",\"641\":\"male\",\"642\":\"male\",\"643\":\"female\",\"644\":\"male\",\"645\":\"male\",\"646\":\"female\",\"647\":\"female\",\"648\":\"male\",\"649\":\"male\",\"650\":\"female\",\"651\":\"male\",\"652\":\"male\",\"653\":\"female\",\"654\":\"male\",\"655\":\"male\",\"656\":\"female\",\"657\":\"female\",\"658\":\"female\",\"659\":\"female\",\"660\":\"female\",\"661\":\"female\",\"662\":\"male\",\"663\":\"male\",\"664\":\"male\",\"665\":\"female\",\"666\":\"female\",\"667\":\"female\",\"668\":\"male\",\"669\":\"male\",\"670\":\"male\",\"671\":\"male\",\"672\":\"male\",\"673\":\"male\",\"674\":\"male\",\"675\":\"male\",\"676\":\"male\",\"677\":\"male\",\"678\":\"male\",\"679\":\"female\",\"680\":\"male\",\"681\":\"female\",\"682\":\"female\",\"683\":\"male\",\"684\":\"female\",\"685\":\"male\",\"686\":\"female\",\"687\":\"female\",\"688\":\"male\",\"689\":\"male\",\"690\":\"male\",\"691\":\"male\",\"692\":\"female\",\"693\":\"male\",\"694\":\"male\",\"695\":\"female\",\"696\":\"female\",\"697\":\"female\",\"698\":\"male\",\"699\":\"male\",\"700\":\"male\",\"701\":\"male\",\"702\":\"female\",\"703\":\"male\",\"704\":\"male\",\"705\":\"male\",\"706\":\"female\",\"707\":\"male\",\"708\":\"male\",\"709\":\"female\",\"710\":\"female\",\"711\":\"male\",\"712\":\"male\",\"713\":\"male\",\"714\":\"male\",\"715\":\"male\",\"716\":\"male\",\"717\":\"male\",\"718\":\"male\",\"719\":\"male\",\"720\":\"male\",\"721\":\"male\",\"722\":\"male\",\"723\":\"male\",\"724\":\"male\",\"725\":\"female\",\"726\":\"female\",\"727\":\"male\",\"728\":\"male\",\"729\":\"male\",\"730\":\"male\",\"731\":\"male\",\"732\":\"male\",\"733\":\"male\",\"734\":\"male\",\"735\":\"female\",\"736\":\"male\",\"737\":\"male\",\"738\":\"female\",\"739\":\"male\",\"740\":\"male\",\"741\":\"male\",\"742\":\"male\",\"743\":\"female\",\"744\":\"male\",\"745\":\"female\",\"746\":\"male\",\"747\":\"male\",\"748\":\"male\",\"749\":\"female\",\"750\":\"male\",\"751\":\"male\",\"752\":\"male\",\"753\":\"male\",\"754\":\"male\",\"755\":\"male\",\"756\":\"male\",\"757\":\"female\",\"758\":\"male\",\"759\":\"female\",\"760\":\"male\",\"761\":\"male\",\"762\":\"male\",\"763\":\"female\",\"764\":\"male\",\"765\":\"female\",\"766\":\"male\",\"767\":\"male\",\"768\":\"male\",\"769\":\"male\",\"770\":\"male\",\"771\":\"female\",\"772\":\"male\",\"773\":\"male\",\"774\":\"male\",\"775\":\"male\",\"776\":\"male\",\"777\":\"male\",\"778\":\"female\",\"779\":\"female\",\"780\":\"female\",\"781\":\"male\",\"782\":\"male\",\"783\":\"male\",\"784\":\"male\",\"785\":\"female\",\"786\":\"male\",\"787\":\"male\",\"788\":\"male\",\"789\":\"male\",\"790\":\"male\",\"791\":\"male\",\"792\":\"male\",\"793\":\"male\",\"794\":\"female\",\"795\":\"male\",\"796\":\"male\",\"797\":\"male\",\"798\":\"male\",\"799\":\"male\",\"800\":\"female\",\"801\":\"male\",\"802\":\"male\",\"803\":\"male\",\"804\":\"male\",\"805\":\"male\",\"806\":\"female\",\"807\":\"female\",\"808\":\"male\",\"809\":\"male\",\"810\":\"male\",\"811\":\"female\",\"812\":\"male\",\"813\":\"male\",\"814\":\"male\",\"815\":\"male\",\"816\":\"male\",\"817\":\"male\",\"818\":\"female\",\"819\":\"female\",\"820\":\"male\",\"821\":\"male\",\"822\":\"male\",\"823\":\"female\",\"824\":\"male\",\"825\":\"male\",\"826\":\"male\",\"827\":\"male\",\"828\":\"female\",\"829\":\"female\",\"830\":\"male\",\"831\":\"male\",\"832\":\"female\",\"833\":\"male\",\"834\":\"male\",\"835\":\"male\",\"836\":\"male\",\"837\":\"male\",\"838\":\"male\",\"839\":\"male\",\"840\":\"female\",\"841\":\"female\",\"842\":\"male\",\"843\":\"male\",\"844\":\"male\",\"845\":\"female\",\"846\":\"male\",\"847\":\"male\",\"848\":\"male\",\"849\":\"male\",\"850\":\"male\",\"851\":\"female\",\"852\":\"female\",\"853\":\"male\",\"854\":\"male\",\"855\":\"male\",\"856\":\"female\",\"857\":\"male\",\"858\":\"male\",\"859\":\"female\",\"860\":\"female\",\"861\":\"female\",\"862\":\"female\",\"863\":\"male\",\"864\":\"female\",\"865\":\"female\",\"866\":\"female\",\"867\":\"female\",\"868\":\"male\",\"869\":\"male\",\"870\":\"female\",\"871\":\"male\",\"872\":\"female\",\"873\":\"male\",\"874\":\"male\",\"875\":\"male\",\"876\":\"male\",\"877\":\"female\",\"878\":\"female\",\"879\":\"male\",\"880\":\"male\",\"881\":\"male\",\"882\":\"male\",\"883\":\"male\",\"884\":\"male\",\"885\":\"male\",\"886\":\"female\",\"887\":\"male\",\"888\":\"male\",\"889\":\"male\",\"890\":\"male\",\"891\":\"male\",\"892\":\"male\",\"893\":\"male\",\"894\":\"male\",\"895\":\"female\",\"896\":\"male\",\"897\":\"male\",\"898\":\"male\",\"899\":\"female\",\"900\":\"male\",\"901\":\"female\",\"902\":\"male\",\"903\":\"female\",\"904\":\"male\",\"905\":\"male\",\"906\":\"male\",\"907\":\"female\",\"908\":\"female\",\"909\":\"male\",\"910\":\"male\",\"911\":\"male\",\"912\":\"male\",\"913\":\"male\",\"914\":\"male\",\"915\":\"male\",\"916\":\"female\",\"917\":\"male\",\"918\":\"male\",\"919\":\"male\",\"920\":\"male\",\"921\":\"male\",\"922\":\"female\",\"923\":\"female\",\"924\":\"male\",\"925\":\"male\",\"926\":\"male\",\"927\":\"male\",\"928\":\"female\",\"929\":\"male\",\"930\":\"male\",\"931\":\"male\",\"932\":\"female\",\"933\":\"male\",\"934\":\"female\",\"935\":\"male\",\"936\":\"female\",\"937\":\"female\",\"938\":\"male\",\"939\":\"female\",\"940\":\"male\",\"941\":\"male\",\"942\":\"male\",\"943\":\"female\",\"944\":\"male\",\"945\":\"male\",\"946\":\"male\",\"947\":\"female\",\"948\":\"male\",\"949\":\"male\",\"950\":\"male\",\"951\":\"male\",\"952\":\"male\",\"953\":\"male\",\"954\":\"male\",\"955\":\"female\",\"956\":\"female\",\"957\":\"female\",\"958\":\"female\",\"959\":\"male\",\"960\":\"male\",\"961\":\"female\",\"962\":\"male\",\"963\":\"male\",\"964\":\"male\",\"965\":\"male\",\"966\":\"female\",\"967\":\"female\",\"968\":\"male\",\"969\":\"female\",\"970\":\"male\",\"971\":\"male\",\"972\":\"male\",\"973\":\"male\",\"974\":\"male\",\"975\":\"female\",\"976\":\"male\",\"977\":\"male\",\"978\":\"male\",\"979\":\"male\",\"980\":\"female\",\"981\":\"male\",\"982\":\"male\",\"983\":\"male\",\"984\":\"female\",\"985\":\"male\",\"986\":\"male\",\"987\":\"female\",\"988\":\"male\",\"989\":\"male\",\"990\":\"male\",\"991\":\"male\",\"992\":\"female\",\"993\":\"female\",\"994\":\"male\",\"995\":\"male\",\"996\":\"male\",\"997\":\"female\",\"998\":\"male\",\"999\":\"female\",\"1000\":\"male\",\"1001\":\"female\",\"1002\":\"female\",\"1003\":\"male\",\"1004\":\"female\",\"1005\":\"male\",\"1006\":\"female\",\"1007\":\"female\",\"1008\":\"female\",\"1009\":\"male\",\"1010\":\"male\",\"1011\":\"female\",\"1012\":\"female\",\"1013\":\"female\",\"1014\":\"female\",\"1015\":\"male\",\"1016\":\"male\",\"1017\":\"male\",\"1018\":\"male\",\"1019\":\"male\",\"1020\":\"male\",\"1021\":\"male\",\"1022\":\"male\",\"1023\":\"female\",\"1024\":\"male\",\"1025\":\"male\",\"1026\":\"female\",\"1027\":\"male\",\"1028\":\"female\",\"1029\":\"male\",\"1030\":\"male\",\"1031\":\"male\",\"1032\":\"male\",\"1033\":\"male\",\"1034\":\"male\",\"1035\":\"male\",\"1036\":\"female\",\"1037\":\"female\",\"1038\":\"male\",\"1039\":\"female\",\"1040\":\"female\",\"1041\":\"male\",\"1042\":\"female\",\"1043\":\"female\",\"1044\":\"female\",\"1045\":\"male\",\"1046\":\"male\",\"1047\":\"female\",\"1048\":\"female\",\"1049\":\"male\",\"1050\":\"female\",\"1051\":\"male\",\"1052\":\"male\",\"1053\":\"male\",\"1054\":\"female\",\"1055\":\"male\",\"1056\":\"male\",\"1057\":\"female\",\"1058\":\"female\",\"1059\":\"male\",\"1060\":\"female\",\"1061\":\"female\",\"1062\":\"male\",\"1063\":\"male\",\"1064\":\"male\",\"1065\":\"male\",\"1066\":\"male\",\"1067\":\"female\",\"1068\":\"male\",\"1069\":\"male\",\"1070\":\"male\",\"1071\":\"female\",\"1072\":\"male\",\"1073\":\"male\",\"1074\":\"male\",\"1075\":\"male\",\"1076\":\"female\",\"1077\":\"female\",\"1078\":\"female\",\"1079\":\"female\",\"1080\":\"male\",\"1081\":\"female\",\"1082\":\"male\",\"1083\":\"male\",\"1084\":\"male\",\"1085\":\"male\",\"1086\":\"female\",\"1087\":\"male\",\"1088\":\"male\",\"1089\":\"male\",\"1090\":\"female\",\"1091\":\"female\",\"1092\":\"male\",\"1093\":\"male\",\"1094\":\"female\",\"1095\":\"female\",\"1096\":\"male\",\"1097\":\"male\",\"1098\":\"female\",\"1099\":\"female\",\"1100\":\"female\",\"1101\":\"male\",\"1102\":\"male\",\"1103\":\"male\",\"1104\":\"male\",\"1105\":\"male\",\"1106\":\"female\",\"1107\":\"male\",\"1108\":\"male\",\"1109\":\"male\",\"1110\":\"male\",\"1111\":\"male\",\"1112\":\"female\",\"1113\":\"female\",\"1114\":\"male\",\"1115\":\"male\",\"1116\":\"male\",\"1117\":\"male\",\"1118\":\"male\",\"1119\":\"male\",\"1120\":\"male\",\"1121\":\"male\",\"1122\":\"female\",\"1123\":\"female\",\"1124\":\"female\",\"1125\":\"male\",\"1126\":\"female\",\"1127\":\"male\",\"1128\":\"male\",\"1129\":\"male\",\"1130\":\"female\",\"1131\":\"male\",\"1132\":\"male\",\"1133\":\"male\",\"1134\":\"male\",\"1135\":\"male\",\"1136\":\"female\",\"1137\":\"male\",\"1138\":\"male\",\"1139\":\"male\",\"1140\":\"male\",\"1141\":\"male\",\"1142\":\"male\",\"1143\":\"male\",\"1144\":\"male\",\"1145\":\"male\",\"1146\":\"female\",\"1147\":\"female\",\"1148\":\"male\",\"1149\":\"female\",\"1150\":\"male\",\"1151\":\"female\",\"1152\":\"male\",\"1153\":\"female\",\"1154\":\"male\",\"1155\":\"male\",\"1156\":\"female\",\"1157\":\"male\",\"1158\":\"female\",\"1159\":\"female\",\"1160\":\"male\",\"1161\":\"male\",\"1162\":\"male\",\"1163\":\"male\",\"1164\":\"male\",\"1165\":\"male\",\"1166\":\"male\",\"1167\":\"male\",\"1168\":\"male\",\"1169\":\"male\",\"1170\":\"male\",\"1171\":\"male\",\"1172\":\"female\",\"1173\":\"female\",\"1174\":\"female\",\"1175\":\"female\",\"1176\":\"male\",\"1177\":\"male\",\"1178\":\"male\",\"1179\":\"male\",\"1180\":\"female\",\"1181\":\"male\",\"1182\":\"female\",\"1183\":\"male\",\"1184\":\"male\",\"1185\":\"male\",\"1186\":\"male\",\"1187\":\"female\",\"1188\":\"female\",\"1189\":\"female\",\"1190\":\"male\",\"1191\":\"male\",\"1192\":\"male\",\"1193\":\"male\",\"1194\":\"male\",\"1195\":\"male\",\"1196\":\"male\",\"1197\":\"male\",\"1198\":\"female\",\"1199\":\"male\",\"1200\":\"male\",\"1201\":\"male\",\"1202\":\"male\",\"1203\":\"male\",\"1204\":\"male\",\"1205\":\"female\",\"1206\":\"male\",\"1207\":\"male\",\"1208\":\"female\",\"1209\":\"female\",\"1210\":\"male\",\"1211\":\"female\",\"1212\":\"male\",\"1213\":\"male\",\"1214\":\"male\",\"1215\":\"male\",\"1216\":\"female\",\"1217\":\"male\",\"1218\":\"male\",\"1219\":\"male\",\"1220\":\"male\",\"1221\":\"male\",\"1222\":\"male\",\"1223\":\"female\",\"1224\":\"male\",\"1225\":\"male\",\"1226\":\"male\",\"1227\":\"female\",\"1228\":\"male\",\"1229\":\"male\",\"1230\":\"female\",\"1231\":\"female\",\"1232\":\"male\",\"1233\":\"male\",\"1234\":\"male\",\"1235\":\"male\",\"1236\":\"male\",\"1237\":\"male\",\"1238\":\"male\",\"1239\":\"male\",\"1240\":\"male\",\"1241\":\"male\",\"1242\":\"male\",\"1243\":\"male\",\"1244\":\"female\",\"1245\":\"male\",\"1246\":\"male\",\"1247\":\"female\",\"1248\":\"male\",\"1249\":\"male\",\"1250\":\"male\",\"1251\":\"male\",\"1252\":\"male\",\"1253\":\"male\",\"1254\":\"male\",\"1255\":\"male\",\"1256\":\"male\",\"1257\":\"female\",\"1258\":\"female\",\"1259\":\"male\",\"1260\":\"female\",\"1261\":\"female\",\"1262\":\"male\",\"1263\":\"male\",\"1264\":\"male\",\"1265\":\"female\",\"1266\":\"male\",\"1267\":\"female\",\"1268\":\"male\",\"1269\":\"male\",\"1270\":\"male\",\"1271\":\"male\",\"1272\":\"male\",\"1273\":\"female\",\"1274\":\"male\",\"1275\":\"male\",\"1276\":\"female\",\"1277\":\"male\",\"1278\":\"male\",\"1279\":\"female\",\"1280\":\"male\",\"1281\":\"male\",\"1282\":\"male\",\"1283\":\"male\",\"1284\":\"male\",\"1285\":\"male\",\"1286\":\"female\",\"1287\":\"male\",\"1288\":\"male\",\"1289\":\"male\",\"1290\":\"female\",\"1291\":\"male\",\"1292\":\"male\",\"1293\":\"male\",\"1294\":\"male\",\"1295\":\"male\",\"1296\":\"male\",\"1297\":\"male\",\"1298\":\"male\",\"1299\":\"male\",\"1300\":\"female\",\"1301\":\"male\",\"1302\":\"male\",\"1303\":\"male\",\"1304\":\"female\",\"1305\":\"female\",\"1306\":\"male\",\"1307\":\"male\",\"1308\":\"male\"}'"
     },
     "execution_count": 73,
     "metadata": {},
     "output_type": "execute_result"
    }
   ],
   "source": [
    "data[\"sex\"].to_json()"
   ],
   "metadata": {
    "collapsed": false,
    "pycharm": {
     "name": "#%%\n"
    }
   }
  },
  {
   "cell_type": "code",
   "execution_count": 74,
   "outputs": [],
   "source": [
    "dummy_sex = pd.get_dummies(data[\"sex\"], prefix=\"sex\")"
   ],
   "metadata": {
    "collapsed": false,
    "pycharm": {
     "name": "#%%\n"
    }
   }
  },
  {
   "cell_type": "code",
   "source": [
    "dummy_sex.head()"
   ],
   "metadata": {
    "collapsed": false,
    "pycharm": {
     "name": "#%%\n"
    }
   },
   "execution_count": 78,
   "outputs": [
    {
     "data": {
      "text/plain": "   sex_female  sex_male\n0  1           0       \n1  0           1       \n2  1           0       \n3  0           1       \n4  1           0       ",
      "text/html": "<div>\n<style scoped>\n    .dataframe tbody tr th:only-of-type {\n        vertical-align: middle;\n    }\n\n    .dataframe tbody tr th {\n        vertical-align: top;\n    }\n\n    .dataframe thead th {\n        text-align: right;\n    }\n</style>\n<table border=\"1\" class=\"dataframe\">\n  <thead>\n    <tr style=\"text-align: right;\">\n      <th></th>\n      <th>sex_female</th>\n      <th>sex_male</th>\n    </tr>\n  </thead>\n  <tbody>\n    <tr>\n      <th>0</th>\n      <td>1</td>\n      <td>0</td>\n    </tr>\n    <tr>\n      <th>1</th>\n      <td>0</td>\n      <td>1</td>\n    </tr>\n    <tr>\n      <th>2</th>\n      <td>1</td>\n      <td>0</td>\n    </tr>\n    <tr>\n      <th>3</th>\n      <td>0</td>\n      <td>1</td>\n    </tr>\n    <tr>\n      <th>4</th>\n      <td>1</td>\n      <td>0</td>\n    </tr>\n  </tbody>\n</table>\n</div>"
     },
     "execution_count": 78,
     "metadata": {},
     "output_type": "execute_result"
    }
   ]
  },
  {
   "cell_type": "code",
   "execution_count": 79,
   "outputs": [
    {
     "data": {
      "text/plain": "['pclass',\n 'survived',\n 'name',\n 'sex',\n 'age',\n 'sibsp',\n 'parch',\n 'ticket',\n 'fare',\n 'cabin',\n 'embarked',\n 'boat',\n 'body',\n 'home.dest']"
     },
     "execution_count": 79,
     "metadata": {},
     "output_type": "execute_result"
    }
   ],
   "source": [
    "column_name = data.columns.values.tolist()\n",
    "column_name"
   ],
   "metadata": {
    "collapsed": false,
    "pycharm": {
     "name": "#%%\n"
    }
   }
  },
  {
   "cell_type": "code",
   "execution_count": 82,
   "outputs": [
    {
     "ename": "KeyError",
     "evalue": "\"['sex'] not found in axis\"",
     "output_type": "error",
     "traceback": [
      "\u001B[0;31m---------------------------------------------------------------------------\u001B[0m",
      "\u001B[0;31mKeyError\u001B[0m                                  Traceback (most recent call last)",
      "\u001B[0;32m/tmp/ipykernel_74/2713733911.py\u001B[0m in \u001B[0;36m<module>\u001B[0;34m\u001B[0m\n\u001B[0;32m----> 1\u001B[0;31m \u001B[0mdata\u001B[0m \u001B[0;34m=\u001B[0m \u001B[0mdata\u001B[0m\u001B[0;34m.\u001B[0m\u001B[0mdrop\u001B[0m\u001B[0;34m(\u001B[0m\u001B[0;34m[\u001B[0m\u001B[0;34m\"sex\"\u001B[0m\u001B[0;34m]\u001B[0m\u001B[0;34m,\u001B[0m \u001B[0maxis\u001B[0m \u001B[0;34m=\u001B[0m \u001B[0;36m1\u001B[0m\u001B[0;34m)\u001B[0m\u001B[0;34m\u001B[0m\u001B[0;34m\u001B[0m\u001B[0m\n\u001B[0m",
      "\u001B[0;32m/opt/conda/lib/python3.9/site-packages/pandas/util/_decorators.py\u001B[0m in \u001B[0;36mwrapper\u001B[0;34m(*args, **kwargs)\u001B[0m\n\u001B[1;32m    309\u001B[0m                     \u001B[0mstacklevel\u001B[0m\u001B[0;34m=\u001B[0m\u001B[0mstacklevel\u001B[0m\u001B[0;34m,\u001B[0m\u001B[0;34m\u001B[0m\u001B[0;34m\u001B[0m\u001B[0m\n\u001B[1;32m    310\u001B[0m                 )\n\u001B[0;32m--> 311\u001B[0;31m             \u001B[0;32mreturn\u001B[0m \u001B[0mfunc\u001B[0m\u001B[0;34m(\u001B[0m\u001B[0;34m*\u001B[0m\u001B[0margs\u001B[0m\u001B[0;34m,\u001B[0m \u001B[0;34m**\u001B[0m\u001B[0mkwargs\u001B[0m\u001B[0;34m)\u001B[0m\u001B[0;34m\u001B[0m\u001B[0;34m\u001B[0m\u001B[0m\n\u001B[0m\u001B[1;32m    312\u001B[0m \u001B[0;34m\u001B[0m\u001B[0m\n\u001B[1;32m    313\u001B[0m         \u001B[0;32mreturn\u001B[0m \u001B[0mwrapper\u001B[0m\u001B[0;34m\u001B[0m\u001B[0;34m\u001B[0m\u001B[0m\n",
      "\u001B[0;32m/opt/conda/lib/python3.9/site-packages/pandas/core/frame.py\u001B[0m in \u001B[0;36mdrop\u001B[0;34m(self, labels, axis, index, columns, level, inplace, errors)\u001B[0m\n\u001B[1;32m   4904\u001B[0m                 \u001B[0mweight\u001B[0m  \u001B[0;36m1.0\u001B[0m     \u001B[0;36m0.8\u001B[0m\u001B[0;34m\u001B[0m\u001B[0;34m\u001B[0m\u001B[0m\n\u001B[1;32m   4905\u001B[0m         \"\"\"\n\u001B[0;32m-> 4906\u001B[0;31m         return super().drop(\n\u001B[0m\u001B[1;32m   4907\u001B[0m             \u001B[0mlabels\u001B[0m\u001B[0;34m=\u001B[0m\u001B[0mlabels\u001B[0m\u001B[0;34m,\u001B[0m\u001B[0;34m\u001B[0m\u001B[0;34m\u001B[0m\u001B[0m\n\u001B[1;32m   4908\u001B[0m             \u001B[0maxis\u001B[0m\u001B[0;34m=\u001B[0m\u001B[0maxis\u001B[0m\u001B[0;34m,\u001B[0m\u001B[0;34m\u001B[0m\u001B[0;34m\u001B[0m\u001B[0m\n",
      "\u001B[0;32m/opt/conda/lib/python3.9/site-packages/pandas/core/generic.py\u001B[0m in \u001B[0;36mdrop\u001B[0;34m(self, labels, axis, index, columns, level, inplace, errors)\u001B[0m\n\u001B[1;32m   4148\u001B[0m         \u001B[0;32mfor\u001B[0m \u001B[0maxis\u001B[0m\u001B[0;34m,\u001B[0m \u001B[0mlabels\u001B[0m \u001B[0;32min\u001B[0m \u001B[0maxes\u001B[0m\u001B[0;34m.\u001B[0m\u001B[0mitems\u001B[0m\u001B[0;34m(\u001B[0m\u001B[0;34m)\u001B[0m\u001B[0;34m:\u001B[0m\u001B[0;34m\u001B[0m\u001B[0;34m\u001B[0m\u001B[0m\n\u001B[1;32m   4149\u001B[0m             \u001B[0;32mif\u001B[0m \u001B[0mlabels\u001B[0m \u001B[0;32mis\u001B[0m \u001B[0;32mnot\u001B[0m \u001B[0;32mNone\u001B[0m\u001B[0;34m:\u001B[0m\u001B[0;34m\u001B[0m\u001B[0;34m\u001B[0m\u001B[0m\n\u001B[0;32m-> 4150\u001B[0;31m                 \u001B[0mobj\u001B[0m \u001B[0;34m=\u001B[0m \u001B[0mobj\u001B[0m\u001B[0;34m.\u001B[0m\u001B[0m_drop_axis\u001B[0m\u001B[0;34m(\u001B[0m\u001B[0mlabels\u001B[0m\u001B[0;34m,\u001B[0m \u001B[0maxis\u001B[0m\u001B[0;34m,\u001B[0m \u001B[0mlevel\u001B[0m\u001B[0;34m=\u001B[0m\u001B[0mlevel\u001B[0m\u001B[0;34m,\u001B[0m \u001B[0merrors\u001B[0m\u001B[0;34m=\u001B[0m\u001B[0merrors\u001B[0m\u001B[0;34m)\u001B[0m\u001B[0;34m\u001B[0m\u001B[0;34m\u001B[0m\u001B[0m\n\u001B[0m\u001B[1;32m   4151\u001B[0m \u001B[0;34m\u001B[0m\u001B[0m\n\u001B[1;32m   4152\u001B[0m         \u001B[0;32mif\u001B[0m \u001B[0minplace\u001B[0m\u001B[0;34m:\u001B[0m\u001B[0;34m\u001B[0m\u001B[0;34m\u001B[0m\u001B[0m\n",
      "\u001B[0;32m/opt/conda/lib/python3.9/site-packages/pandas/core/generic.py\u001B[0m in \u001B[0;36m_drop_axis\u001B[0;34m(self, labels, axis, level, errors)\u001B[0m\n\u001B[1;32m   4183\u001B[0m                 \u001B[0mnew_axis\u001B[0m \u001B[0;34m=\u001B[0m \u001B[0maxis\u001B[0m\u001B[0;34m.\u001B[0m\u001B[0mdrop\u001B[0m\u001B[0;34m(\u001B[0m\u001B[0mlabels\u001B[0m\u001B[0;34m,\u001B[0m \u001B[0mlevel\u001B[0m\u001B[0;34m=\u001B[0m\u001B[0mlevel\u001B[0m\u001B[0;34m,\u001B[0m \u001B[0merrors\u001B[0m\u001B[0;34m=\u001B[0m\u001B[0merrors\u001B[0m\u001B[0;34m)\u001B[0m\u001B[0;34m\u001B[0m\u001B[0;34m\u001B[0m\u001B[0m\n\u001B[1;32m   4184\u001B[0m             \u001B[0;32melse\u001B[0m\u001B[0;34m:\u001B[0m\u001B[0;34m\u001B[0m\u001B[0;34m\u001B[0m\u001B[0m\n\u001B[0;32m-> 4185\u001B[0;31m                 \u001B[0mnew_axis\u001B[0m \u001B[0;34m=\u001B[0m \u001B[0maxis\u001B[0m\u001B[0;34m.\u001B[0m\u001B[0mdrop\u001B[0m\u001B[0;34m(\u001B[0m\u001B[0mlabels\u001B[0m\u001B[0;34m,\u001B[0m \u001B[0merrors\u001B[0m\u001B[0;34m=\u001B[0m\u001B[0merrors\u001B[0m\u001B[0;34m)\u001B[0m\u001B[0;34m\u001B[0m\u001B[0;34m\u001B[0m\u001B[0m\n\u001B[0m\u001B[1;32m   4186\u001B[0m             \u001B[0mresult\u001B[0m \u001B[0;34m=\u001B[0m \u001B[0mself\u001B[0m\u001B[0;34m.\u001B[0m\u001B[0mreindex\u001B[0m\u001B[0;34m(\u001B[0m\u001B[0;34m**\u001B[0m\u001B[0;34m{\u001B[0m\u001B[0maxis_name\u001B[0m\u001B[0;34m:\u001B[0m \u001B[0mnew_axis\u001B[0m\u001B[0;34m}\u001B[0m\u001B[0;34m)\u001B[0m\u001B[0;34m\u001B[0m\u001B[0;34m\u001B[0m\u001B[0m\n\u001B[1;32m   4187\u001B[0m \u001B[0;34m\u001B[0m\u001B[0m\n",
      "\u001B[0;32m/opt/conda/lib/python3.9/site-packages/pandas/core/indexes/base.py\u001B[0m in \u001B[0;36mdrop\u001B[0;34m(self, labels, errors)\u001B[0m\n\u001B[1;32m   6015\u001B[0m         \u001B[0;32mif\u001B[0m \u001B[0mmask\u001B[0m\u001B[0;34m.\u001B[0m\u001B[0many\u001B[0m\u001B[0;34m(\u001B[0m\u001B[0;34m)\u001B[0m\u001B[0;34m:\u001B[0m\u001B[0;34m\u001B[0m\u001B[0;34m\u001B[0m\u001B[0m\n\u001B[1;32m   6016\u001B[0m             \u001B[0;32mif\u001B[0m \u001B[0merrors\u001B[0m \u001B[0;34m!=\u001B[0m \u001B[0;34m\"ignore\"\u001B[0m\u001B[0;34m:\u001B[0m\u001B[0;34m\u001B[0m\u001B[0;34m\u001B[0m\u001B[0m\n\u001B[0;32m-> 6017\u001B[0;31m                 \u001B[0;32mraise\u001B[0m \u001B[0mKeyError\u001B[0m\u001B[0;34m(\u001B[0m\u001B[0;34mf\"{labels[mask]} not found in axis\"\u001B[0m\u001B[0;34m)\u001B[0m\u001B[0;34m\u001B[0m\u001B[0;34m\u001B[0m\u001B[0m\n\u001B[0m\u001B[1;32m   6018\u001B[0m             \u001B[0mindexer\u001B[0m \u001B[0;34m=\u001B[0m \u001B[0mindexer\u001B[0m\u001B[0;34m[\u001B[0m\u001B[0;34m~\u001B[0m\u001B[0mmask\u001B[0m\u001B[0;34m]\u001B[0m\u001B[0;34m\u001B[0m\u001B[0;34m\u001B[0m\u001B[0m\n\u001B[1;32m   6019\u001B[0m         \u001B[0;32mreturn\u001B[0m \u001B[0mself\u001B[0m\u001B[0;34m.\u001B[0m\u001B[0mdelete\u001B[0m\u001B[0;34m(\u001B[0m\u001B[0mindexer\u001B[0m\u001B[0;34m)\u001B[0m\u001B[0;34m\u001B[0m\u001B[0;34m\u001B[0m\u001B[0m\n",
      "\u001B[0;31mKeyError\u001B[0m: \"['sex'] not found in axis\""
     ]
    }
   ],
   "source": [
    "data = data.drop([\"sex\"], axis = 1)"
   ],
   "metadata": {
    "collapsed": false,
    "pycharm": {
     "name": "#%%\n"
    }
   }
  },
  {
   "cell_type": "code",
   "execution_count": 84,
   "outputs": [],
   "source": [
    "data = pd.concat([data, dummy_sex], axis = 1)"
   ],
   "metadata": {
    "collapsed": false,
    "pycharm": {
     "name": "#%%\n"
    }
   }
  },
  {
   "cell_type": "code",
   "execution_count": 85,
   "outputs": [],
   "source": [
    "def createDummies(df, var_name):\n",
    "    dummy = pd.get_dummies(df[var_name], prefix = var_name)\n",
    "    df = df.drop(var_name, axis = 1)\n",
    "    df = pd.concat([df, dummy], axis = 1)\n",
    "    return df"
   ],
   "metadata": {
    "collapsed": false,
    "pycharm": {
     "name": "#%%\n"
    }
   }
  },
  {
   "cell_type": "code",
   "execution_count": 86,
   "outputs": [
    {
     "data": {
      "text/plain": "      pclass  survived                                             name      age  sibsp  parch  ticket      fare    cabin embarked boat   body                        home.dest  sex_female  sex_male\n0     1       1         Allen, Miss. Elisabeth Walton                    29.0000  0      0      24160   211.3375  B5       S        2    0.0    St Louis, MO                     1           0       \n1     1       1         Allison, Master. Hudson Trevor                   0.9167   1      2      113781  151.5500  C22 C26  S        11   0.0    Montreal, PQ / Chesterville, ON  0           1       \n2     1       0         Allison, Miss. Helen Loraine                     2.0000   1      2      113781  151.5500  C22 C26  S        NaN  0.0    Montreal, PQ / Chesterville, ON  1           0       \n3     1       0         Allison, Mr. Hudson Joshua Creighton             30.0000  1      2      113781  151.5500  C22 C26  S        NaN  135.0  Montreal, PQ / Chesterville, ON  0           1       \n4     1       0         Allison, Mrs. Hudson J C (Bessie Waldo Daniels)  25.0000  1      2      113781  151.5500  C22 C26  S        NaN  0.0    Montreal, PQ / Chesterville, ON  1           0       \n...  ..      ..                                                     ...      ... ..     ..         ...       ...      ... ..        ...  ...                                ... ..          ..       \n1304  3       0         Zabour, Miss. Hileni                             14.5000  1      0      2665    14.4542   NaN      C        NaN  328.0  Desconocido                      1           0       \n1305  3       0         Zabour, Miss. Thamine                           NaN       1      0      2665    14.4542   NaN      C        NaN  0.0    Desconocido                      1           0       \n1306  3       0         Zakarian, Mr. Mapriededer                        26.5000  0      0      2656    7.2250    NaN      C        NaN  304.0  Desconocido                      0           1       \n1307  3       0         Zakarian, Mr. Ortin                              27.0000  0      0      2670    7.2250    NaN      C        NaN  0.0    Desconocido                      0           1       \n1308  3       0         Zimmerman, Mr. Leo                               29.0000  0      0      315082  7.8750    NaN      S        NaN  0.0    Desconocido                      0           1       \n\n[1309 rows x 15 columns]",
      "text/html": "<div>\n<style scoped>\n    .dataframe tbody tr th:only-of-type {\n        vertical-align: middle;\n    }\n\n    .dataframe tbody tr th {\n        vertical-align: top;\n    }\n\n    .dataframe thead th {\n        text-align: right;\n    }\n</style>\n<table border=\"1\" class=\"dataframe\">\n  <thead>\n    <tr style=\"text-align: right;\">\n      <th></th>\n      <th>pclass</th>\n      <th>survived</th>\n      <th>name</th>\n      <th>age</th>\n      <th>sibsp</th>\n      <th>parch</th>\n      <th>ticket</th>\n      <th>fare</th>\n      <th>cabin</th>\n      <th>embarked</th>\n      <th>boat</th>\n      <th>body</th>\n      <th>home.dest</th>\n      <th>sex_female</th>\n      <th>sex_male</th>\n    </tr>\n  </thead>\n  <tbody>\n    <tr>\n      <th>0</th>\n      <td>1</td>\n      <td>1</td>\n      <td>Allen, Miss. Elisabeth Walton</td>\n      <td>29.0000</td>\n      <td>0</td>\n      <td>0</td>\n      <td>24160</td>\n      <td>211.3375</td>\n      <td>B5</td>\n      <td>S</td>\n      <td>2</td>\n      <td>0.0</td>\n      <td>St Louis, MO</td>\n      <td>1</td>\n      <td>0</td>\n    </tr>\n    <tr>\n      <th>1</th>\n      <td>1</td>\n      <td>1</td>\n      <td>Allison, Master. Hudson Trevor</td>\n      <td>0.9167</td>\n      <td>1</td>\n      <td>2</td>\n      <td>113781</td>\n      <td>151.5500</td>\n      <td>C22 C26</td>\n      <td>S</td>\n      <td>11</td>\n      <td>0.0</td>\n      <td>Montreal, PQ / Chesterville, ON</td>\n      <td>0</td>\n      <td>1</td>\n    </tr>\n    <tr>\n      <th>2</th>\n      <td>1</td>\n      <td>0</td>\n      <td>Allison, Miss. Helen Loraine</td>\n      <td>2.0000</td>\n      <td>1</td>\n      <td>2</td>\n      <td>113781</td>\n      <td>151.5500</td>\n      <td>C22 C26</td>\n      <td>S</td>\n      <td>NaN</td>\n      <td>0.0</td>\n      <td>Montreal, PQ / Chesterville, ON</td>\n      <td>1</td>\n      <td>0</td>\n    </tr>\n    <tr>\n      <th>3</th>\n      <td>1</td>\n      <td>0</td>\n      <td>Allison, Mr. Hudson Joshua Creighton</td>\n      <td>30.0000</td>\n      <td>1</td>\n      <td>2</td>\n      <td>113781</td>\n      <td>151.5500</td>\n      <td>C22 C26</td>\n      <td>S</td>\n      <td>NaN</td>\n      <td>135.0</td>\n      <td>Montreal, PQ / Chesterville, ON</td>\n      <td>0</td>\n      <td>1</td>\n    </tr>\n    <tr>\n      <th>4</th>\n      <td>1</td>\n      <td>0</td>\n      <td>Allison, Mrs. Hudson J C (Bessie Waldo Daniels)</td>\n      <td>25.0000</td>\n      <td>1</td>\n      <td>2</td>\n      <td>113781</td>\n      <td>151.5500</td>\n      <td>C22 C26</td>\n      <td>S</td>\n      <td>NaN</td>\n      <td>0.0</td>\n      <td>Montreal, PQ / Chesterville, ON</td>\n      <td>1</td>\n      <td>0</td>\n    </tr>\n    <tr>\n      <th>...</th>\n      <td>...</td>\n      <td>...</td>\n      <td>...</td>\n      <td>...</td>\n      <td>...</td>\n      <td>...</td>\n      <td>...</td>\n      <td>...</td>\n      <td>...</td>\n      <td>...</td>\n      <td>...</td>\n      <td>...</td>\n      <td>...</td>\n      <td>...</td>\n      <td>...</td>\n    </tr>\n    <tr>\n      <th>1304</th>\n      <td>3</td>\n      <td>0</td>\n      <td>Zabour, Miss. Hileni</td>\n      <td>14.5000</td>\n      <td>1</td>\n      <td>0</td>\n      <td>2665</td>\n      <td>14.4542</td>\n      <td>NaN</td>\n      <td>C</td>\n      <td>NaN</td>\n      <td>328.0</td>\n      <td>Desconocido</td>\n      <td>1</td>\n      <td>0</td>\n    </tr>\n    <tr>\n      <th>1305</th>\n      <td>3</td>\n      <td>0</td>\n      <td>Zabour, Miss. Thamine</td>\n      <td>NaN</td>\n      <td>1</td>\n      <td>0</td>\n      <td>2665</td>\n      <td>14.4542</td>\n      <td>NaN</td>\n      <td>C</td>\n      <td>NaN</td>\n      <td>0.0</td>\n      <td>Desconocido</td>\n      <td>1</td>\n      <td>0</td>\n    </tr>\n    <tr>\n      <th>1306</th>\n      <td>3</td>\n      <td>0</td>\n      <td>Zakarian, Mr. Mapriededer</td>\n      <td>26.5000</td>\n      <td>0</td>\n      <td>0</td>\n      <td>2656</td>\n      <td>7.2250</td>\n      <td>NaN</td>\n      <td>C</td>\n      <td>NaN</td>\n      <td>304.0</td>\n      <td>Desconocido</td>\n      <td>0</td>\n      <td>1</td>\n    </tr>\n    <tr>\n      <th>1307</th>\n      <td>3</td>\n      <td>0</td>\n      <td>Zakarian, Mr. Ortin</td>\n      <td>27.0000</td>\n      <td>0</td>\n      <td>0</td>\n      <td>2670</td>\n      <td>7.2250</td>\n      <td>NaN</td>\n      <td>C</td>\n      <td>NaN</td>\n      <td>0.0</td>\n      <td>Desconocido</td>\n      <td>0</td>\n      <td>1</td>\n    </tr>\n    <tr>\n      <th>1308</th>\n      <td>3</td>\n      <td>0</td>\n      <td>Zimmerman, Mr. Leo</td>\n      <td>29.0000</td>\n      <td>0</td>\n      <td>0</td>\n      <td>315082</td>\n      <td>7.8750</td>\n      <td>NaN</td>\n      <td>S</td>\n      <td>NaN</td>\n      <td>0.0</td>\n      <td>Desconocido</td>\n      <td>0</td>\n      <td>1</td>\n    </tr>\n  </tbody>\n</table>\n<p>1309 rows × 15 columns</p>\n</div>"
     },
     "execution_count": 86,
     "metadata": {},
     "output_type": "execute_result"
    }
   ],
   "source": [
    "createDummies(data3, \"sex\")"
   ],
   "metadata": {
    "collapsed": false,
    "pycharm": {
     "name": "#%%\n"
    }
   }
  },
  {
   "cell_type": "code",
   "execution_count": null,
   "outputs": [],
   "source": [],
   "metadata": {
    "collapsed": false,
    "pycharm": {
     "name": "#%%\n"
    }
   }
  }
 ],
 "metadata": {
  "kernelspec": {
   "display_name": "Python 3 (ipykernel)",
   "language": "python",
   "name": "python3"
  },
  "language_info": {
   "codemirror_mode": {
    "name": "ipython",
    "version": 3
   },
   "file_extension": ".py",
   "mimetype": "text/x-python",
   "name": "python",
   "nbconvert_exporter": "python",
   "pygments_lexer": "ipython3",
   "version": "3.9.7"
  }
 },
 "nbformat": 4,
 "nbformat_minor": 1
}