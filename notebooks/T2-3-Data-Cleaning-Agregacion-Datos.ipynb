{
 "cells": [
  {
   "cell_type": "markdown",
   "metadata": {
    "collapsed": true,
    "pycharm": {
     "name": "#%% md\n"
    }
   },
   "source": [
    "# Agregación de datos por categoría"
   ]
  },
  {
   "cell_type": "code",
   "execution_count": 1,
   "outputs": [],
   "source": [
    "import numpy as np\n",
    "import pandas as pd"
   ],
   "metadata": {
    "collapsed": false,
    "pycharm": {
     "name": "#%%\n"
    }
   }
  },
  {
   "cell_type": "code",
   "execution_count": 2,
   "outputs": [],
   "source": [
    "gender = ['Male', 'Female']\n",
    "income = ['Poor', 'Middle Class', 'Rich']"
   ],
   "metadata": {
    "collapsed": false,
    "pycharm": {
     "name": "#%%\n"
    }
   }
  },
  {
   "cell_type": "code",
   "execution_count": 3,
   "outputs": [],
   "source": [
    "n = 500\n",
    "\n",
    "gender_data = []\n",
    "income_data = []\n",
    "\n",
    "for i in range(0, 500):\n",
    "    gender_data.append(np.random.choice(gender))\n",
    "    income_data.append(np.random.choice(income))"
   ],
   "metadata": {
    "collapsed": false,
    "pycharm": {
     "name": "#%%\n"
    }
   }
  },
  {
   "cell_type": "code",
   "execution_count": 5,
   "outputs": [
    {
     "data": {
      "text/plain": "['Male',\n 'Female',\n 'Female',\n 'Male',\n 'Female',\n 'Female',\n 'Female',\n 'Female',\n 'Male']"
     },
     "execution_count": 5,
     "metadata": {},
     "output_type": "execute_result"
    }
   ],
   "source": [
    "gender_data[1:10]"
   ],
   "metadata": {
    "collapsed": false,
    "pycharm": {
     "name": "#%%\n"
    }
   }
  },
  {
   "cell_type": "code",
   "execution_count": 6,
   "outputs": [
    {
     "data": {
      "text/plain": "['Poor',\n 'Rich',\n 'Rich',\n 'Rich',\n 'Rich',\n 'Middle Class',\n 'Rich',\n 'Rich',\n 'Rich']"
     },
     "execution_count": 6,
     "metadata": {},
     "output_type": "execute_result"
    }
   ],
   "source": [
    "income_data[1:10]"
   ],
   "metadata": {
    "collapsed": false,
    "pycharm": {
     "name": "#%%\n"
    }
   }
  },
  {
   "cell_type": "code",
   "execution_count": 7,
   "outputs": [],
   "source": [
    "# N(m, s) -> m + s * z\n",
    "height = 160 + 30 * np.random.randn(n)\n",
    "weight = 65 + 25 * np.random.randn(n)\n",
    "age = 30 + 12 * np.random.randn(n)\n",
    "income = 18000 + 3500 * np.random.randn(n)"
   ],
   "metadata": {
    "collapsed": false,
    "pycharm": {
     "name": "#%%\n"
    }
   }
  },
  {
   "cell_type": "code",
   "execution_count": 8,
   "outputs": [],
   "source": [
    "data = pd.DataFrame(\n",
    "    {\n",
    "        'Gender': gender_data,\n",
    "        'Economic Status': income_data,\n",
    "        'Height': height,\n",
    "        'Weight': weight,\n",
    "        'Age': age,\n",
    "        'Income': income\n",
    "    }\n",
    ")"
   ],
   "metadata": {
    "collapsed": false,
    "pycharm": {
     "name": "#%%\n"
    }
   }
  },
  {
   "cell_type": "code",
   "execution_count": 9,
   "outputs": [
    {
     "data": {
      "text/plain": "   Gender Economic Status      Height      Weight        Age        Income\n0    Male            Rich  130.954657   82.030005  49.172911  18306.163564\n1    Male            Poor  145.821054   73.047929  44.957608  14460.294757\n2  Female            Rich  185.385028  103.898766   8.140874  19429.702651\n3  Female            Rich  149.525801   80.887183  32.035615  16517.832869\n4    Male            Rich  174.184762   70.564623  29.118485  17498.399980",
      "text/html": "<div>\n<style scoped>\n    .dataframe tbody tr th:only-of-type {\n        vertical-align: middle;\n    }\n\n    .dataframe tbody tr th {\n        vertical-align: top;\n    }\n\n    .dataframe thead th {\n        text-align: right;\n    }\n</style>\n<table border=\"1\" class=\"dataframe\">\n  <thead>\n    <tr style=\"text-align: right;\">\n      <th></th>\n      <th>Gender</th>\n      <th>Economic Status</th>\n      <th>Height</th>\n      <th>Weight</th>\n      <th>Age</th>\n      <th>Income</th>\n    </tr>\n  </thead>\n  <tbody>\n    <tr>\n      <th>0</th>\n      <td>Male</td>\n      <td>Rich</td>\n      <td>130.954657</td>\n      <td>82.030005</td>\n      <td>49.172911</td>\n      <td>18306.163564</td>\n    </tr>\n    <tr>\n      <th>1</th>\n      <td>Male</td>\n      <td>Poor</td>\n      <td>145.821054</td>\n      <td>73.047929</td>\n      <td>44.957608</td>\n      <td>14460.294757</td>\n    </tr>\n    <tr>\n      <th>2</th>\n      <td>Female</td>\n      <td>Rich</td>\n      <td>185.385028</td>\n      <td>103.898766</td>\n      <td>8.140874</td>\n      <td>19429.702651</td>\n    </tr>\n    <tr>\n      <th>3</th>\n      <td>Female</td>\n      <td>Rich</td>\n      <td>149.525801</td>\n      <td>80.887183</td>\n      <td>32.035615</td>\n      <td>16517.832869</td>\n    </tr>\n    <tr>\n      <th>4</th>\n      <td>Male</td>\n      <td>Rich</td>\n      <td>174.184762</td>\n      <td>70.564623</td>\n      <td>29.118485</td>\n      <td>17498.399980</td>\n    </tr>\n  </tbody>\n</table>\n</div>"
     },
     "execution_count": 9,
     "metadata": {},
     "output_type": "execute_result"
    }
   ],
   "source": [
    "data.head()"
   ],
   "metadata": {
    "collapsed": false,
    "pycharm": {
     "name": "#%%\n"
    }
   }
  },
  {
   "cell_type": "markdown",
   "source": [
    "## Agrupación de datos"
   ],
   "metadata": {
    "collapsed": false,
    "pycharm": {
     "name": "#%% md\n"
    }
   }
  },
  {
   "cell_type": "code",
   "execution_count": 11,
   "outputs": [],
   "source": [
    "grouped_gender = data.groupby('Gender')"
   ],
   "metadata": {
    "collapsed": false,
    "pycharm": {
     "name": "#%%\n"
    }
   }
  },
  {
   "cell_type": "code",
   "execution_count": 12,
   "outputs": [
    {
     "data": {
      "text/plain": "{'Female': [2, 3, 5, 6, 7, 8, 11, 12, 15, 17, 18, 19, 20, 22, 28, 29, 30, 32, 33, 37, 38, 39, 43, 49, 54, 56, 57, 59, 60, 62, 65, 66, 68, 70, 74, 75, 78, 79, 81, 84, 85, 87, 88, 90, 91, 95, 96, 98, 100, 104, 106, 108, 110, 111, 112, 113, 114, 116, 117, 118, 119, 120, 121, 122, 124, 125, 127, 128, 129, 134, 135, 138, 140, 143, 144, 146, 147, 148, 150, 151, 154, 158, 159, 161, 163, 165, 167, 168, 169, 173, 174, 176, 178, 184, 185, 186, 187, 190, 192, 193, ...], 'Male': [0, 1, 4, 9, 10, 13, 14, 16, 21, 23, 24, 25, 26, 27, 31, 34, 35, 36, 40, 41, 42, 44, 45, 46, 47, 48, 50, 51, 52, 53, 55, 58, 61, 63, 64, 67, 69, 71, 72, 73, 76, 77, 80, 82, 83, 86, 89, 92, 93, 94, 97, 99, 101, 102, 103, 105, 107, 109, 115, 123, 126, 130, 131, 132, 133, 136, 137, 139, 141, 142, 145, 149, 152, 153, 155, 156, 157, 160, 162, 164, 166, 170, 171, 172, 175, 177, 179, 180, 181, 182, 183, 188, 189, 191, 194, 195, 198, 200, 201, 205, ...]}"
     },
     "execution_count": 12,
     "metadata": {},
     "output_type": "execute_result"
    }
   ],
   "source": [
    "grouped_gender.groups"
   ],
   "metadata": {
    "collapsed": false,
    "pycharm": {
     "name": "#%%\n"
    }
   }
  },
  {
   "cell_type": "code",
   "execution_count": 13,
   "outputs": [
    {
     "name": "stdout",
     "output_type": "stream",
     "text": [
      "Female\n",
      "     Gender Economic Status      Height      Weight        Age        Income\n",
      "2    Female            Rich  185.385028  103.898766   8.140874  19429.702651\n",
      "3    Female            Rich  149.525801   80.887183  32.035615  16517.832869\n",
      "5    Female            Rich  162.695014  100.204533  38.062671  17746.413812\n",
      "6    Female    Middle Class  151.711038   70.346840  32.594538  20012.096635\n",
      "7    Female            Rich  146.813913   98.614505   6.885392  17913.183431\n",
      "..      ...             ...         ...         ...        ...           ...\n",
      "486  Female            Poor  148.892978   47.314308  32.192263  18939.588347\n",
      "487  Female            Poor  164.848955  133.474445   7.746740  16224.323916\n",
      "492  Female    Middle Class  172.396072   61.681724  33.989725  15583.718261\n",
      "498  Female    Middle Class  190.578221   90.037021  47.134214  19687.097480\n",
      "499  Female            Rich  231.389055   89.323090  29.599171  20478.822467\n",
      "\n",
      "[255 rows x 6 columns]\n",
      "Male\n",
      "    Gender Economic Status      Height      Weight        Age        Income\n",
      "0     Male            Rich  130.954657   82.030005  49.172911  18306.163564\n",
      "1     Male            Poor  145.821054   73.047929  44.957608  14460.294757\n",
      "4     Male            Rich  174.184762   70.564623  29.118485  17498.399980\n",
      "9     Male            Rich  149.772301   82.242390  19.868015  11114.863301\n",
      "10    Male            Poor  167.849977   75.277011  18.855720  24014.607779\n",
      "..     ...             ...         ...         ...        ...           ...\n",
      "493   Male    Middle Class  161.924364  104.344113  28.909647  18333.715932\n",
      "494   Male    Middle Class  183.409269   30.104556  20.727140  16139.021666\n",
      "495   Male            Poor  139.026534   66.768029  35.814671  17111.413862\n",
      "496   Male            Rich  140.210913   67.614083  34.418379  15977.742037\n",
      "497   Male            Rich  134.706423   36.189140  33.586670  17965.319289\n",
      "\n",
      "[245 rows x 6 columns]\n"
     ]
    }
   ],
   "source": [
    "for names, groups in grouped_gender:\n",
    "    print(names)\n",
    "    print(groups)"
   ],
   "metadata": {
    "collapsed": false,
    "pycharm": {
     "name": "#%%\n"
    }
   }
  },
  {
   "cell_type": "code",
   "execution_count": 14,
   "outputs": [
    {
     "data": {
      "text/plain": "     Gender Economic Status      Height      Weight        Age        Income\n2    Female            Rich  185.385028  103.898766   8.140874  19429.702651\n3    Female            Rich  149.525801   80.887183  32.035615  16517.832869\n5    Female            Rich  162.695014  100.204533  38.062671  17746.413812\n6    Female    Middle Class  151.711038   70.346840  32.594538  20012.096635\n7    Female            Rich  146.813913   98.614505   6.885392  17913.183431\n..      ...             ...         ...         ...        ...           ...\n486  Female            Poor  148.892978   47.314308  32.192263  18939.588347\n487  Female            Poor  164.848955  133.474445   7.746740  16224.323916\n492  Female    Middle Class  172.396072   61.681724  33.989725  15583.718261\n498  Female    Middle Class  190.578221   90.037021  47.134214  19687.097480\n499  Female            Rich  231.389055   89.323090  29.599171  20478.822467\n\n[255 rows x 6 columns]",
      "text/html": "<div>\n<style scoped>\n    .dataframe tbody tr th:only-of-type {\n        vertical-align: middle;\n    }\n\n    .dataframe tbody tr th {\n        vertical-align: top;\n    }\n\n    .dataframe thead th {\n        text-align: right;\n    }\n</style>\n<table border=\"1\" class=\"dataframe\">\n  <thead>\n    <tr style=\"text-align: right;\">\n      <th></th>\n      <th>Gender</th>\n      <th>Economic Status</th>\n      <th>Height</th>\n      <th>Weight</th>\n      <th>Age</th>\n      <th>Income</th>\n    </tr>\n  </thead>\n  <tbody>\n    <tr>\n      <th>2</th>\n      <td>Female</td>\n      <td>Rich</td>\n      <td>185.385028</td>\n      <td>103.898766</td>\n      <td>8.140874</td>\n      <td>19429.702651</td>\n    </tr>\n    <tr>\n      <th>3</th>\n      <td>Female</td>\n      <td>Rich</td>\n      <td>149.525801</td>\n      <td>80.887183</td>\n      <td>32.035615</td>\n      <td>16517.832869</td>\n    </tr>\n    <tr>\n      <th>5</th>\n      <td>Female</td>\n      <td>Rich</td>\n      <td>162.695014</td>\n      <td>100.204533</td>\n      <td>38.062671</td>\n      <td>17746.413812</td>\n    </tr>\n    <tr>\n      <th>6</th>\n      <td>Female</td>\n      <td>Middle Class</td>\n      <td>151.711038</td>\n      <td>70.346840</td>\n      <td>32.594538</td>\n      <td>20012.096635</td>\n    </tr>\n    <tr>\n      <th>7</th>\n      <td>Female</td>\n      <td>Rich</td>\n      <td>146.813913</td>\n      <td>98.614505</td>\n      <td>6.885392</td>\n      <td>17913.183431</td>\n    </tr>\n    <tr>\n      <th>...</th>\n      <td>...</td>\n      <td>...</td>\n      <td>...</td>\n      <td>...</td>\n      <td>...</td>\n      <td>...</td>\n    </tr>\n    <tr>\n      <th>486</th>\n      <td>Female</td>\n      <td>Poor</td>\n      <td>148.892978</td>\n      <td>47.314308</td>\n      <td>32.192263</td>\n      <td>18939.588347</td>\n    </tr>\n    <tr>\n      <th>487</th>\n      <td>Female</td>\n      <td>Poor</td>\n      <td>164.848955</td>\n      <td>133.474445</td>\n      <td>7.746740</td>\n      <td>16224.323916</td>\n    </tr>\n    <tr>\n      <th>492</th>\n      <td>Female</td>\n      <td>Middle Class</td>\n      <td>172.396072</td>\n      <td>61.681724</td>\n      <td>33.989725</td>\n      <td>15583.718261</td>\n    </tr>\n    <tr>\n      <th>498</th>\n      <td>Female</td>\n      <td>Middle Class</td>\n      <td>190.578221</td>\n      <td>90.037021</td>\n      <td>47.134214</td>\n      <td>19687.097480</td>\n    </tr>\n    <tr>\n      <th>499</th>\n      <td>Female</td>\n      <td>Rich</td>\n      <td>231.389055</td>\n      <td>89.323090</td>\n      <td>29.599171</td>\n      <td>20478.822467</td>\n    </tr>\n  </tbody>\n</table>\n<p>255 rows × 6 columns</p>\n</div>"
     },
     "execution_count": 14,
     "metadata": {},
     "output_type": "execute_result"
    }
   ],
   "source": [
    "grouped_gender.get_group('Female')"
   ],
   "metadata": {
    "collapsed": false,
    "pycharm": {
     "name": "#%%\n"
    }
   }
  },
  {
   "cell_type": "code",
   "execution_count": 15,
   "outputs": [],
   "source": [
    "double_group = data.groupby(['Gender', 'Economic Status'])"
   ],
   "metadata": {
    "collapsed": false,
    "pycharm": {
     "name": "#%%\n"
    }
   }
  },
  {
   "cell_type": "code",
   "execution_count": 16,
   "outputs": [
    {
     "data": {
      "text/plain": "6"
     },
     "execution_count": 16,
     "metadata": {},
     "output_type": "execute_result"
    }
   ],
   "source": [
    "len(double_group)"
   ],
   "metadata": {
    "collapsed": false,
    "pycharm": {
     "name": "#%%\n"
    }
   }
  },
  {
   "cell_type": "code",
   "execution_count": 17,
   "outputs": [
    {
     "name": "stdout",
     "output_type": "stream",
     "text": [
      "('Female', 'Middle Class')\n",
      "     Gender Economic Status      Height     Weight        Age        Income\n",
      "6    Female    Middle Class  151.711038  70.346840  32.594538  20012.096635\n",
      "18   Female    Middle Class  124.536247  55.387593  33.998416  19535.534996\n",
      "22   Female    Middle Class  108.975275  70.307017  29.424043  19693.144153\n",
      "29   Female    Middle Class  157.410065  68.731084  32.950370  18232.920679\n",
      "32   Female    Middle Class  125.134652  47.691704  24.889726  21339.468728\n",
      "..      ...             ...         ...        ...        ...           ...\n",
      "466  Female    Middle Class  167.794169  50.747344  16.814686  20708.134909\n",
      "473  Female    Middle Class  139.593675  95.016026  46.544848  17164.348339\n",
      "481  Female    Middle Class  130.060262  71.667127  21.186120  13363.184262\n",
      "492  Female    Middle Class  172.396072  61.681724  33.989725  15583.718261\n",
      "498  Female    Middle Class  190.578221  90.037021  47.134214  19687.097480\n",
      "\n",
      "[88 rows x 6 columns]\n",
      "('Female', 'Poor')\n",
      "     Gender Economic Status      Height      Weight        Age        Income\n",
      "15   Female            Poor  153.243257   12.185789  46.913776  13928.589350\n",
      "17   Female            Poor  188.636883   64.298250  30.827312  17166.596566\n",
      "19   Female            Poor  159.311113   50.236585  40.089780  24564.236398\n",
      "20   Female            Poor  134.414378   42.149833  41.131229  21150.236347\n",
      "30   Female            Poor  142.114098   70.324443  47.303101  15899.966065\n",
      "..      ...             ...         ...         ...        ...           ...\n",
      "475  Female            Poor   94.042857   73.213551  25.348393  15662.938478\n",
      "476  Female            Poor  186.640476   61.506841  40.080514  18549.384616\n",
      "482  Female            Poor  174.410703   74.955051   9.681388  12793.652616\n",
      "486  Female            Poor  148.892978   47.314308  32.192263  18939.588347\n",
      "487  Female            Poor  164.848955  133.474445   7.746740  16224.323916\n",
      "\n",
      "[92 rows x 6 columns]\n",
      "('Female', 'Rich')\n",
      "     Gender Economic Status      Height      Weight        Age        Income\n",
      "2    Female            Rich  185.385028  103.898766   8.140874  19429.702651\n",
      "3    Female            Rich  149.525801   80.887183  32.035615  16517.832869\n",
      "5    Female            Rich  162.695014  100.204533  38.062671  17746.413812\n",
      "7    Female            Rich  146.813913   98.614505   6.885392  17913.183431\n",
      "8    Female            Rich  155.965439   64.542357  29.709341  20000.475626\n",
      "..      ...             ...         ...         ...        ...           ...\n",
      "459  Female            Rich  178.463968   94.320541  52.480796  17662.970359\n",
      "472  Female            Rich  163.245132   23.962445  28.658725  16439.441671\n",
      "484  Female            Rich  165.036788   45.540966  34.259610  22123.105576\n",
      "485  Female            Rich  161.132692   39.543133  33.777488   7504.964274\n",
      "499  Female            Rich  231.389055   89.323090  29.599171  20478.822467\n",
      "\n",
      "[75 rows x 6 columns]\n",
      "('Male', 'Middle Class')\n",
      "    Gender Economic Status      Height      Weight        Age        Income\n",
      "23    Male    Middle Class  181.101473   43.886696  29.302714  21708.437174\n",
      "24    Male    Middle Class  156.364821  133.637426  16.756479  17353.760865\n",
      "34    Male    Middle Class  186.820941   44.819195  36.359489  12327.201388\n",
      "45    Male    Middle Class  215.036787   90.803477  30.686701  15256.684418\n",
      "47    Male    Middle Class  194.758540   47.267957  38.863003  16614.705338\n",
      "..     ...             ...         ...         ...        ...           ...\n",
      "478   Male    Middle Class  119.789418   58.841856  36.654241  18694.846780\n",
      "488   Male    Middle Class  169.104454   56.500562  31.206797  20190.550935\n",
      "491   Male    Middle Class  130.913941   56.524011  28.509451  24176.799958\n",
      "493   Male    Middle Class  161.924364  104.344113  28.909647  18333.715932\n",
      "494   Male    Middle Class  183.409269   30.104556  20.727140  16139.021666\n",
      "\n",
      "[77 rows x 6 columns]\n",
      "('Male', 'Poor')\n",
      "    Gender Economic Status      Height     Weight        Age        Income\n",
      "1     Male            Poor  145.821054  73.047929  44.957608  14460.294757\n",
      "10    Male            Poor  167.849977  75.277011  18.855720  24014.607779\n",
      "14    Male            Poor  211.740613  63.964009   5.560474  12004.998825\n",
      "21    Male            Poor  124.155839  75.890590  29.612586  14219.752472\n",
      "26    Male            Poor  153.140569  65.807572  14.244906  18534.920091\n",
      "..     ...             ...         ...        ...        ...           ...\n",
      "467   Male            Poor  126.043343  26.173334  27.144749  15649.956739\n",
      "468   Male            Poor  144.408867  86.424123  27.017709  19514.990641\n",
      "474   Male            Poor  148.323989  57.534385  31.050179  20665.684042\n",
      "479   Male            Poor  188.150024  74.715370  20.517976  19235.904888\n",
      "495   Male            Poor  139.026534  66.768029  35.814671  17111.413862\n",
      "\n",
      "[84 rows x 6 columns]\n",
      "('Male', 'Rich')\n",
      "    Gender Economic Status      Height     Weight        Age        Income\n",
      "0     Male            Rich  130.954657  82.030005  49.172911  18306.163564\n",
      "4     Male            Rich  174.184762  70.564623  29.118485  17498.399980\n",
      "9     Male            Rich  149.772301  82.242390  19.868015  11114.863301\n",
      "13    Male            Rich  151.001489  76.355116  32.249535  19480.276921\n",
      "16    Male            Rich   98.982071  44.132609  28.952950  15510.679436\n",
      "..     ...             ...         ...        ...        ...           ...\n",
      "483   Male            Rich  221.889943  96.334417  42.392026  25919.600267\n",
      "489   Male            Rich  163.233020  79.732240  18.227568  20670.340535\n",
      "490   Male            Rich  174.959852  52.498154  49.454102  15471.153610\n",
      "496   Male            Rich  140.210913  67.614083  34.418379  15977.742037\n",
      "497   Male            Rich  134.706423  36.189140  33.586670  17965.319289\n",
      "\n",
      "[84 rows x 6 columns]\n"
     ]
    }
   ],
   "source": [
    "for names, groups in double_group:\n",
    "    print(names)\n",
    "    print(groups)"
   ],
   "metadata": {
    "collapsed": false,
    "pycharm": {
     "name": "#%%\n"
    }
   }
  },
  {
   "cell_type": "markdown",
   "source": [
    "## Operaciones sobre datos agrupados"
   ],
   "metadata": {
    "collapsed": false,
    "pycharm": {
     "name": "#%% md\n"
    }
   }
  },
  {
   "cell_type": "code",
   "execution_count": 18,
   "outputs": [
    {
     "data": {
      "text/plain": "                              Height       Weight          Age        Income\nGender Economic Status                                                      \nFemale Middle Class     14200.071588  5347.548240  2717.971635  1.616521e+06\n       Poor             14200.075866  5838.616937  2773.543523  1.624692e+06\n       Rich             12266.276964  5027.148785  2137.637154  1.355101e+06\nMale   Middle Class     12499.672424  4579.148395  2304.686679  1.373526e+06\n       Poor             13254.955458  5442.994647  2135.848708  1.470554e+06\n       Rich             13914.435831  5603.073464  2649.880672  1.483203e+06",
      "text/html": "<div>\n<style scoped>\n    .dataframe tbody tr th:only-of-type {\n        vertical-align: middle;\n    }\n\n    .dataframe tbody tr th {\n        vertical-align: top;\n    }\n\n    .dataframe thead th {\n        text-align: right;\n    }\n</style>\n<table border=\"1\" class=\"dataframe\">\n  <thead>\n    <tr style=\"text-align: right;\">\n      <th></th>\n      <th></th>\n      <th>Height</th>\n      <th>Weight</th>\n      <th>Age</th>\n      <th>Income</th>\n    </tr>\n    <tr>\n      <th>Gender</th>\n      <th>Economic Status</th>\n      <th></th>\n      <th></th>\n      <th></th>\n      <th></th>\n    </tr>\n  </thead>\n  <tbody>\n    <tr>\n      <th rowspan=\"3\" valign=\"top\">Female</th>\n      <th>Middle Class</th>\n      <td>14200.071588</td>\n      <td>5347.548240</td>\n      <td>2717.971635</td>\n      <td>1.616521e+06</td>\n    </tr>\n    <tr>\n      <th>Poor</th>\n      <td>14200.075866</td>\n      <td>5838.616937</td>\n      <td>2773.543523</td>\n      <td>1.624692e+06</td>\n    </tr>\n    <tr>\n      <th>Rich</th>\n      <td>12266.276964</td>\n      <td>5027.148785</td>\n      <td>2137.637154</td>\n      <td>1.355101e+06</td>\n    </tr>\n    <tr>\n      <th rowspan=\"3\" valign=\"top\">Male</th>\n      <th>Middle Class</th>\n      <td>12499.672424</td>\n      <td>4579.148395</td>\n      <td>2304.686679</td>\n      <td>1.373526e+06</td>\n    </tr>\n    <tr>\n      <th>Poor</th>\n      <td>13254.955458</td>\n      <td>5442.994647</td>\n      <td>2135.848708</td>\n      <td>1.470554e+06</td>\n    </tr>\n    <tr>\n      <th>Rich</th>\n      <td>13914.435831</td>\n      <td>5603.073464</td>\n      <td>2649.880672</td>\n      <td>1.483203e+06</td>\n    </tr>\n  </tbody>\n</table>\n</div>"
     },
     "execution_count": 18,
     "metadata": {},
     "output_type": "execute_result"
    }
   ],
   "source": [
    "double_group.sum()"
   ],
   "metadata": {
    "collapsed": false,
    "pycharm": {
     "name": "#%%\n"
    }
   }
  },
  {
   "cell_type": "code",
   "execution_count": 19,
   "outputs": [
    {
     "data": {
      "text/plain": "                            Height     Weight        Age        Income\nGender Economic Status                                                \nFemale Middle Class     161.364450  60.767594  30.886041  18369.552063\n       Poor             154.348651  63.463228  30.147212  17659.697935\n       Rich             163.550360  67.028650  28.501829  18068.007495\nMale   Middle Class     162.333408  59.469460  29.930996  17838.000929\n       Poor             157.797089  64.797555  25.426770  17506.594995\n       Rich             165.648046  66.703256  31.546198  17657.176590",
      "text/html": "<div>\n<style scoped>\n    .dataframe tbody tr th:only-of-type {\n        vertical-align: middle;\n    }\n\n    .dataframe tbody tr th {\n        vertical-align: top;\n    }\n\n    .dataframe thead th {\n        text-align: right;\n    }\n</style>\n<table border=\"1\" class=\"dataframe\">\n  <thead>\n    <tr style=\"text-align: right;\">\n      <th></th>\n      <th></th>\n      <th>Height</th>\n      <th>Weight</th>\n      <th>Age</th>\n      <th>Income</th>\n    </tr>\n    <tr>\n      <th>Gender</th>\n      <th>Economic Status</th>\n      <th></th>\n      <th></th>\n      <th></th>\n      <th></th>\n    </tr>\n  </thead>\n  <tbody>\n    <tr>\n      <th rowspan=\"3\" valign=\"top\">Female</th>\n      <th>Middle Class</th>\n      <td>161.364450</td>\n      <td>60.767594</td>\n      <td>30.886041</td>\n      <td>18369.552063</td>\n    </tr>\n    <tr>\n      <th>Poor</th>\n      <td>154.348651</td>\n      <td>63.463228</td>\n      <td>30.147212</td>\n      <td>17659.697935</td>\n    </tr>\n    <tr>\n      <th>Rich</th>\n      <td>163.550360</td>\n      <td>67.028650</td>\n      <td>28.501829</td>\n      <td>18068.007495</td>\n    </tr>\n    <tr>\n      <th rowspan=\"3\" valign=\"top\">Male</th>\n      <th>Middle Class</th>\n      <td>162.333408</td>\n      <td>59.469460</td>\n      <td>29.930996</td>\n      <td>17838.000929</td>\n    </tr>\n    <tr>\n      <th>Poor</th>\n      <td>157.797089</td>\n      <td>64.797555</td>\n      <td>25.426770</td>\n      <td>17506.594995</td>\n    </tr>\n    <tr>\n      <th>Rich</th>\n      <td>165.648046</td>\n      <td>66.703256</td>\n      <td>31.546198</td>\n      <td>17657.176590</td>\n    </tr>\n  </tbody>\n</table>\n</div>"
     },
     "execution_count": 19,
     "metadata": {},
     "output_type": "execute_result"
    }
   ],
   "source": [
    "double_group.mean()"
   ],
   "metadata": {
    "collapsed": false,
    "pycharm": {
     "name": "#%%\n"
    }
   }
  },
  {
   "cell_type": "code",
   "execution_count": 20,
   "outputs": [
    {
     "data": {
      "text/plain": "Gender  Economic Status\nFemale  Middle Class       88\n        Poor               92\n        Rich               75\nMale    Middle Class       77\n        Poor               84\n        Rich               84\ndtype: int64"
     },
     "execution_count": 20,
     "metadata": {},
     "output_type": "execute_result"
    }
   ],
   "source": [
    "double_group.size()"
   ],
   "metadata": {
    "collapsed": false,
    "pycharm": {
     "name": "#%%\n"
    }
   }
  },
  {
   "cell_type": "code",
   "execution_count": 21,
   "outputs": [
    {
     "data": {
      "text/plain": "                       Height                                                \\\n                        count        mean        std        min         25%   \nGender Economic Status                                                        \nFemale Middle Class      88.0  161.364450  30.837037  92.192811  140.530968   \n       Poor              92.0  154.348651  29.909480  84.652246  136.380069   \n       Rich              75.0  163.550360  30.924494  92.527506  140.351125   \nMale   Middle Class      77.0  162.333408  26.167534  93.539171  147.704704   \n       Poor              84.0  157.797089  31.358268  83.964835  141.588479   \n       Rich              84.0  165.648046  26.562274  96.730336  150.215055   \n\n                                                           Weight             \\\n                               50%         75%         max  count       mean   \nGender Economic Status                                                         \nFemale Middle Class     162.329762  184.081648  233.999908   88.0  60.767594   \n       Poor             152.668894  175.644397  242.879056   92.0  63.463228   \n       Rich             161.959453  182.994308  231.389055   75.0  67.028650   \nMale   Middle Class     161.920608  175.319465  235.930144   77.0  59.469460   \n       Poor             152.940937  178.809654  244.892262   84.0  64.797555   \n       Rich             168.438081  181.116272  222.732400   84.0  66.703256   \n\n                        ...        Age            Income                \\\n                        ...        75%        max  count          mean   \nGender Economic Status  ...                                              \nFemale Middle Class     ...  37.480177  59.573353   88.0  18369.552063   \n       Poor             ...  38.732503  60.167077   92.0  17659.697935   \n       Rich             ...  36.375131  52.480796   75.0  18068.007495   \nMale   Middle Class     ...  36.815335  63.975439   77.0  17838.000929   \n       Poor             ...  33.355138  57.459567   84.0  17506.594995   \n       Rich             ...  39.116192  62.629338   84.0  17657.176590   \n\n                                                                               \\\n                                std           min           25%           50%   \nGender Economic Status                                                          \nFemale Middle Class     3445.242572   6011.226314  16792.512631  19034.182543   \n       Poor             3263.481930  11137.419719  15519.226852  17612.049754   \n       Rich             3681.404397   7504.964274  16404.888618  18188.122283   \nMale   Middle Class     3935.538895  10153.342102  15256.684418  17513.708706   \n       Poor             3483.784216  10348.719113  14418.924974  17604.802426   \n       Rich             3886.378521   9547.624771  15227.551043  17562.535293   \n\n                                                    \n                                 75%           max  \nGender Economic Status                              \nFemale Middle Class     20348.135852  25668.278753  \n       Poor             20060.233713  24968.796301  \n       Rich             20335.008946  28339.260058  \nMale   Middle Class     19857.565472  28595.852361  \n       Poor             19814.764116  25747.798152  \n       Rich             19590.279469  27422.853583  \n\n[6 rows x 32 columns]",
      "text/html": "<div>\n<style scoped>\n    .dataframe tbody tr th:only-of-type {\n        vertical-align: middle;\n    }\n\n    .dataframe tbody tr th {\n        vertical-align: top;\n    }\n\n    .dataframe thead tr th {\n        text-align: left;\n    }\n\n    .dataframe thead tr:last-of-type th {\n        text-align: right;\n    }\n</style>\n<table border=\"1\" class=\"dataframe\">\n  <thead>\n    <tr>\n      <th></th>\n      <th></th>\n      <th colspan=\"8\" halign=\"left\">Height</th>\n      <th colspan=\"2\" halign=\"left\">Weight</th>\n      <th>...</th>\n      <th colspan=\"2\" halign=\"left\">Age</th>\n      <th colspan=\"8\" halign=\"left\">Income</th>\n    </tr>\n    <tr>\n      <th></th>\n      <th></th>\n      <th>count</th>\n      <th>mean</th>\n      <th>std</th>\n      <th>min</th>\n      <th>25%</th>\n      <th>50%</th>\n      <th>75%</th>\n      <th>max</th>\n      <th>count</th>\n      <th>mean</th>\n      <th>...</th>\n      <th>75%</th>\n      <th>max</th>\n      <th>count</th>\n      <th>mean</th>\n      <th>std</th>\n      <th>min</th>\n      <th>25%</th>\n      <th>50%</th>\n      <th>75%</th>\n      <th>max</th>\n    </tr>\n    <tr>\n      <th>Gender</th>\n      <th>Economic Status</th>\n      <th></th>\n      <th></th>\n      <th></th>\n      <th></th>\n      <th></th>\n      <th></th>\n      <th></th>\n      <th></th>\n      <th></th>\n      <th></th>\n      <th></th>\n      <th></th>\n      <th></th>\n      <th></th>\n      <th></th>\n      <th></th>\n      <th></th>\n      <th></th>\n      <th></th>\n      <th></th>\n      <th></th>\n    </tr>\n  </thead>\n  <tbody>\n    <tr>\n      <th rowspan=\"3\" valign=\"top\">Female</th>\n      <th>Middle Class</th>\n      <td>88.0</td>\n      <td>161.364450</td>\n      <td>30.837037</td>\n      <td>92.192811</td>\n      <td>140.530968</td>\n      <td>162.329762</td>\n      <td>184.081648</td>\n      <td>233.999908</td>\n      <td>88.0</td>\n      <td>60.767594</td>\n      <td>...</td>\n      <td>37.480177</td>\n      <td>59.573353</td>\n      <td>88.0</td>\n      <td>18369.552063</td>\n      <td>3445.242572</td>\n      <td>6011.226314</td>\n      <td>16792.512631</td>\n      <td>19034.182543</td>\n      <td>20348.135852</td>\n      <td>25668.278753</td>\n    </tr>\n    <tr>\n      <th>Poor</th>\n      <td>92.0</td>\n      <td>154.348651</td>\n      <td>29.909480</td>\n      <td>84.652246</td>\n      <td>136.380069</td>\n      <td>152.668894</td>\n      <td>175.644397</td>\n      <td>242.879056</td>\n      <td>92.0</td>\n      <td>63.463228</td>\n      <td>...</td>\n      <td>38.732503</td>\n      <td>60.167077</td>\n      <td>92.0</td>\n      <td>17659.697935</td>\n      <td>3263.481930</td>\n      <td>11137.419719</td>\n      <td>15519.226852</td>\n      <td>17612.049754</td>\n      <td>20060.233713</td>\n      <td>24968.796301</td>\n    </tr>\n    <tr>\n      <th>Rich</th>\n      <td>75.0</td>\n      <td>163.550360</td>\n      <td>30.924494</td>\n      <td>92.527506</td>\n      <td>140.351125</td>\n      <td>161.959453</td>\n      <td>182.994308</td>\n      <td>231.389055</td>\n      <td>75.0</td>\n      <td>67.028650</td>\n      <td>...</td>\n      <td>36.375131</td>\n      <td>52.480796</td>\n      <td>75.0</td>\n      <td>18068.007495</td>\n      <td>3681.404397</td>\n      <td>7504.964274</td>\n      <td>16404.888618</td>\n      <td>18188.122283</td>\n      <td>20335.008946</td>\n      <td>28339.260058</td>\n    </tr>\n    <tr>\n      <th rowspan=\"3\" valign=\"top\">Male</th>\n      <th>Middle Class</th>\n      <td>77.0</td>\n      <td>162.333408</td>\n      <td>26.167534</td>\n      <td>93.539171</td>\n      <td>147.704704</td>\n      <td>161.920608</td>\n      <td>175.319465</td>\n      <td>235.930144</td>\n      <td>77.0</td>\n      <td>59.469460</td>\n      <td>...</td>\n      <td>36.815335</td>\n      <td>63.975439</td>\n      <td>77.0</td>\n      <td>17838.000929</td>\n      <td>3935.538895</td>\n      <td>10153.342102</td>\n      <td>15256.684418</td>\n      <td>17513.708706</td>\n      <td>19857.565472</td>\n      <td>28595.852361</td>\n    </tr>\n    <tr>\n      <th>Poor</th>\n      <td>84.0</td>\n      <td>157.797089</td>\n      <td>31.358268</td>\n      <td>83.964835</td>\n      <td>141.588479</td>\n      <td>152.940937</td>\n      <td>178.809654</td>\n      <td>244.892262</td>\n      <td>84.0</td>\n      <td>64.797555</td>\n      <td>...</td>\n      <td>33.355138</td>\n      <td>57.459567</td>\n      <td>84.0</td>\n      <td>17506.594995</td>\n      <td>3483.784216</td>\n      <td>10348.719113</td>\n      <td>14418.924974</td>\n      <td>17604.802426</td>\n      <td>19814.764116</td>\n      <td>25747.798152</td>\n    </tr>\n    <tr>\n      <th>Rich</th>\n      <td>84.0</td>\n      <td>165.648046</td>\n      <td>26.562274</td>\n      <td>96.730336</td>\n      <td>150.215055</td>\n      <td>168.438081</td>\n      <td>181.116272</td>\n      <td>222.732400</td>\n      <td>84.0</td>\n      <td>66.703256</td>\n      <td>...</td>\n      <td>39.116192</td>\n      <td>62.629338</td>\n      <td>84.0</td>\n      <td>17657.176590</td>\n      <td>3886.378521</td>\n      <td>9547.624771</td>\n      <td>15227.551043</td>\n      <td>17562.535293</td>\n      <td>19590.279469</td>\n      <td>27422.853583</td>\n    </tr>\n  </tbody>\n</table>\n<p>6 rows × 32 columns</p>\n</div>"
     },
     "execution_count": 21,
     "metadata": {},
     "output_type": "execute_result"
    }
   ],
   "source": [
    "double_group.describe()"
   ],
   "metadata": {
    "collapsed": false,
    "pycharm": {
     "name": "#%%\n"
    }
   }
  },
  {
   "cell_type": "code",
   "execution_count": 22,
   "outputs": [],
   "source": [
    "grouped_income = double_group['Income']"
   ],
   "metadata": {
    "collapsed": false,
    "pycharm": {
     "name": "#%%\n"
    }
   }
  },
  {
   "cell_type": "code",
   "execution_count": 23,
   "outputs": [
    {
     "data": {
      "text/plain": "                        count          mean          std           min  \\\nGender Economic Status                                                   \nFemale Middle Class      88.0  18369.552063  3445.242572   6011.226314   \n       Poor              92.0  17659.697935  3263.481930  11137.419719   \n       Rich              75.0  18068.007495  3681.404397   7504.964274   \nMale   Middle Class      77.0  17838.000929  3935.538895  10153.342102   \n       Poor              84.0  17506.594995  3483.784216  10348.719113   \n       Rich              84.0  17657.176590  3886.378521   9547.624771   \n\n                                 25%           50%           75%           max  \nGender Economic Status                                                          \nFemale Middle Class     16792.512631  19034.182543  20348.135852  25668.278753  \n       Poor             15519.226852  17612.049754  20060.233713  24968.796301  \n       Rich             16404.888618  18188.122283  20335.008946  28339.260058  \nMale   Middle Class     15256.684418  17513.708706  19857.565472  28595.852361  \n       Poor             14418.924974  17604.802426  19814.764116  25747.798152  \n       Rich             15227.551043  17562.535293  19590.279469  27422.853583  ",
      "text/html": "<div>\n<style scoped>\n    .dataframe tbody tr th:only-of-type {\n        vertical-align: middle;\n    }\n\n    .dataframe tbody tr th {\n        vertical-align: top;\n    }\n\n    .dataframe thead th {\n        text-align: right;\n    }\n</style>\n<table border=\"1\" class=\"dataframe\">\n  <thead>\n    <tr style=\"text-align: right;\">\n      <th></th>\n      <th></th>\n      <th>count</th>\n      <th>mean</th>\n      <th>std</th>\n      <th>min</th>\n      <th>25%</th>\n      <th>50%</th>\n      <th>75%</th>\n      <th>max</th>\n    </tr>\n    <tr>\n      <th>Gender</th>\n      <th>Economic Status</th>\n      <th></th>\n      <th></th>\n      <th></th>\n      <th></th>\n      <th></th>\n      <th></th>\n      <th></th>\n      <th></th>\n    </tr>\n  </thead>\n  <tbody>\n    <tr>\n      <th rowspan=\"3\" valign=\"top\">Female</th>\n      <th>Middle Class</th>\n      <td>88.0</td>\n      <td>18369.552063</td>\n      <td>3445.242572</td>\n      <td>6011.226314</td>\n      <td>16792.512631</td>\n      <td>19034.182543</td>\n      <td>20348.135852</td>\n      <td>25668.278753</td>\n    </tr>\n    <tr>\n      <th>Poor</th>\n      <td>92.0</td>\n      <td>17659.697935</td>\n      <td>3263.481930</td>\n      <td>11137.419719</td>\n      <td>15519.226852</td>\n      <td>17612.049754</td>\n      <td>20060.233713</td>\n      <td>24968.796301</td>\n    </tr>\n    <tr>\n      <th>Rich</th>\n      <td>75.0</td>\n      <td>18068.007495</td>\n      <td>3681.404397</td>\n      <td>7504.964274</td>\n      <td>16404.888618</td>\n      <td>18188.122283</td>\n      <td>20335.008946</td>\n      <td>28339.260058</td>\n    </tr>\n    <tr>\n      <th rowspan=\"3\" valign=\"top\">Male</th>\n      <th>Middle Class</th>\n      <td>77.0</td>\n      <td>17838.000929</td>\n      <td>3935.538895</td>\n      <td>10153.342102</td>\n      <td>15256.684418</td>\n      <td>17513.708706</td>\n      <td>19857.565472</td>\n      <td>28595.852361</td>\n    </tr>\n    <tr>\n      <th>Poor</th>\n      <td>84.0</td>\n      <td>17506.594995</td>\n      <td>3483.784216</td>\n      <td>10348.719113</td>\n      <td>14418.924974</td>\n      <td>17604.802426</td>\n      <td>19814.764116</td>\n      <td>25747.798152</td>\n    </tr>\n    <tr>\n      <th>Rich</th>\n      <td>84.0</td>\n      <td>17657.176590</td>\n      <td>3886.378521</td>\n      <td>9547.624771</td>\n      <td>15227.551043</td>\n      <td>17562.535293</td>\n      <td>19590.279469</td>\n      <td>27422.853583</td>\n    </tr>\n  </tbody>\n</table>\n</div>"
     },
     "execution_count": 23,
     "metadata": {},
     "output_type": "execute_result"
    }
   ],
   "source": [
    "grouped_income.describe()"
   ],
   "metadata": {
    "collapsed": false,
    "pycharm": {
     "name": "#%%\n"
    }
   }
  },
  {
   "cell_type": "code",
   "execution_count": 25,
   "outputs": [
    {
     "data": {
      "text/plain": "                              Income        Age     Height\nGender Economic Status                                    \nFemale Middle Class     1.616521e+06  30.886041  30.837037\n       Poor             1.624692e+06  30.147212  29.909480\n       Rich             1.355101e+06  28.501829  30.924494\nMale   Middle Class     1.373526e+06  29.930996  26.167534\n       Poor             1.470554e+06  25.426770  31.358268\n       Rich             1.483203e+06  31.546198  26.562274",
      "text/html": "<div>\n<style scoped>\n    .dataframe tbody tr th:only-of-type {\n        vertical-align: middle;\n    }\n\n    .dataframe tbody tr th {\n        vertical-align: top;\n    }\n\n    .dataframe thead th {\n        text-align: right;\n    }\n</style>\n<table border=\"1\" class=\"dataframe\">\n  <thead>\n    <tr style=\"text-align: right;\">\n      <th></th>\n      <th></th>\n      <th>Income</th>\n      <th>Age</th>\n      <th>Height</th>\n    </tr>\n    <tr>\n      <th>Gender</th>\n      <th>Economic Status</th>\n      <th></th>\n      <th></th>\n      <th></th>\n    </tr>\n  </thead>\n  <tbody>\n    <tr>\n      <th rowspan=\"3\" valign=\"top\">Female</th>\n      <th>Middle Class</th>\n      <td>1.616521e+06</td>\n      <td>30.886041</td>\n      <td>30.837037</td>\n    </tr>\n    <tr>\n      <th>Poor</th>\n      <td>1.624692e+06</td>\n      <td>30.147212</td>\n      <td>29.909480</td>\n    </tr>\n    <tr>\n      <th>Rich</th>\n      <td>1.355101e+06</td>\n      <td>28.501829</td>\n      <td>30.924494</td>\n    </tr>\n    <tr>\n      <th rowspan=\"3\" valign=\"top\">Male</th>\n      <th>Middle Class</th>\n      <td>1.373526e+06</td>\n      <td>29.930996</td>\n      <td>26.167534</td>\n    </tr>\n    <tr>\n      <th>Poor</th>\n      <td>1.470554e+06</td>\n      <td>25.426770</td>\n      <td>31.358268</td>\n    </tr>\n    <tr>\n      <th>Rich</th>\n      <td>1.483203e+06</td>\n      <td>31.546198</td>\n      <td>26.562274</td>\n    </tr>\n  </tbody>\n</table>\n</div>"
     },
     "execution_count": 25,
     "metadata": {},
     "output_type": "execute_result"
    }
   ],
   "source": [
    "double_group.aggregate(\n",
    "    {\n",
    "        'Income': np.sum,\n",
    "        'Age': np.mean,\n",
    "        'Height': np.std\n",
    "    }\n",
    ")"
   ],
   "metadata": {
    "collapsed": false,
    "pycharm": {
     "name": "#%%\n"
    }
   }
  },
  {
   "cell_type": "code",
   "execution_count": 26,
   "outputs": [
    {
     "data": {
      "text/plain": "                              Age    Height\nGender Economic Status                     \nFemale Middle Class     30.886041  5.262801\n       Poor             30.147212  5.188803\n       Rich             28.501829  5.324314\nMale   Middle Class     29.930996  6.244299\n       Poor             25.426770  5.062296\n       Rich             31.546198  6.273670",
      "text/html": "<div>\n<style scoped>\n    .dataframe tbody tr th:only-of-type {\n        vertical-align: middle;\n    }\n\n    .dataframe tbody tr th {\n        vertical-align: top;\n    }\n\n    .dataframe thead th {\n        text-align: right;\n    }\n</style>\n<table border=\"1\" class=\"dataframe\">\n  <thead>\n    <tr style=\"text-align: right;\">\n      <th></th>\n      <th></th>\n      <th>Age</th>\n      <th>Height</th>\n    </tr>\n    <tr>\n      <th>Gender</th>\n      <th>Economic Status</th>\n      <th></th>\n      <th></th>\n    </tr>\n  </thead>\n  <tbody>\n    <tr>\n      <th rowspan=\"3\" valign=\"top\">Female</th>\n      <th>Middle Class</th>\n      <td>30.886041</td>\n      <td>5.262801</td>\n    </tr>\n    <tr>\n      <th>Poor</th>\n      <td>30.147212</td>\n      <td>5.188803</td>\n    </tr>\n    <tr>\n      <th>Rich</th>\n      <td>28.501829</td>\n      <td>5.324314</td>\n    </tr>\n    <tr>\n      <th rowspan=\"3\" valign=\"top\">Male</th>\n      <th>Middle Class</th>\n      <td>29.930996</td>\n      <td>6.244299</td>\n    </tr>\n    <tr>\n      <th>Poor</th>\n      <td>25.426770</td>\n      <td>5.062296</td>\n    </tr>\n    <tr>\n      <th>Rich</th>\n      <td>31.546198</td>\n      <td>6.273670</td>\n    </tr>\n  </tbody>\n</table>\n</div>"
     },
     "execution_count": 26,
     "metadata": {},
     "output_type": "execute_result"
    }
   ],
   "source": [
    "double_group.aggregate(\n",
    "    {\n",
    "        'Age': np.mean,\n",
    "        'Height': lambda h: np.mean(h)/np.std(h)\n",
    "    }\n",
    ")"
   ],
   "metadata": {
    "collapsed": false,
    "pycharm": {
     "name": "#%%\n"
    }
   }
  },
  {
   "cell_type": "code",
   "execution_count": 28,
   "outputs": [
    {
     "data": {
      "text/plain": "                              Height                              Weight  \\\n                                 sum        mean        std          sum   \nGender Economic Status                                                     \nFemale Middle Class     14200.071588  161.364450  30.837037  5347.548240   \n       Poor             14200.075866  154.348651  29.909480  5838.616937   \n       Rich             12266.276964  163.550360  30.924494  5027.148785   \nMale   Middle Class     12499.672424  162.333408  26.167534  4579.148395   \n       Poor             13254.955458  157.797089  31.358268  5442.994647   \n       Rich             13914.435831  165.648046  26.562274  5603.073464   \n\n                                                      Age             \\\n                             mean        std          sum       mean   \nGender Economic Status                                                 \nFemale Middle Class     60.767594  23.504796  2717.971635  30.886041   \n       Poor             63.463228  27.582888  2773.543523  30.147212   \n       Rich             67.028650  25.679995  2137.637154  28.501829   \nMale   Middle Class     59.469460  22.981385  2304.686679  29.930996   \n       Poor             64.797555  23.689916  2135.848708  25.426770   \n       Rich             66.703256  24.284562  2649.880672  31.546198   \n\n                                         Income                             \n                              std           sum          mean          std  \nGender Economic Status                                                      \nFemale Middle Class     12.259094  1.616521e+06  18369.552063  3445.242572  \n       Poor             10.989276  1.624692e+06  17659.697935  3263.481930  \n       Rich             10.665142  1.355101e+06  18068.007495  3681.404397  \nMale   Middle Class     12.100023  1.373526e+06  17838.000929  3935.538895  \n       Poor             11.569469  1.470554e+06  17506.594995  3483.784216  \n       Rich             11.984563  1.483203e+06  17657.176590  3886.378521  ",
      "text/html": "<div>\n<style scoped>\n    .dataframe tbody tr th:only-of-type {\n        vertical-align: middle;\n    }\n\n    .dataframe tbody tr th {\n        vertical-align: top;\n    }\n\n    .dataframe thead tr th {\n        text-align: left;\n    }\n\n    .dataframe thead tr:last-of-type th {\n        text-align: right;\n    }\n</style>\n<table border=\"1\" class=\"dataframe\">\n  <thead>\n    <tr>\n      <th></th>\n      <th></th>\n      <th colspan=\"3\" halign=\"left\">Height</th>\n      <th colspan=\"3\" halign=\"left\">Weight</th>\n      <th colspan=\"3\" halign=\"left\">Age</th>\n      <th colspan=\"3\" halign=\"left\">Income</th>\n    </tr>\n    <tr>\n      <th></th>\n      <th></th>\n      <th>sum</th>\n      <th>mean</th>\n      <th>std</th>\n      <th>sum</th>\n      <th>mean</th>\n      <th>std</th>\n      <th>sum</th>\n      <th>mean</th>\n      <th>std</th>\n      <th>sum</th>\n      <th>mean</th>\n      <th>std</th>\n    </tr>\n    <tr>\n      <th>Gender</th>\n      <th>Economic Status</th>\n      <th></th>\n      <th></th>\n      <th></th>\n      <th></th>\n      <th></th>\n      <th></th>\n      <th></th>\n      <th></th>\n      <th></th>\n      <th></th>\n      <th></th>\n      <th></th>\n    </tr>\n  </thead>\n  <tbody>\n    <tr>\n      <th rowspan=\"3\" valign=\"top\">Female</th>\n      <th>Middle Class</th>\n      <td>14200.071588</td>\n      <td>161.364450</td>\n      <td>30.837037</td>\n      <td>5347.548240</td>\n      <td>60.767594</td>\n      <td>23.504796</td>\n      <td>2717.971635</td>\n      <td>30.886041</td>\n      <td>12.259094</td>\n      <td>1.616521e+06</td>\n      <td>18369.552063</td>\n      <td>3445.242572</td>\n    </tr>\n    <tr>\n      <th>Poor</th>\n      <td>14200.075866</td>\n      <td>154.348651</td>\n      <td>29.909480</td>\n      <td>5838.616937</td>\n      <td>63.463228</td>\n      <td>27.582888</td>\n      <td>2773.543523</td>\n      <td>30.147212</td>\n      <td>10.989276</td>\n      <td>1.624692e+06</td>\n      <td>17659.697935</td>\n      <td>3263.481930</td>\n    </tr>\n    <tr>\n      <th>Rich</th>\n      <td>12266.276964</td>\n      <td>163.550360</td>\n      <td>30.924494</td>\n      <td>5027.148785</td>\n      <td>67.028650</td>\n      <td>25.679995</td>\n      <td>2137.637154</td>\n      <td>28.501829</td>\n      <td>10.665142</td>\n      <td>1.355101e+06</td>\n      <td>18068.007495</td>\n      <td>3681.404397</td>\n    </tr>\n    <tr>\n      <th rowspan=\"3\" valign=\"top\">Male</th>\n      <th>Middle Class</th>\n      <td>12499.672424</td>\n      <td>162.333408</td>\n      <td>26.167534</td>\n      <td>4579.148395</td>\n      <td>59.469460</td>\n      <td>22.981385</td>\n      <td>2304.686679</td>\n      <td>29.930996</td>\n      <td>12.100023</td>\n      <td>1.373526e+06</td>\n      <td>17838.000929</td>\n      <td>3935.538895</td>\n    </tr>\n    <tr>\n      <th>Poor</th>\n      <td>13254.955458</td>\n      <td>157.797089</td>\n      <td>31.358268</td>\n      <td>5442.994647</td>\n      <td>64.797555</td>\n      <td>23.689916</td>\n      <td>2135.848708</td>\n      <td>25.426770</td>\n      <td>11.569469</td>\n      <td>1.470554e+06</td>\n      <td>17506.594995</td>\n      <td>3483.784216</td>\n    </tr>\n    <tr>\n      <th>Rich</th>\n      <td>13914.435831</td>\n      <td>165.648046</td>\n      <td>26.562274</td>\n      <td>5603.073464</td>\n      <td>66.703256</td>\n      <td>24.284562</td>\n      <td>2649.880672</td>\n      <td>31.546198</td>\n      <td>11.984563</td>\n      <td>1.483203e+06</td>\n      <td>17657.176590</td>\n      <td>3886.378521</td>\n    </tr>\n  </tbody>\n</table>\n</div>"
     },
     "execution_count": 28,
     "metadata": {},
     "output_type": "execute_result"
    }
   ],
   "source": [
    "double_group.aggregate([np.sum, np.mean, np.std])"
   ],
   "metadata": {
    "collapsed": false,
    "pycharm": {
     "name": "#%%\n"
    }
   }
  },
  {
   "cell_type": "code",
   "execution_count": 29,
   "outputs": [
    {
     "data": {
      "text/plain": "                          Height    Weight       Age    Income\n                        <lambda>  <lambda>  <lambda>  <lambda>\nGender Economic Status                                        \nFemale Middle Class     5.262801  2.600143  2.533877  5.362416\n       Poor             5.188803  2.313426  2.758362  5.440957\n       Rich             5.324314  2.627727  2.690425  4.940962\nMale   Middle Class     6.244299  2.604692  2.489852  4.562265\n       Poor             5.062296  2.751666  2.210947  5.055348\n       Rich             6.273670  2.763232  2.648045  4.570637",
      "text/html": "<div>\n<style scoped>\n    .dataframe tbody tr th:only-of-type {\n        vertical-align: middle;\n    }\n\n    .dataframe tbody tr th {\n        vertical-align: top;\n    }\n\n    .dataframe thead tr th {\n        text-align: left;\n    }\n\n    .dataframe thead tr:last-of-type th {\n        text-align: right;\n    }\n</style>\n<table border=\"1\" class=\"dataframe\">\n  <thead>\n    <tr>\n      <th></th>\n      <th></th>\n      <th>Height</th>\n      <th>Weight</th>\n      <th>Age</th>\n      <th>Income</th>\n    </tr>\n    <tr>\n      <th></th>\n      <th></th>\n      <th>&lt;lambda&gt;</th>\n      <th>&lt;lambda&gt;</th>\n      <th>&lt;lambda&gt;</th>\n      <th>&lt;lambda&gt;</th>\n    </tr>\n    <tr>\n      <th>Gender</th>\n      <th>Economic Status</th>\n      <th></th>\n      <th></th>\n      <th></th>\n      <th></th>\n    </tr>\n  </thead>\n  <tbody>\n    <tr>\n      <th rowspan=\"3\" valign=\"top\">Female</th>\n      <th>Middle Class</th>\n      <td>5.262801</td>\n      <td>2.600143</td>\n      <td>2.533877</td>\n      <td>5.362416</td>\n    </tr>\n    <tr>\n      <th>Poor</th>\n      <td>5.188803</td>\n      <td>2.313426</td>\n      <td>2.758362</td>\n      <td>5.440957</td>\n    </tr>\n    <tr>\n      <th>Rich</th>\n      <td>5.324314</td>\n      <td>2.627727</td>\n      <td>2.690425</td>\n      <td>4.940962</td>\n    </tr>\n    <tr>\n      <th rowspan=\"3\" valign=\"top\">Male</th>\n      <th>Middle Class</th>\n      <td>6.244299</td>\n      <td>2.604692</td>\n      <td>2.489852</td>\n      <td>4.562265</td>\n    </tr>\n    <tr>\n      <th>Poor</th>\n      <td>5.062296</td>\n      <td>2.751666</td>\n      <td>2.210947</td>\n      <td>5.055348</td>\n    </tr>\n    <tr>\n      <th>Rich</th>\n      <td>6.273670</td>\n      <td>2.763232</td>\n      <td>2.648045</td>\n      <td>4.570637</td>\n    </tr>\n  </tbody>\n</table>\n</div>"
     },
     "execution_count": 29,
     "metadata": {},
     "output_type": "execute_result"
    }
   ],
   "source": [
    "double_group.aggregate([lambda x: np.mean(x)/np.std(x)])"
   ],
   "metadata": {
    "collapsed": false,
    "pycharm": {
     "name": "#%%\n"
    }
   }
  },
  {
   "cell_type": "code",
   "execution_count": null,
   "outputs": [],
   "source": [],
   "metadata": {
    "collapsed": false,
    "pycharm": {
     "name": "#%%\n"
    }
   }
  }
 ],
 "metadata": {
  "kernelspec": {
   "display_name": "Python 3",
   "language": "python",
   "name": "python3"
  },
  "language_info": {
   "codemirror_mode": {
    "name": "ipython",
    "version": 2
   },
   "file_extension": ".py",
   "mimetype": "text/x-python",
   "name": "python",
   "nbconvert_exporter": "python",
   "pygments_lexer": "ipython2",
   "version": "2.7.6"
  }
 },
 "nbformat": 4,
 "nbformat_minor": 0
}